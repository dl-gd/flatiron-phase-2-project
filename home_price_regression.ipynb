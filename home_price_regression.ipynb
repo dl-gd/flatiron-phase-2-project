{
 "cells": [
  {
   "cell_type": "markdown",
   "metadata": {},
   "source": [
    "# Building A Pricing Model For First Time Home Buyers"
   ]
  },
  {
   "cell_type": "markdown",
   "metadata": {},
   "source": [
    "![King_County_WA](images/KingCountyWA.jpg)"
   ]
  },
  {
   "cell_type": "markdown",
   "metadata": {},
   "source": [
    "# Overview"
   ]
  },
  {
   "cell_type": "markdown",
   "metadata": {},
   "source": [
    "In this analysis, I inspect the King County House Sales dataset and iteratively develop a Multiple Regression model to analyze house prices."
   ]
  },
  {
   "cell_type": "markdown",
   "metadata": {},
   "source": [
    "# Business Problem"
   ]
  },
  {
   "cell_type": "markdown",
   "metadata": {},
   "source": [
    "There are lots of residents in King County, Washington who are considering buying their first home. These prospective buyers could benefit immensely from being able to accurately forecast the price of their first home based on a set of given parameters. \n",
    "\n",
    "As an analyst for  DLG Real Estate Agency, I am tasked with developing a regression model to help my fellow employees determine which homes are best for their clients. "
   ]
  },
  {
   "cell_type": "markdown",
   "metadata": {},
   "source": [
    "# Importing Data, Necessary Libraries"
   ]
  },
  {
   "cell_type": "code",
   "execution_count": 1,
   "metadata": {},
   "outputs": [],
   "source": [
    "import pandas as pd\n",
    "import numpy as np\n",
    "import matplotlib.pyplot as plt\n",
    "import seaborn as sns\n",
    "import statsmodels.formula as smf\n",
    "import statsmodels.api as sm\n",
    "from statsmodels.formula.api import ols\n",
    "from statsmodels.graphics.gofplots import qqplot\n",
    "from sklearn.linear_model import LinearRegression\n",
    "from sklearn.model_selection import train_test_split\n",
    "from sklearn.metrics import mean_squared_error\n",
    "from sklearn.metrics import r2_score"
   ]
  },
  {
   "cell_type": "code",
   "execution_count": 2,
   "metadata": {},
   "outputs": [],
   "source": [
    "import warnings\n",
    "warnings.filterwarnings('ignore')"
   ]
  },
  {
   "cell_type": "code",
   "execution_count": 3,
   "metadata": {},
   "outputs": [],
   "source": [
    "pd.set_option(\"display.max_columns\", 100)"
   ]
  },
  {
   "cell_type": "code",
   "execution_count": 4,
   "metadata": {},
   "outputs": [],
   "source": [
    "df = pd.read_csv('data/kc_house_data.csv')"
   ]
  },
  {
   "cell_type": "code",
   "execution_count": 5,
   "metadata": {},
   "outputs": [
    {
     "name": "stdout",
     "output_type": "stream",
     "text": [
      "<class 'pandas.core.frame.DataFrame'>\n",
      "RangeIndex: 21597 entries, 0 to 21596\n",
      "Data columns (total 21 columns):\n",
      " #   Column         Non-Null Count  Dtype  \n",
      "---  ------         --------------  -----  \n",
      " 0   id             21597 non-null  int64  \n",
      " 1   date           21597 non-null  object \n",
      " 2   price          21597 non-null  float64\n",
      " 3   bedrooms       21597 non-null  int64  \n",
      " 4   bathrooms      21597 non-null  float64\n",
      " 5   sqft_living    21597 non-null  int64  \n",
      " 6   sqft_lot       21597 non-null  int64  \n",
      " 7   floors         21597 non-null  float64\n",
      " 8   waterfront     19221 non-null  float64\n",
      " 9   view           21534 non-null  float64\n",
      " 10  condition      21597 non-null  int64  \n",
      " 11  grade          21597 non-null  int64  \n",
      " 12  sqft_above     21597 non-null  int64  \n",
      " 13  sqft_basement  21597 non-null  object \n",
      " 14  yr_built       21597 non-null  int64  \n",
      " 15  yr_renovated   17755 non-null  float64\n",
      " 16  zipcode        21597 non-null  int64  \n",
      " 17  lat            21597 non-null  float64\n",
      " 18  long           21597 non-null  float64\n",
      " 19  sqft_living15  21597 non-null  int64  \n",
      " 20  sqft_lot15     21597 non-null  int64  \n",
      "dtypes: float64(8), int64(11), object(2)\n",
      "memory usage: 3.5+ MB\n"
     ]
    }
   ],
   "source": [
    "df.info()"
   ]
  },
  {
   "cell_type": "markdown",
   "metadata": {},
   "source": [
    "## Column Names and descriptions for Kings County Data Set\n",
    "* **id** - Unique identifier for a house\n",
    "* **date** - Date house was sold\n",
    "* **price** - Price is prediction target\n",
    "* **bedrooms** - Number of Bedrooms/House\n",
    "* **bathrooms** - Number of bathrooms/bedrooms\n",
    "* **sqft_living** - Square footage of the home\n",
    "* **sqft_lot** - Square footage of the lot\n",
    "* **floors** - Total floors (levels) in house\n",
    "* **waterfront** - House which has a view to a waterfront\n",
    "* **view** - score of view from house\n",
    "* **condition** - How good the condition is ( Overall )\n",
    "* **grade** - overall grade given to the housing unit, based on King County grading system\n",
    "* **sqft_above** - square footage of house apart from basement\n",
    "* **sqft_basement** - square footage of the basement\n",
    "* **yr_built** - Built Year\n",
    "* **yr_renovated** - Year when house was renovated\n",
    "* **zipcode** - zip\n",
    "* **lat** - Latitude coordinate\n",
    "* **long** - Longitude coordinate\n",
    "* **sqft_living15** - The square footage of interior housing living space for the nearest 15 neighbors\n",
    "* **sqft_lot15** - The square footage of the land lots of the nearest 15 neighbors"
   ]
  },
  {
   "cell_type": "markdown",
   "metadata": {},
   "source": [
    "Due to time constraints on this project, I am focusing solely on the following predictors: \n",
    "\n",
    "* bedrooms\n",
    "* bathrooms \n",
    "* sqft_living\n",
    "* sqft_lot\n",
    "* floors\n",
    "* waterfront\n",
    "* condition\n",
    "* grade\n",
    "* yr_built\n",
    "* zipcode\n",
    "* view\n",
    "\n",
    "Consequently, all other columns are dropped."
   ]
  },
  {
   "cell_type": "code",
   "execution_count": 6,
   "metadata": {},
   "outputs": [],
   "source": [
    "to_drop = ['date', 'sqft_above', 'sqft_basement', 'yr_renovated', 'lat', 'long', 'sqft_living15', 'sqft_lot15']\n",
    "df.drop(to_drop, axis=1, inplace=True)"
   ]
  },
  {
   "cell_type": "markdown",
   "metadata": {},
   "source": [
    "# Basic Data Cleaning & Initial Model"
   ]
  },
  {
   "cell_type": "markdown",
   "metadata": {},
   "source": [
    "Looking at the DataFrame information provided above, it appears that some columns have varying amounts of null values. Let's drop those and see if there are enough remaining entries for our analysis (at least 15,000). "
   ]
  },
  {
   "cell_type": "code",
   "execution_count": 7,
   "metadata": {},
   "outputs": [],
   "source": [
    "df.dropna(inplace=True)"
   ]
  },
  {
   "cell_type": "code",
   "execution_count": 8,
   "metadata": {},
   "outputs": [
    {
     "name": "stdout",
     "output_type": "stream",
     "text": [
      "<class 'pandas.core.frame.DataFrame'>\n",
      "Int64Index: 19164 entries, 1 to 21596\n",
      "Data columns (total 13 columns):\n",
      " #   Column       Non-Null Count  Dtype  \n",
      "---  ------       --------------  -----  \n",
      " 0   id           19164 non-null  int64  \n",
      " 1   price        19164 non-null  float64\n",
      " 2   bedrooms     19164 non-null  int64  \n",
      " 3   bathrooms    19164 non-null  float64\n",
      " 4   sqft_living  19164 non-null  int64  \n",
      " 5   sqft_lot     19164 non-null  int64  \n",
      " 6   floors       19164 non-null  float64\n",
      " 7   waterfront   19164 non-null  float64\n",
      " 8   view         19164 non-null  float64\n",
      " 9   condition    19164 non-null  int64  \n",
      " 10  grade        19164 non-null  int64  \n",
      " 11  yr_built     19164 non-null  int64  \n",
      " 12  zipcode      19164 non-null  int64  \n",
      "dtypes: float64(5), int64(8)\n",
      "memory usage: 2.0 MB\n"
     ]
    }
   ],
   "source": [
    "df.info()"
   ]
  },
  {
   "cell_type": "code",
   "execution_count": 9,
   "metadata": {},
   "outputs": [
    {
     "data": {
      "text/html": [
       "<div>\n",
       "<style scoped>\n",
       "    .dataframe tbody tr th:only-of-type {\n",
       "        vertical-align: middle;\n",
       "    }\n",
       "\n",
       "    .dataframe tbody tr th {\n",
       "        vertical-align: top;\n",
       "    }\n",
       "\n",
       "    .dataframe thead th {\n",
       "        text-align: right;\n",
       "    }\n",
       "</style>\n",
       "<table border=\"1\" class=\"dataframe\">\n",
       "  <thead>\n",
       "    <tr style=\"text-align: right;\">\n",
       "      <th></th>\n",
       "      <th>id</th>\n",
       "      <th>price</th>\n",
       "      <th>bedrooms</th>\n",
       "      <th>bathrooms</th>\n",
       "      <th>sqft_living</th>\n",
       "      <th>sqft_lot</th>\n",
       "      <th>floors</th>\n",
       "      <th>waterfront</th>\n",
       "      <th>view</th>\n",
       "      <th>condition</th>\n",
       "      <th>grade</th>\n",
       "      <th>yr_built</th>\n",
       "      <th>zipcode</th>\n",
       "    </tr>\n",
       "  </thead>\n",
       "  <tbody>\n",
       "    <tr>\n",
       "      <th>1</th>\n",
       "      <td>6414100192</td>\n",
       "      <td>538000.0</td>\n",
       "      <td>3</td>\n",
       "      <td>2.25</td>\n",
       "      <td>2570</td>\n",
       "      <td>7242</td>\n",
       "      <td>2.0</td>\n",
       "      <td>0.0</td>\n",
       "      <td>0.0</td>\n",
       "      <td>3</td>\n",
       "      <td>7</td>\n",
       "      <td>1951</td>\n",
       "      <td>98125</td>\n",
       "    </tr>\n",
       "    <tr>\n",
       "      <th>2</th>\n",
       "      <td>5631500400</td>\n",
       "      <td>180000.0</td>\n",
       "      <td>2</td>\n",
       "      <td>1.00</td>\n",
       "      <td>770</td>\n",
       "      <td>10000</td>\n",
       "      <td>1.0</td>\n",
       "      <td>0.0</td>\n",
       "      <td>0.0</td>\n",
       "      <td>3</td>\n",
       "      <td>6</td>\n",
       "      <td>1933</td>\n",
       "      <td>98028</td>\n",
       "    </tr>\n",
       "    <tr>\n",
       "      <th>3</th>\n",
       "      <td>2487200875</td>\n",
       "      <td>604000.0</td>\n",
       "      <td>4</td>\n",
       "      <td>3.00</td>\n",
       "      <td>1960</td>\n",
       "      <td>5000</td>\n",
       "      <td>1.0</td>\n",
       "      <td>0.0</td>\n",
       "      <td>0.0</td>\n",
       "      <td>5</td>\n",
       "      <td>7</td>\n",
       "      <td>1965</td>\n",
       "      <td>98136</td>\n",
       "    </tr>\n",
       "    <tr>\n",
       "      <th>4</th>\n",
       "      <td>1954400510</td>\n",
       "      <td>510000.0</td>\n",
       "      <td>3</td>\n",
       "      <td>2.00</td>\n",
       "      <td>1680</td>\n",
       "      <td>8080</td>\n",
       "      <td>1.0</td>\n",
       "      <td>0.0</td>\n",
       "      <td>0.0</td>\n",
       "      <td>3</td>\n",
       "      <td>8</td>\n",
       "      <td>1987</td>\n",
       "      <td>98074</td>\n",
       "    </tr>\n",
       "    <tr>\n",
       "      <th>5</th>\n",
       "      <td>7237550310</td>\n",
       "      <td>1230000.0</td>\n",
       "      <td>4</td>\n",
       "      <td>4.50</td>\n",
       "      <td>5420</td>\n",
       "      <td>101930</td>\n",
       "      <td>1.0</td>\n",
       "      <td>0.0</td>\n",
       "      <td>0.0</td>\n",
       "      <td>3</td>\n",
       "      <td>11</td>\n",
       "      <td>2001</td>\n",
       "      <td>98053</td>\n",
       "    </tr>\n",
       "  </tbody>\n",
       "</table>\n",
       "</div>"
      ],
      "text/plain": [
       "           id      price  bedrooms  bathrooms  sqft_living  sqft_lot  floors  \\\n",
       "1  6414100192   538000.0         3       2.25         2570      7242     2.0   \n",
       "2  5631500400   180000.0         2       1.00          770     10000     1.0   \n",
       "3  2487200875   604000.0         4       3.00         1960      5000     1.0   \n",
       "4  1954400510   510000.0         3       2.00         1680      8080     1.0   \n",
       "5  7237550310  1230000.0         4       4.50         5420    101930     1.0   \n",
       "\n",
       "   waterfront  view  condition  grade  yr_built  zipcode  \n",
       "1         0.0   0.0          3      7      1951    98125  \n",
       "2         0.0   0.0          3      6      1933    98028  \n",
       "3         0.0   0.0          5      7      1965    98136  \n",
       "4         0.0   0.0          3      8      1987    98074  \n",
       "5         0.0   0.0          3     11      2001    98053  "
      ]
     },
     "execution_count": 9,
     "metadata": {},
     "output_type": "execute_result"
    }
   ],
   "source": [
    "df.head()"
   ]
  },
  {
   "cell_type": "markdown",
   "metadata": {},
   "source": [
    "I now create a DataFrame **df_pred** containing only our predictors, dropping the *price* & *id* columns. "
   ]
  },
  {
   "cell_type": "code",
   "execution_count": 10,
   "metadata": {},
   "outputs": [],
   "source": [
    "df_pred = df.drop(['price', 'id'], axis=1)"
   ]
  },
  {
   "cell_type": "markdown",
   "metadata": {},
   "source": [
    "Next, I take a look at the correlation between these features:"
   ]
  },
  {
   "cell_type": "code",
   "execution_count": 11,
   "metadata": {},
   "outputs": [
    {
     "data": {
      "text/plain": [
       "<AxesSubplot:>"
      ]
     },
     "execution_count": 11,
     "metadata": {},
     "output_type": "execute_result"
    },
    {
     "data": {
      "image/png": "[encoded data removed]",
      "text/plain": [
       "<Figure size 864x648 with 2 Axes>"
      ]
     },
     "metadata": {
      "needs_background": "light"
     },
     "output_type": "display_data"
    }
   ],
   "source": [
    "plt.figure(figsize=(12,9))\n",
    "sns.heatmap(df_pred.corr())"
   ]
  },
  {
   "cell_type": "code",
   "execution_count": 12,
   "metadata": {},
   "outputs": [],
   "source": [
    "corr_pair = df_pred.corr().abs().stack().reset_index().sort_values(0, ascending=False)\n",
    "corr_pair['pairs'] = list(zip(corr_pair.level_0, corr_pair.level_1))\n",
    "corr_pair.set_index(['pairs'], inplace = True)\n",
    "corr_pair.drop(columns=['level_1', 'level_0'], inplace = True)\n",
    "corr_pair.columns = ['cc']\n",
    "corr_pair.drop_duplicates(inplace=True)"
   ]
  },
  {
   "cell_type": "code",
   "execution_count": 13,
   "metadata": {},
   "outputs": [
    {
     "data": {
      "text/html": [
       "<div>\n",
       "<style scoped>\n",
       "    .dataframe tbody tr th:only-of-type {\n",
       "        vertical-align: middle;\n",
       "    }\n",
       "\n",
       "    .dataframe tbody tr th {\n",
       "        vertical-align: top;\n",
       "    }\n",
       "\n",
       "    .dataframe thead th {\n",
       "        text-align: right;\n",
       "    }\n",
       "</style>\n",
       "<table border=\"1\" class=\"dataframe\">\n",
       "  <thead>\n",
       "    <tr style=\"text-align: right;\">\n",
       "      <th></th>\n",
       "      <th>cc</th>\n",
       "    </tr>\n",
       "    <tr>\n",
       "      <th>pairs</th>\n",
       "      <th></th>\n",
       "    </tr>\n",
       "  </thead>\n",
       "  <tbody>\n",
       "    <tr>\n",
       "      <th>(sqft_living, grade)</th>\n",
       "      <td>0.763701</td>\n",
       "    </tr>\n",
       "    <tr>\n",
       "      <th>(bathrooms, sqft_living)</th>\n",
       "      <td>0.755909</td>\n",
       "    </tr>\n",
       "  </tbody>\n",
       "</table>\n",
       "</div>"
      ],
      "text/plain": [
       "                                cc\n",
       "pairs                             \n",
       "(sqft_living, grade)      0.763701\n",
       "(bathrooms, sqft_living)  0.755909"
      ]
     },
     "execution_count": 13,
     "metadata": {},
     "output_type": "execute_result"
    }
   ],
   "source": [
    "corr_pair[(corr_pair.cc>.75) & (corr_pair.cc <1)]"
   ]
  },
  {
   "cell_type": "markdown",
   "metadata": {},
   "source": [
    "As seen in both the heatmap & new DataFrame **corr_pair**, the variables *sqft_living*, *grade*, & *bathrooms* are highly correlated (correlation coefficient having an absolute value of over 0.75, indicated on the heatmap by a light shade). \n",
    "\n",
    "In order to remove collinear features, I drop *grade* & *bathrooms*, leaving only the *sqft_living* predictor."
   ]
  },
  {
   "cell_type": "code",
   "execution_count": 14,
   "metadata": {},
   "outputs": [],
   "source": [
    "df_pred.drop(columns=['grade', 'bathrooms'], inplace=True)\n",
    "df.drop(columns=['grade', 'bathrooms'], inplace=True)"
   ]
  },
  {
   "cell_type": "markdown",
   "metadata": {},
   "source": [
    "Next, I inspect how the remaining predictors look when plotted individually against the dependent *price* variable in a scatterplot. \n",
    "\n",
    "These plots will be referenced again later on for any potential feature manipulation."
   ]
  },
  {
   "cell_type": "code",
   "execution_count": 15,
   "metadata": {},
   "outputs": [
    {
     "data": {
      "image/png": "[encoded data removed]",
      "text/plain": [
       "<Figure size 432x288 with 1 Axes>"
      ]
     },
     "metadata": {
      "needs_background": "light"
     },
     "output_type": "display_data"
    },
    {
     "data": {
      "image/png": "[encoded data removed]",
      "text/plain": [
       "<Figure size 432x288 with 1 Axes>"
      ]
     },
     "metadata": {
      "needs_background": "light"
     },
     "output_type": "display_data"
    },
    {
     "data": {
      "image/png": "[encoded data removed]",
      "text/plain": [
       "<Figure size 432x288 with 1 Axes>"
      ]
     },
     "metadata": {
      "needs_background": "light"
     },
     "output_type": "display_data"
    },
    {
     "data": {
      "image/png": "[encoded data removed]",
      "text/plain": [
       "<Figure size 432x288 with 1 Axes>"
      ]
     },
     "metadata": {
      "needs_background": "light"
     },
     "output_type": "display_data"
    },
    {
     "data": {
      "image/png": "[encoded data removed]",
      "text/plain": [
       "<Figure size 432x288 with 1 Axes>"
      ]
     },
     "metadata": {
      "needs_background": "light"
     },
     "output_type": "display_data"
    },
    {
     "data": {
      "image/png": "[encoded data removed]",
      "text/plain": [
       "<Figure size 432x288 with 1 Axes>"
      ]
     },
     "metadata": {
      "needs_background": "light"
     },
     "output_type": "display_data"
    },
    {
     "data": {
      "image/png": "[encoded data removed]",
      "text/plain": [
       "<Figure size 432x288 with 1 Axes>"
      ]
     },
     "metadata": {
      "needs_background": "light"
     },
     "output_type": "display_data"
    },
    {
     "data": {
      "image/png": "[encoded data removed]",
      "text/plain": [
       "<Figure size 432x288 with 1 Axes>"
      ]
     },
     "metadata": {
      "needs_background": "light"
     },
     "output_type": "display_data"
    },
    {
     "data": {
      "image/png": "[encoded data removed]",
      "text/plain": [
       "<Figure size 432x288 with 1 Axes>"
      ]
     },
     "metadata": {
      "needs_background": "light"
     },
     "output_type": "display_data"
    }
   ],
   "source": [
    "for col in df_pred.columns:\n",
    "    plt.scatter(df_pred[col], df['price'])\n",
    "    plt.title(col)\n",
    "    plt.show()"
   ]
  },
  {
   "cell_type": "markdown",
   "metadata": {},
   "source": [
    "I now run a baseline regression model using the above set of predictors, unchanged, before evaluating which features to change."
   ]
  },
  {
   "cell_type": "code",
   "execution_count": 16,
   "metadata": {},
   "outputs": [],
   "source": [
    "outcome = 'price'\n",
    "x_cols = df_pred.columns\n",
    "predictors = '+'.join(x_cols)\n",
    "\n",
    "f = outcome + '~' + predictors"
   ]
  },
  {
   "cell_type": "code",
   "execution_count": 17,
   "metadata": {},
   "outputs": [
    {
     "data": {
      "text/html": [
       "<table class=\"simpletable\">\n",
       "<caption>OLS Regression Results</caption>\n",
       "<tr>\n",
       "  <th>Dep. Variable:</th>          <td>price</td>      <th>  R-squared:         </th>  <td>   0.597</td>  \n",
       "</tr>\n",
       "<tr>\n",
       "  <th>Model:</th>                   <td>OLS</td>       <th>  Adj. R-squared:    </th>  <td>   0.597</td>  \n",
       "</tr>\n",
       "<tr>\n",
       "  <th>Method:</th>             <td>Least Squares</td>  <th>  F-statistic:       </th>  <td>   3149.</td>  \n",
       "</tr>\n",
       "<tr>\n",
       "  <th>Date:</th>             <td>Wed, 27 Jan 2021</td> <th>  Prob (F-statistic):</th>   <td>  0.00</td>   \n",
       "</tr>\n",
       "<tr>\n",
       "  <th>Time:</th>                 <td>16:58:50</td>     <th>  Log-Likelihood:    </th> <td>-2.6424e+05</td>\n",
       "</tr>\n",
       "<tr>\n",
       "  <th>No. Observations:</th>      <td> 19164</td>      <th>  AIC:               </th>  <td>5.285e+05</td> \n",
       "</tr>\n",
       "<tr>\n",
       "  <th>Df Residuals:</th>          <td> 19154</td>      <th>  BIC:               </th>  <td>5.286e+05</td> \n",
       "</tr>\n",
       "<tr>\n",
       "  <th>Df Model:</th>              <td>     9</td>      <th>                     </th>      <td> </td>     \n",
       "</tr>\n",
       "<tr>\n",
       "  <th>Covariance Type:</th>      <td>nonrobust</td>    <th>                     </th>      <td> </td>     \n",
       "</tr>\n",
       "</table>\n",
       "<table class=\"simpletable\">\n",
       "<tr>\n",
       "       <td></td>          <th>coef</th>     <th>std err</th>      <th>t</th>      <th>P>|t|</th>  <th>[0.025</th>    <th>0.975]</th>  \n",
       "</tr>\n",
       "<tr>\n",
       "  <th>Intercept</th>   <td> 6.454e+06</td> <td> 3.51e+06</td> <td>    1.836</td> <td> 0.066</td> <td>-4.35e+05</td> <td> 1.33e+07</td>\n",
       "</tr>\n",
       "<tr>\n",
       "  <th>bedrooms</th>    <td>-5.209e+04</td> <td> 2279.762</td> <td>  -22.848</td> <td> 0.000</td> <td>-5.66e+04</td> <td>-4.76e+04</td>\n",
       "</tr>\n",
       "<tr>\n",
       "  <th>sqft_living</th> <td>  306.9798</td> <td>    2.606</td> <td>  117.804</td> <td> 0.000</td> <td>  301.872</td> <td>  312.087</td>\n",
       "</tr>\n",
       "<tr>\n",
       "  <th>sqft_lot</th>    <td>   -0.3727</td> <td>    0.043</td> <td>   -8.681</td> <td> 0.000</td> <td>   -0.457</td> <td>   -0.289</td>\n",
       "</tr>\n",
       "<tr>\n",
       "  <th>floors</th>      <td> 7.485e+04</td> <td> 3811.423</td> <td>   19.638</td> <td> 0.000</td> <td> 6.74e+04</td> <td> 8.23e+04</td>\n",
       "</tr>\n",
       "<tr>\n",
       "  <th>waterfront</th>  <td> 5.634e+05</td> <td> 2.15e+04</td> <td>   26.174</td> <td> 0.000</td> <td> 5.21e+05</td> <td> 6.06e+05</td>\n",
       "</tr>\n",
       "<tr>\n",
       "  <th>view</th>        <td>  5.94e+04</td> <td> 2586.549</td> <td>   22.965</td> <td> 0.000</td> <td> 5.43e+04</td> <td> 6.45e+04</td>\n",
       "</tr>\n",
       "<tr>\n",
       "  <th>condition</th>   <td> 1.905e+04</td> <td> 2861.467</td> <td>    6.656</td> <td> 0.000</td> <td> 1.34e+04</td> <td> 2.47e+04</td>\n",
       "</tr>\n",
       "<tr>\n",
       "  <th>yr_built</th>    <td>-2494.5937</td> <td>   75.864</td> <td>  -32.883</td> <td> 0.000</td> <td>-2643.293</td> <td>-2345.895</td>\n",
       "</tr>\n",
       "<tr>\n",
       "  <th>zipcode</th>     <td>  -16.8060</td> <td>   35.267</td> <td>   -0.477</td> <td> 0.634</td> <td>  -85.932</td> <td>   52.320</td>\n",
       "</tr>\n",
       "</table>\n",
       "<table class=\"simpletable\">\n",
       "<tr>\n",
       "  <th>Omnibus:</th>       <td>11751.006</td> <th>  Durbin-Watson:     </th>  <td>   1.977</td> \n",
       "</tr>\n",
       "<tr>\n",
       "  <th>Prob(Omnibus):</th>  <td> 0.000</td>   <th>  Jarque-Bera (JB):  </th> <td>433493.239</td>\n",
       "</tr>\n",
       "<tr>\n",
       "  <th>Skew:</th>           <td> 2.378</td>   <th>  Prob(JB):          </th>  <td>    0.00</td> \n",
       "</tr>\n",
       "<tr>\n",
       "  <th>Kurtosis:</th>       <td>25.809</td>   <th>  Cond. No.          </th>  <td>2.05e+08</td> \n",
       "</tr>\n",
       "</table><br/><br/>Notes:<br/>[1] Standard Errors assume that the covariance matrix of the errors is correctly specified.<br/>[2] The condition number is large, 2.05e+08. This might indicate that there are<br/>strong multicollinearity or other numerical problems."
      ],
      "text/plain": [
       "<class 'statsmodels.iolib.summary.Summary'>\n",
       "\"\"\"\n",
       "                            OLS Regression Results                            \n",
       "==============================================================================\n",
       "Dep. Variable:                  price   R-squared:                       0.597\n",
       "Model:                            OLS   Adj. R-squared:                  0.597\n",
       "Method:                 Least Squares   F-statistic:                     3149.\n",
       "Date:                Wed, 27 Jan 2021   Prob (F-statistic):               0.00\n",
       "Time:                        16:58:50   Log-Likelihood:            -2.6424e+05\n",
       "No. Observations:               19164   AIC:                         5.285e+05\n",
       "Df Residuals:                   19154   BIC:                         5.286e+05\n",
       "Df Model:                           9                                         \n",
       "Covariance Type:            nonrobust                                         \n",
       "===============================================================================\n",
       "                  coef    std err          t      P>|t|      [0.025      0.975]\n",
       "-------------------------------------------------------------------------------\n",
       "Intercept    6.454e+06   3.51e+06      1.836      0.066   -4.35e+05    1.33e+07\n",
       "bedrooms    -5.209e+04   2279.762    -22.848      0.000   -5.66e+04   -4.76e+04\n",
       "sqft_living   306.9798      2.606    117.804      0.000     301.872     312.087\n",
       "sqft_lot       -0.3727      0.043     -8.681      0.000      -0.457      -0.289\n",
       "floors       7.485e+04   3811.423     19.638      0.000    6.74e+04    8.23e+04\n",
       "waterfront   5.634e+05   2.15e+04     26.174      0.000    5.21e+05    6.06e+05\n",
       "view          5.94e+04   2586.549     22.965      0.000    5.43e+04    6.45e+04\n",
       "condition    1.905e+04   2861.467      6.656      0.000    1.34e+04    2.47e+04\n",
       "yr_built    -2494.5937     75.864    -32.883      0.000   -2643.293   -2345.895\n",
       "zipcode       -16.8060     35.267     -0.477      0.634     -85.932      52.320\n",
       "==============================================================================\n",
       "Omnibus:                    11751.006   Durbin-Watson:                   1.977\n",
       "Prob(Omnibus):                  0.000   Jarque-Bera (JB):           433493.239\n",
       "Skew:                           2.378   Prob(JB):                         0.00\n",
       "Kurtosis:                      25.809   Cond. No.                     2.05e+08\n",
       "==============================================================================\n",
       "\n",
       "Notes:\n",
       "[1] Standard Errors assume that the covariance matrix of the errors is correctly specified.\n",
       "[2] The condition number is large, 2.05e+08. This might indicate that there are\n",
       "strong multicollinearity or other numerical problems.\n",
       "\"\"\""
      ]
     },
     "execution_count": 17,
     "metadata": {},
     "output_type": "execute_result"
    }
   ],
   "source": [
    "model_1 = ols(formula=f, data=df).fit()\n",
    "model_1.summary()"
   ]
  },
  {
   "cell_type": "code",
   "execution_count": 18,
   "metadata": {},
   "outputs": [],
   "source": [
    "data = df.copy()\n",
    "\n",
    "y = data['price']\n",
    "X = data.drop(['price', 'id'], axis = 1)"
   ]
  },
  {
   "cell_type": "code",
   "execution_count": 19,
   "metadata": {},
   "outputs": [],
   "source": [
    "X_train, X_test, y_train, y_test = train_test_split(X, y, test_size=0.2)"
   ]
  },
  {
   "cell_type": "code",
   "execution_count": 20,
   "metadata": {},
   "outputs": [],
   "source": [
    "linreg = LinearRegression()\n",
    "linreg.fit(X_train, y_train)\n",
    "\n",
    "y_hat_train = linreg.predict(X_train)\n",
    "y_hat_test = linreg.predict(X_test)"
   ]
  },
  {
   "cell_type": "code",
   "execution_count": 21,
   "metadata": {},
   "outputs": [
    {
     "name": "stdout",
     "output_type": "stream",
     "text": [
      "Train MSE: 55152966172.65857\n",
      "Test MSE: 56983648549.48906\n",
      "RMSE Train: 234846.68652688837\n",
      "RMSE Test: 238712.48092525254\n"
     ]
    }
   ],
   "source": [
    "mse_train = mean_squared_error(y_train, y_hat_train)\n",
    "mse_test = mean_squared_error(y_test, y_hat_test)\n",
    "\n",
    "print('Train MSE:', mse_train)\n",
    "print('Test MSE:', mse_test)\n",
    "\n",
    "print('RMSE Train:', np.sqrt(mse_train))\n",
    "print('RMSE Test:', np.sqrt(mse_test))"
   ]
  },
  {
   "cell_type": "code",
   "execution_count": 22,
   "metadata": {},
   "outputs": [
    {
     "data": {
      "image/png": "[encoded data removed]",
      "text/plain": [
       "<Figure size 432x288 with 1 Axes>"
      ]
     },
     "execution_count": 22,
     "metadata": {},
     "output_type": "execute_result"
    },
    {
     "data": {
      "image/png": "[encoded data removed]",
      "text/plain": [
       "<Figure size 432x288 with 1 Axes>"
      ]
     },
     "metadata": {
      "needs_background": "light"
     },
     "output_type": "display_data"
    }
   ],
   "source": [
    "residuals = (y_test - y_hat_test)\n",
    "\n",
    "sm.qqplot(residuals, line = \"r\")"
   ]
  },
  {
   "cell_type": "markdown",
   "metadata": {},
   "source": [
    "This first model has an R-squared value of 0.597, and a Root Mean Square Error of around 240,000. Additionally, the residuals seem somewhat skewed based on the ends of the Q-Q Plot."
   ]
  },
  {
   "cell_type": "markdown",
   "metadata": {},
   "source": [
    "# Model 2: Dropping Outliers, Using Heuristics & Z-Scores"
   ]
  },
  {
   "cell_type": "markdown",
   "metadata": {},
   "source": [
    "Now that a baseline model has been constructed to improve on, let's return to the initial business problem: creating a price-prediction model for first time home buyers. \n",
    "\n",
    "Recall the scatterplots constructed for the individual predictors against price. There are multiple features in the dataset with values that far exceed what would be found in a 'first home'. "
   ]
  },
  {
   "cell_type": "code",
   "execution_count": 23,
   "metadata": {},
   "outputs": [
    {
     "data": {
      "image/png": "[encoded data removed]",
      "text/plain": [
       "<Figure size 432x288 with 1 Axes>"
      ]
     },
     "metadata": {
      "needs_background": "light"
     },
     "output_type": "display_data"
    },
    {
     "data": {
      "image/png": "[encoded data removed]",
      "text/plain": [
       "<Figure size 432x288 with 1 Axes>"
      ]
     },
     "metadata": {
      "needs_background": "light"
     },
     "output_type": "display_data"
    },
    {
     "data": {
      "image/png": "[encoded data removed]",
      "text/plain": [
       "<Figure size 432x288 with 1 Axes>"
      ]
     },
     "metadata": {
      "needs_background": "light"
     },
     "output_type": "display_data"
    },
    {
     "data": {
      "image/png": "[encoded data removed]",
      "text/plain": [
       "<Figure size 432x288 with 1 Axes>"
      ]
     },
     "metadata": {
      "needs_background": "light"
     },
     "output_type": "display_data"
    },
    {
     "data": {
      "image/png": "[encoded data removed]",
      "text/plain": [
       "<Figure size 432x288 with 1 Axes>"
      ]
     },
     "metadata": {
      "needs_background": "light"
     },
     "output_type": "display_data"
    },
    {
     "data": {
      "image/png": "[encoded data removed]",
      "text/plain": [
       "<Figure size 432x288 with 1 Axes>"
      ]
     },
     "metadata": {
      "needs_background": "light"
     },
     "output_type": "display_data"
    },
    {
     "data": {
      "image/png": "[encoded data removed]",
      "text/plain": [
       "<Figure size 432x288 with 1 Axes>"
      ]
     },
     "metadata": {
      "needs_background": "light"
     },
     "output_type": "display_data"
    },
    {
     "data": {
      "image/png": "[encoded data removed]",
      "text/plain": [
       "<Figure size 432x288 with 1 Axes>"
      ]
     },
     "metadata": {
      "needs_background": "light"
     },
     "output_type": "display_data"
    },
    {
     "data": {
      "image/png": "[encoded data removed]",
      "text/plain": [
       "<Figure size 432x288 with 1 Axes>"
      ]
     },
     "metadata": {
      "needs_background": "light"
     },
     "output_type": "display_data"
    }
   ],
   "source": [
    "for col in df_pred.columns:\n",
    "    plt.scatter(df_pred[col], df['price'])\n",
    "    plt.title(col)\n",
    "    plt.show()"
   ]
  },
  {
   "cell_type": "markdown",
   "metadata": {},
   "source": [
    "## Dropping Data Using Heuristics"
   ]
  },
  {
   "cell_type": "markdown",
   "metadata": {},
   "source": [
    "First, take a look at the *bedrooms* scatterplot. There is an obvious outlier home with 33 bedrooms, which is certainly unfeasible for any first time buyer. \n",
    "\n",
    "I begin by dropping this entry. "
   ]
  },
  {
   "cell_type": "code",
   "execution_count": 24,
   "metadata": {},
   "outputs": [
    {
     "data": {
      "text/html": [
       "<div>\n",
       "<style scoped>\n",
       "    .dataframe tbody tr th:only-of-type {\n",
       "        vertical-align: middle;\n",
       "    }\n",
       "\n",
       "    .dataframe tbody tr th {\n",
       "        vertical-align: top;\n",
       "    }\n",
       "\n",
       "    .dataframe thead th {\n",
       "        text-align: right;\n",
       "    }\n",
       "</style>\n",
       "<table border=\"1\" class=\"dataframe\">\n",
       "  <thead>\n",
       "    <tr style=\"text-align: right;\">\n",
       "      <th></th>\n",
       "      <th>id</th>\n",
       "      <th>price</th>\n",
       "      <th>bedrooms</th>\n",
       "      <th>sqft_living</th>\n",
       "      <th>sqft_lot</th>\n",
       "      <th>floors</th>\n",
       "      <th>waterfront</th>\n",
       "      <th>view</th>\n",
       "      <th>condition</th>\n",
       "      <th>yr_built</th>\n",
       "      <th>zipcode</th>\n",
       "    </tr>\n",
       "  </thead>\n",
       "  <tbody>\n",
       "    <tr>\n",
       "      <th>15856</th>\n",
       "      <td>2402100895</td>\n",
       "      <td>640000.0</td>\n",
       "      <td>33</td>\n",
       "      <td>1620</td>\n",
       "      <td>6000</td>\n",
       "      <td>1.0</td>\n",
       "      <td>0.0</td>\n",
       "      <td>0.0</td>\n",
       "      <td>5</td>\n",
       "      <td>1947</td>\n",
       "      <td>98103</td>\n",
       "    </tr>\n",
       "  </tbody>\n",
       "</table>\n",
       "</div>"
      ],
      "text/plain": [
       "               id     price  bedrooms  sqft_living  sqft_lot  floors  \\\n",
       "15856  2402100895  640000.0        33         1620      6000     1.0   \n",
       "\n",
       "       waterfront  view  condition  yr_built  zipcode  \n",
       "15856         0.0   0.0          5      1947    98103  "
      ]
     },
     "execution_count": 24,
     "metadata": {},
     "output_type": "execute_result"
    }
   ],
   "source": [
    "df[df['bedrooms'] == 33]"
   ]
  },
  {
   "cell_type": "code",
   "execution_count": 25,
   "metadata": {},
   "outputs": [],
   "source": [
    "df.drop(labels=15856, axis=0, inplace=True)"
   ]
  },
  {
   "cell_type": "markdown",
   "metadata": {},
   "source": [
    "Now, I inspect the *bedrooms* column. "
   ]
  },
  {
   "cell_type": "code",
   "execution_count": 26,
   "metadata": {},
   "outputs": [
    {
     "data": {
      "text/html": [
       "<div>\n",
       "<style scoped>\n",
       "    .dataframe tbody tr th:only-of-type {\n",
       "        vertical-align: middle;\n",
       "    }\n",
       "\n",
       "    .dataframe tbody tr th {\n",
       "        vertical-align: top;\n",
       "    }\n",
       "\n",
       "    .dataframe thead th {\n",
       "        text-align: right;\n",
       "    }\n",
       "</style>\n",
       "<table border=\"1\" class=\"dataframe\">\n",
       "  <thead>\n",
       "    <tr style=\"text-align: right;\">\n",
       "      <th></th>\n",
       "      <th>id</th>\n",
       "      <th>price</th>\n",
       "      <th>bedrooms</th>\n",
       "      <th>sqft_living</th>\n",
       "      <th>sqft_lot</th>\n",
       "      <th>floors</th>\n",
       "      <th>waterfront</th>\n",
       "      <th>view</th>\n",
       "      <th>condition</th>\n",
       "      <th>yr_built</th>\n",
       "      <th>zipcode</th>\n",
       "    </tr>\n",
       "  </thead>\n",
       "  <tbody>\n",
       "    <tr>\n",
       "      <th>8748</th>\n",
       "      <td>1773100755</td>\n",
       "      <td>520000.0</td>\n",
       "      <td>11</td>\n",
       "      <td>3000</td>\n",
       "      <td>4960</td>\n",
       "      <td>2.0</td>\n",
       "      <td>0.0</td>\n",
       "      <td>0.0</td>\n",
       "      <td>3</td>\n",
       "      <td>1918</td>\n",
       "      <td>98106</td>\n",
       "    </tr>\n",
       "    <tr>\n",
       "      <th>13301</th>\n",
       "      <td>627300145</td>\n",
       "      <td>1150000.0</td>\n",
       "      <td>10</td>\n",
       "      <td>4590</td>\n",
       "      <td>10920</td>\n",
       "      <td>1.0</td>\n",
       "      <td>0.0</td>\n",
       "      <td>2.0</td>\n",
       "      <td>3</td>\n",
       "      <td>2008</td>\n",
       "      <td>98004</td>\n",
       "    </tr>\n",
       "    <tr>\n",
       "      <th>19239</th>\n",
       "      <td>8812401450</td>\n",
       "      <td>660000.0</td>\n",
       "      <td>10</td>\n",
       "      <td>2920</td>\n",
       "      <td>3745</td>\n",
       "      <td>2.0</td>\n",
       "      <td>0.0</td>\n",
       "      <td>0.0</td>\n",
       "      <td>4</td>\n",
       "      <td>1913</td>\n",
       "      <td>98105</td>\n",
       "    </tr>\n",
       "    <tr>\n",
       "      <th>15147</th>\n",
       "      <td>5566100170</td>\n",
       "      <td>650000.0</td>\n",
       "      <td>10</td>\n",
       "      <td>3610</td>\n",
       "      <td>11914</td>\n",
       "      <td>2.0</td>\n",
       "      <td>0.0</td>\n",
       "      <td>0.0</td>\n",
       "      <td>4</td>\n",
       "      <td>1958</td>\n",
       "      <td>98006</td>\n",
       "    </tr>\n",
       "    <tr>\n",
       "      <th>4092</th>\n",
       "      <td>1997200215</td>\n",
       "      <td>599999.0</td>\n",
       "      <td>9</td>\n",
       "      <td>3830</td>\n",
       "      <td>6988</td>\n",
       "      <td>2.5</td>\n",
       "      <td>0.0</td>\n",
       "      <td>0.0</td>\n",
       "      <td>3</td>\n",
       "      <td>1938</td>\n",
       "      <td>98103</td>\n",
       "    </tr>\n",
       "    <tr>\n",
       "      <th>...</th>\n",
       "      <td>...</td>\n",
       "      <td>...</td>\n",
       "      <td>...</td>\n",
       "      <td>...</td>\n",
       "      <td>...</td>\n",
       "      <td>...</td>\n",
       "      <td>...</td>\n",
       "      <td>...</td>\n",
       "      <td>...</td>\n",
       "      <td>...</td>\n",
       "      <td>...</td>\n",
       "    </tr>\n",
       "    <tr>\n",
       "      <th>648</th>\n",
       "      <td>922049078</td>\n",
       "      <td>157000.0</td>\n",
       "      <td>1</td>\n",
       "      <td>870</td>\n",
       "      <td>26326</td>\n",
       "      <td>1.0</td>\n",
       "      <td>0.0</td>\n",
       "      <td>0.0</td>\n",
       "      <td>3</td>\n",
       "      <td>1939</td>\n",
       "      <td>98198</td>\n",
       "    </tr>\n",
       "    <tr>\n",
       "      <th>7368</th>\n",
       "      <td>7228501903</td>\n",
       "      <td>250000.0</td>\n",
       "      <td>1</td>\n",
       "      <td>780</td>\n",
       "      <td>1033</td>\n",
       "      <td>1.0</td>\n",
       "      <td>0.0</td>\n",
       "      <td>0.0</td>\n",
       "      <td>3</td>\n",
       "      <td>1922</td>\n",
       "      <td>98122</td>\n",
       "    </tr>\n",
       "    <tr>\n",
       "      <th>3380</th>\n",
       "      <td>8807900236</td>\n",
       "      <td>430000.0</td>\n",
       "      <td>1</td>\n",
       "      <td>630</td>\n",
       "      <td>1362</td>\n",
       "      <td>1.0</td>\n",
       "      <td>0.0</td>\n",
       "      <td>0.0</td>\n",
       "      <td>3</td>\n",
       "      <td>1943</td>\n",
       "      <td>98109</td>\n",
       "    </tr>\n",
       "    <tr>\n",
       "      <th>18261</th>\n",
       "      <td>2781600195</td>\n",
       "      <td>285000.0</td>\n",
       "      <td>1</td>\n",
       "      <td>1060</td>\n",
       "      <td>54846</td>\n",
       "      <td>1.0</td>\n",
       "      <td>1.0</td>\n",
       "      <td>4.0</td>\n",
       "      <td>3</td>\n",
       "      <td>1935</td>\n",
       "      <td>98070</td>\n",
       "    </tr>\n",
       "    <tr>\n",
       "      <th>17282</th>\n",
       "      <td>4047200825</td>\n",
       "      <td>400000.0</td>\n",
       "      <td>1</td>\n",
       "      <td>1390</td>\n",
       "      <td>60984</td>\n",
       "      <td>1.0</td>\n",
       "      <td>0.0</td>\n",
       "      <td>0.0</td>\n",
       "      <td>3</td>\n",
       "      <td>1960</td>\n",
       "      <td>98019</td>\n",
       "    </tr>\n",
       "  </tbody>\n",
       "</table>\n",
       "<p>19163 rows × 11 columns</p>\n",
       "</div>"
      ],
      "text/plain": [
       "               id      price  bedrooms  sqft_living  sqft_lot  floors  \\\n",
       "8748   1773100755   520000.0        11         3000      4960     2.0   \n",
       "13301   627300145  1150000.0        10         4590     10920     1.0   \n",
       "19239  8812401450   660000.0        10         2920      3745     2.0   \n",
       "15147  5566100170   650000.0        10         3610     11914     2.0   \n",
       "4092   1997200215   599999.0         9         3830      6988     2.5   \n",
       "...           ...        ...       ...          ...       ...     ...   \n",
       "648     922049078   157000.0         1          870     26326     1.0   \n",
       "7368   7228501903   250000.0         1          780      1033     1.0   \n",
       "3380   8807900236   430000.0         1          630      1362     1.0   \n",
       "18261  2781600195   285000.0         1         1060     54846     1.0   \n",
       "17282  4047200825   400000.0         1         1390     60984     1.0   \n",
       "\n",
       "       waterfront  view  condition  yr_built  zipcode  \n",
       "8748          0.0   0.0          3      1918    98106  \n",
       "13301         0.0   2.0          3      2008    98004  \n",
       "19239         0.0   0.0          4      1913    98105  \n",
       "15147         0.0   0.0          4      1958    98006  \n",
       "4092          0.0   0.0          3      1938    98103  \n",
       "...           ...   ...        ...       ...      ...  \n",
       "648           0.0   0.0          3      1939    98198  \n",
       "7368          0.0   0.0          3      1922    98122  \n",
       "3380          0.0   0.0          3      1943    98109  \n",
       "18261         1.0   4.0          3      1935    98070  \n",
       "17282         0.0   0.0          3      1960    98019  \n",
       "\n",
       "[19163 rows x 11 columns]"
      ]
     },
     "execution_count": 26,
     "metadata": {},
     "output_type": "execute_result"
    }
   ],
   "source": [
    "df.sort_values(by=['bedrooms'], axis=0, ascending=False)"
   ]
  },
  {
   "cell_type": "code",
   "execution_count": 27,
   "metadata": {},
   "outputs": [
    {
     "data": {
      "text/plain": [
       "<AxesSubplot:>"
      ]
     },
     "execution_count": 27,
     "metadata": {},
     "output_type": "execute_result"
    },
    {
     "data": {
      "image/png": "[encoded data removed]",
      "text/plain": [
       "<Figure size 432x288 with 1 Axes>"
      ]
     },
     "metadata": {
      "needs_background": "light"
     },
     "output_type": "display_data"
    }
   ],
   "source": [
    "df['bedrooms'].hist()"
   ]
  },
  {
   "cell_type": "markdown",
   "metadata": {},
   "source": [
    "Even if a potential first time buyer is a large family in need of more rooms than usual, it is difficult to envision such a client needing any more than 8 bedrooms. "
   ]
  },
  {
   "cell_type": "code",
   "execution_count": 28,
   "metadata": {},
   "outputs": [],
   "source": [
    "df = df[df['bedrooms'] < 9]"
   ]
  },
  {
   "cell_type": "code",
   "execution_count": 29,
   "metadata": {},
   "outputs": [
    {
     "data": {
      "text/plain": [
       "<AxesSubplot:>"
      ]
     },
     "execution_count": 29,
     "metadata": {},
     "output_type": "execute_result"
    },
    {
     "data": {
      "image/png": "[encoded data removed]",
      "text/plain": [
       "<Figure size 432x288 with 1 Axes>"
      ]
     },
     "metadata": {
      "needs_background": "light"
     },
     "output_type": "display_data"
    }
   ],
   "source": [
    "df['bedrooms'].hist()"
   ]
  },
  {
   "cell_type": "markdown",
   "metadata": {},
   "source": [
    "## Dropping Data Using Z-Scores of Continuous Variables"
   ]
  },
  {
   "cell_type": "code",
   "execution_count": 30,
   "metadata": {},
   "outputs": [
    {
     "data": {
      "text/plain": [
       "<AxesSubplot:>"
      ]
     },
     "execution_count": 30,
     "metadata": {},
     "output_type": "execute_result"
    },
    {
     "data": {
      "image/png": "[encoded data removed]",
      "text/plain": [
       "<Figure size 432x288 with 1 Axes>"
      ]
     },
     "metadata": {
      "needs_background": "light"
     },
     "output_type": "display_data"
    }
   ],
   "source": [
    "df['price'].hist()"
   ]
  },
  {
   "cell_type": "code",
   "execution_count": 31,
   "metadata": {},
   "outputs": [
    {
     "name": "stdout",
     "output_type": "stream",
     "text": [
      "-571334.4145640415 1653916.1387847904\n"
     ]
    }
   ],
   "source": [
    "mean_price = df['price'].mean()\n",
    "std3_price = 3*df['price'].std()\n",
    "print(mean_price - std3_price, mean_price + std3_price)"
   ]
  },
  {
   "cell_type": "markdown",
   "metadata": {},
   "source": [
    "From the histogram of home prices, we can tell that none of the prices fall more than 3 standard deviations below the mean price (given by the interval above). There are, however, outlying prices more than 3 standard deviations above the mean. I elect to filter these homes out of the dataset."
   ]
  },
  {
   "cell_type": "code",
   "execution_count": 32,
   "metadata": {},
   "outputs": [],
   "source": [
    "upper_price = mean_price + std3_price\n",
    "df = df[df['price'] <= upper_price]"
   ]
  },
  {
   "cell_type": "code",
   "execution_count": 33,
   "metadata": {},
   "outputs": [
    {
     "data": {
      "text/plain": [
       "<AxesSubplot:>"
      ]
     },
     "execution_count": 33,
     "metadata": {},
     "output_type": "execute_result"
    },
    {
     "data": {
      "image/png": "[encoded data removed]",
      "text/plain": [
       "<Figure size 432x288 with 1 Axes>"
      ]
     },
     "metadata": {
      "needs_background": "light"
     },
     "output_type": "display_data"
    }
   ],
   "source": [
    "df['price'].hist()"
   ]
  },
  {
   "cell_type": "markdown",
   "metadata": {},
   "source": [
    "Next, I look at the *sqft_living* predictor."
   ]
  },
  {
   "cell_type": "code",
   "execution_count": 34,
   "metadata": {},
   "outputs": [
    {
     "data": {
      "text/plain": [
       "<AxesSubplot:>"
      ]
     },
     "execution_count": 34,
     "metadata": {},
     "output_type": "execute_result"
    },
    {
     "data": {
      "image/png": "[encoded data removed]",
      "text/plain": [
       "<Figure size 432x288 with 1 Axes>"
      ]
     },
     "metadata": {
      "needs_background": "light"
     },
     "output_type": "display_data"
    }
   ],
   "source": [
    "df['sqft_living'].hist()"
   ]
  },
  {
   "cell_type": "code",
   "execution_count": 35,
   "metadata": {
    "scrolled": true
   },
   "outputs": [
    {
     "data": {
      "text/plain": [
       "count    18803.000000\n",
       "mean      2033.471999\n",
       "std        837.690802\n",
       "min        370.000000\n",
       "25%       1411.500000\n",
       "50%       1900.000000\n",
       "75%       2510.000000\n",
       "max       7480.000000\n",
       "Name: sqft_living, dtype: float64"
      ]
     },
     "execution_count": 35,
     "metadata": {},
     "output_type": "execute_result"
    }
   ],
   "source": [
    "df['sqft_living'].describe()"
   ]
  },
  {
   "cell_type": "code",
   "execution_count": 36,
   "metadata": {},
   "outputs": [
    {
     "name": "stdout",
     "output_type": "stream",
     "text": [
      "-479.600405407758 4546.544403705902\n"
     ]
    }
   ],
   "source": [
    "mean_living = df['sqft_living'].mean()\n",
    "std3_living = 3*df['sqft_living'].std()\n",
    "print(mean_living - std3_living, mean_living + std3_living)"
   ]
  },
  {
   "cell_type": "markdown",
   "metadata": {},
   "source": [
    "The min of *sqft_living* does not fall under 3 standard deviations below the mean. But just by observing the max, it is apparent that at least one entry exceeds 3 standard deviations above the column's mean. I filter out any values exceeding this upper limit. "
   ]
  },
  {
   "cell_type": "code",
   "execution_count": 37,
   "metadata": {},
   "outputs": [],
   "source": [
    "upper_living = mean_living + std3_living\n",
    "df = df[df['sqft_living'] <= upper_living]"
   ]
  },
  {
   "cell_type": "code",
   "execution_count": 38,
   "metadata": {},
   "outputs": [
    {
     "data": {
      "text/plain": [
       "<AxesSubplot:>"
      ]
     },
     "execution_count": 38,
     "metadata": {},
     "output_type": "execute_result"
    },
    {
     "data": {
      "image/png": "[encoded data removed]",
      "text/plain": [
       "<Figure size 432x288 with 1 Axes>"
      ]
     },
     "metadata": {
      "needs_background": "light"
     },
     "output_type": "display_data"
    }
   ],
   "source": [
    "df['sqft_living'].hist()"
   ]
  },
  {
   "cell_type": "markdown",
   "metadata": {},
   "source": [
    "Next, I look at the *sqft_lot* columns for any outliers."
   ]
  },
  {
   "cell_type": "code",
   "execution_count": 39,
   "metadata": {},
   "outputs": [
    {
     "data": {
      "text/plain": [
       "<AxesSubplot:>"
      ]
     },
     "execution_count": 39,
     "metadata": {},
     "output_type": "execute_result"
    },
    {
     "data": {
      "image/png": "[encoded data removed]",
      "text/plain": [
       "<Figure size 432x288 with 1 Axes>"
      ]
     },
     "metadata": {
      "needs_background": "light"
     },
     "output_type": "display_data"
    }
   ],
   "source": [
    "df['sqft_lot'].hist()"
   ]
  },
  {
   "cell_type": "code",
   "execution_count": 40,
   "metadata": {},
   "outputs": [
    {
     "data": {
      "text/plain": [
       "count    1.863200e+04\n",
       "mean     1.442871e+04\n",
       "std      3.869237e+04\n",
       "min      5.200000e+02\n",
       "25%      5.000000e+03\n",
       "50%      7.520000e+03\n",
       "75%      1.039525e+04\n",
       "max      1.651359e+06\n",
       "Name: sqft_lot, dtype: float64"
      ]
     },
     "execution_count": 40,
     "metadata": {},
     "output_type": "execute_result"
    }
   ],
   "source": [
    "df['sqft_lot'].describe()"
   ]
  },
  {
   "cell_type": "code",
   "execution_count": 41,
   "metadata": {},
   "outputs": [
    {
     "name": "stdout",
     "output_type": "stream",
     "text": [
      "-101648.40775254855 130505.82767526215\n"
     ]
    }
   ],
   "source": [
    "mean_lot = df['sqft_lot'].mean()\n",
    "std3_lot = 3*df['sqft_lot'].std()\n",
    "print(mean_lot - std3_lot, mean_lot + std3_lot)"
   ]
  },
  {
   "cell_type": "markdown",
   "metadata": {},
   "source": [
    "Just like with *sqft_living*, the min *sqft_lot* value isn't 3 standard deviations or more below the mean. On the flip side, though, at least the column's max is more than 3 standard deviations above the mean. Similarly to before, I filter out any values that exceed this upper limit."
   ]
  },
  {
   "cell_type": "code",
   "execution_count": 42,
   "metadata": {},
   "outputs": [],
   "source": [
    "upper_lot = mean_lot + std3_lot\n",
    "df = df[df['sqft_lot'] <= upper_lot]"
   ]
  },
  {
   "cell_type": "code",
   "execution_count": 43,
   "metadata": {},
   "outputs": [
    {
     "data": {
      "text/plain": [
       "<AxesSubplot:>"
      ]
     },
     "execution_count": 43,
     "metadata": {},
     "output_type": "execute_result"
    },
    {
     "data": {
      "image/png": "[encoded data removed]",
      "text/plain": [
       "<Figure size 432x288 with 1 Axes>"
      ]
     },
     "metadata": {
      "needs_background": "light"
     },
     "output_type": "display_data"
    }
   ],
   "source": [
    "df['sqft_lot'].hist()"
   ]
  },
  {
   "cell_type": "markdown",
   "metadata": {},
   "source": [
    "Finally, to keep up to date with the dataset, let's see if we still have a sufficient amount of entries (at least 15,000). "
   ]
  },
  {
   "cell_type": "code",
   "execution_count": 44,
   "metadata": {},
   "outputs": [
    {
     "data": {
      "text/plain": [
       "id             18344\n",
       "price          18344\n",
       "bedrooms       18344\n",
       "sqft_living    18344\n",
       "sqft_lot       18344\n",
       "floors         18344\n",
       "waterfront     18344\n",
       "view           18344\n",
       "condition      18344\n",
       "yr_built       18344\n",
       "zipcode        18344\n",
       "dtype: int64"
      ]
     },
     "execution_count": 44,
     "metadata": {},
     "output_type": "execute_result"
    }
   ],
   "source": [
    "df.count()"
   ]
  },
  {
   "cell_type": "markdown",
   "metadata": {},
   "source": [
    "Now, I update the **df_pred** DataFrame after making the above changes to the main DataFrame **df**. Once this is done, I'm ready to run the new regression model. "
   ]
  },
  {
   "cell_type": "code",
   "execution_count": 45,
   "metadata": {},
   "outputs": [],
   "source": [
    "df_pred = df.drop(['price', 'id'], axis=1)"
   ]
  },
  {
   "cell_type": "code",
   "execution_count": 46,
   "metadata": {},
   "outputs": [],
   "source": [
    "outcome = 'price'\n",
    "x_cols = df_pred.columns\n",
    "predictors = '+'.join(x_cols)\n",
    "\n",
    "f = outcome + '~' + predictors"
   ]
  },
  {
   "cell_type": "code",
   "execution_count": 47,
   "metadata": {},
   "outputs": [
    {
     "data": {
      "text/html": [
       "<table class=\"simpletable\">\n",
       "<caption>OLS Regression Results</caption>\n",
       "<tr>\n",
       "  <th>Dep. Variable:</th>          <td>price</td>      <th>  R-squared:         </th>  <td>   0.510</td>  \n",
       "</tr>\n",
       "<tr>\n",
       "  <th>Model:</th>                   <td>OLS</td>       <th>  Adj. R-squared:    </th>  <td>   0.510</td>  \n",
       "</tr>\n",
       "<tr>\n",
       "  <th>Method:</th>             <td>Least Squares</td>  <th>  F-statistic:       </th>  <td>   2120.</td>  \n",
       "</tr>\n",
       "<tr>\n",
       "  <th>Date:</th>             <td>Wed, 27 Jan 2021</td> <th>  Prob (F-statistic):</th>   <td>  0.00</td>   \n",
       "</tr>\n",
       "<tr>\n",
       "  <th>Time:</th>                 <td>16:58:59</td>     <th>  Log-Likelihood:    </th> <td>-2.4779e+05</td>\n",
       "</tr>\n",
       "<tr>\n",
       "  <th>No. Observations:</th>      <td> 18344</td>      <th>  AIC:               </th>  <td>4.956e+05</td> \n",
       "</tr>\n",
       "<tr>\n",
       "  <th>Df Residuals:</th>          <td> 18334</td>      <th>  BIC:               </th>  <td>4.957e+05</td> \n",
       "</tr>\n",
       "<tr>\n",
       "  <th>Df Model:</th>              <td>     9</td>      <th>                     </th>      <td> </td>     \n",
       "</tr>\n",
       "<tr>\n",
       "  <th>Covariance Type:</th>      <td>nonrobust</td>    <th>                     </th>      <td> </td>     \n",
       "</tr>\n",
       "</table>\n",
       "<table class=\"simpletable\">\n",
       "<tr>\n",
       "       <td></td>          <th>coef</th>     <th>std err</th>      <th>t</th>      <th>P>|t|</th>  <th>[0.025</th>    <th>0.975]</th>  \n",
       "</tr>\n",
       "<tr>\n",
       "  <th>Intercept</th>   <td> 8823.0658</td> <td> 2.72e+06</td> <td>    0.003</td> <td> 0.997</td> <td>-5.33e+06</td> <td> 5.35e+06</td>\n",
       "</tr>\n",
       "<tr>\n",
       "  <th>bedrooms</th>    <td>-3.629e+04</td> <td> 1916.261</td> <td>  -18.935</td> <td> 0.000</td> <td>   -4e+04</td> <td>-3.25e+04</td>\n",
       "</tr>\n",
       "<tr>\n",
       "  <th>sqft_living</th> <td>  237.4873</td> <td>    2.452</td> <td>   96.858</td> <td> 0.000</td> <td>  232.681</td> <td>  242.293</td>\n",
       "</tr>\n",
       "<tr>\n",
       "  <th>sqft_lot</th>    <td>   -0.8521</td> <td>    0.107</td> <td>   -7.989</td> <td> 0.000</td> <td>   -1.061</td> <td>   -0.643</td>\n",
       "</tr>\n",
       "<tr>\n",
       "  <th>floors</th>      <td>  7.65e+04</td> <td> 2991.009</td> <td>   25.575</td> <td> 0.000</td> <td> 7.06e+04</td> <td> 8.24e+04</td>\n",
       "</tr>\n",
       "<tr>\n",
       "  <th>waterfront</th>  <td> 1.448e+05</td> <td> 2.16e+04</td> <td>    6.719</td> <td> 0.000</td> <td> 1.03e+05</td> <td> 1.87e+05</td>\n",
       "</tr>\n",
       "<tr>\n",
       "  <th>view</th>        <td> 5.358e+04</td> <td> 2128.263</td> <td>   25.176</td> <td> 0.000</td> <td> 4.94e+04</td> <td> 5.78e+04</td>\n",
       "</tr>\n",
       "<tr>\n",
       "  <th>condition</th>   <td> 2.018e+04</td> <td> 2208.811</td> <td>    9.136</td> <td> 0.000</td> <td> 1.58e+04</td> <td> 2.45e+04</td>\n",
       "</tr>\n",
       "<tr>\n",
       "  <th>yr_built</th>    <td>-1999.5005</td> <td>   59.079</td> <td>  -33.845</td> <td> 0.000</td> <td>-2115.300</td> <td>-1883.701</td>\n",
       "</tr>\n",
       "<tr>\n",
       "  <th>zipcode</th>     <td>   39.7169</td> <td>   27.320</td> <td>    1.454</td> <td> 0.146</td> <td>  -13.833</td> <td>   93.266</td>\n",
       "</tr>\n",
       "</table>\n",
       "<table class=\"simpletable\">\n",
       "<tr>\n",
       "  <th>Omnibus:</th>       <td>2808.019</td> <th>  Durbin-Watson:     </th> <td>   1.968</td>\n",
       "</tr>\n",
       "<tr>\n",
       "  <th>Prob(Omnibus):</th>  <td> 0.000</td>  <th>  Jarque-Bera (JB):  </th> <td>7182.388</td>\n",
       "</tr>\n",
       "<tr>\n",
       "  <th>Skew:</th>           <td> 0.856</td>  <th>  Prob(JB):          </th> <td>    0.00</td>\n",
       "</tr>\n",
       "<tr>\n",
       "  <th>Kurtosis:</th>       <td> 5.543</td>  <th>  Cond. No.          </th> <td>2.05e+08</td>\n",
       "</tr>\n",
       "</table><br/><br/>Notes:<br/>[1] Standard Errors assume that the covariance matrix of the errors is correctly specified.<br/>[2] The condition number is large, 2.05e+08. This might indicate that there are<br/>strong multicollinearity or other numerical problems."
      ],
      "text/plain": [
       "<class 'statsmodels.iolib.summary.Summary'>\n",
       "\"\"\"\n",
       "                            OLS Regression Results                            \n",
       "==============================================================================\n",
       "Dep. Variable:                  price   R-squared:                       0.510\n",
       "Model:                            OLS   Adj. R-squared:                  0.510\n",
       "Method:                 Least Squares   F-statistic:                     2120.\n",
       "Date:                Wed, 27 Jan 2021   Prob (F-statistic):               0.00\n",
       "Time:                        16:58:59   Log-Likelihood:            -2.4779e+05\n",
       "No. Observations:               18344   AIC:                         4.956e+05\n",
       "Df Residuals:                   18334   BIC:                         4.957e+05\n",
       "Df Model:                           9                                         \n",
       "Covariance Type:            nonrobust                                         \n",
       "===============================================================================\n",
       "                  coef    std err          t      P>|t|      [0.025      0.975]\n",
       "-------------------------------------------------------------------------------\n",
       "Intercept    8823.0658   2.72e+06      0.003      0.997   -5.33e+06    5.35e+06\n",
       "bedrooms    -3.629e+04   1916.261    -18.935      0.000      -4e+04   -3.25e+04\n",
       "sqft_living   237.4873      2.452     96.858      0.000     232.681     242.293\n",
       "sqft_lot       -0.8521      0.107     -7.989      0.000      -1.061      -0.643\n",
       "floors        7.65e+04   2991.009     25.575      0.000    7.06e+04    8.24e+04\n",
       "waterfront   1.448e+05   2.16e+04      6.719      0.000    1.03e+05    1.87e+05\n",
       "view         5.358e+04   2128.263     25.176      0.000    4.94e+04    5.78e+04\n",
       "condition    2.018e+04   2208.811      9.136      0.000    1.58e+04    2.45e+04\n",
       "yr_built    -1999.5005     59.079    -33.845      0.000   -2115.300   -1883.701\n",
       "zipcode        39.7169     27.320      1.454      0.146     -13.833      93.266\n",
       "==============================================================================\n",
       "Omnibus:                     2808.019   Durbin-Watson:                   1.968\n",
       "Prob(Omnibus):                  0.000   Jarque-Bera (JB):             7182.388\n",
       "Skew:                           0.856   Prob(JB):                         0.00\n",
       "Kurtosis:                       5.543   Cond. No.                     2.05e+08\n",
       "==============================================================================\n",
       "\n",
       "Notes:\n",
       "[1] Standard Errors assume that the covariance matrix of the errors is correctly specified.\n",
       "[2] The condition number is large, 2.05e+08. This might indicate that there are\n",
       "strong multicollinearity or other numerical problems.\n",
       "\"\"\""
      ]
     },
     "execution_count": 47,
     "metadata": {},
     "output_type": "execute_result"
    }
   ],
   "source": [
    "model_2 = ols(formula=f, data=df).fit()\n",
    "model_2.summary()"
   ]
  },
  {
   "cell_type": "code",
   "execution_count": 48,
   "metadata": {},
   "outputs": [],
   "source": [
    "data = df.copy()\n",
    "\n",
    "y = data['price']\n",
    "X = data.drop(['price', 'id'], axis = 1)"
   ]
  },
  {
   "cell_type": "code",
   "execution_count": 49,
   "metadata": {},
   "outputs": [],
   "source": [
    "X_train, X_test, y_train, y_test = train_test_split(X, y, test_size=0.2)"
   ]
  },
  {
   "cell_type": "code",
   "execution_count": 50,
   "metadata": {},
   "outputs": [],
   "source": [
    "linreg = LinearRegression()\n",
    "linreg.fit(X_train, y_train)\n",
    "\n",
    "y_hat_train = linreg.predict(X_train)\n",
    "y_hat_test = linreg.predict(X_test)"
   ]
  },
  {
   "cell_type": "code",
   "execution_count": 51,
   "metadata": {},
   "outputs": [
    {
     "name": "stdout",
     "output_type": "stream",
     "text": [
      "Train MSE: 31685081253.89632\n",
      "Test MSE: 31511592449.02177\n",
      "RMSE Train: 178003.03720413402\n",
      "RMSE Test: 177515.04851426475\n"
     ]
    }
   ],
   "source": [
    "mse_train = mean_squared_error(y_train, y_hat_train)\n",
    "mse_test = mean_squared_error(y_test, y_hat_test)\n",
    "\n",
    "print('Train MSE:', mse_train)\n",
    "print('Test MSE:', mse_test)\n",
    "\n",
    "print('RMSE Train:', np.sqrt(mse_train))\n",
    "print('RMSE Test:', np.sqrt(mse_test))"
   ]
  },
  {
   "cell_type": "code",
   "execution_count": 52,
   "metadata": {},
   "outputs": [
    {
     "data": {
      "image/png": "[encoded data removed]",
      "text/plain": [
       "<Figure size 432x288 with 1 Axes>"
      ]
     },
     "execution_count": 52,
     "metadata": {},
     "output_type": "execute_result"
    },
    {
     "data": {
      "image/png": "[encoded data removed]",
      "text/plain": [
       "<Figure size 432x288 with 1 Axes>"
      ]
     },
     "metadata": {
      "needs_background": "light"
     },
     "output_type": "display_data"
    }
   ],
   "source": [
    "residuals = (y_test - y_hat_test)\n",
    "\n",
    "sm.qqplot(residuals, line = \"r\")"
   ]
  },
  {
   "cell_type": "markdown",
   "metadata": {},
   "source": [
    "Getting rid of the outliers did lower the model's R-squared value from 0.597 to 0.510. On the flip side, though, the RMSE did imporve considerably (~175,000 here vs ~240,000 before). Additionally, the Q-Q Plot indicates that the residuals have become more Normally distributed, though they still have some right skew.\n",
    "\n",
    "The *zipcode* feature does have a coefficient with a small t-statistic. This does not overly concern me, however, because I will soon get around to encoding this feature, which should eliminate the problem. \n",
    "\n",
    "Ultimately, I choose to stick with the changes made here, in the hopes that transforming some of the features will sufficiently improve the R-squared value. "
   ]
  },
  {
   "cell_type": "markdown",
   "metadata": {},
   "source": [
    "# Model 3: Transforming Continuous Data"
   ]
  },
  {
   "cell_type": "markdown",
   "metadata": {},
   "source": [
    "Let's look again at the scatterplots of individual predictors vs. home price:"
   ]
  },
  {
   "cell_type": "code",
   "execution_count": 53,
   "metadata": {},
   "outputs": [
    {
     "data": {
      "image/png": "[encoded data removed]",
      "text/plain": [
       "<Figure size 432x288 with 1 Axes>"
      ]
     },
     "metadata": {
      "needs_background": "light"
     },
     "output_type": "display_data"
    },
    {
     "data": {
      "image/png": "[encoded data removed]",
      "text/plain": [
       "<Figure size 432x288 with 1 Axes>"
      ]
     },
     "metadata": {
      "needs_background": "light"
     },
     "output_type": "display_data"
    },
    {
     "data": {
      "image/png": "[encoded data removed]",
      "text/plain": [
       "<Figure size 432x288 with 1 Axes>"
      ]
     },
     "metadata": {
      "needs_background": "light"
     },
     "output_type": "display_data"
    },
    {
     "data": {
      "image/png": "[encoded data removed]",
      "text/plain": [
       "<Figure size 432x288 with 1 Axes>"
      ]
     },
     "metadata": {
      "needs_background": "light"
     },
     "output_type": "display_data"
    },
    {
     "data": {
      "image/png": "[encoded data removed]",
      "text/plain": [
       "<Figure size 432x288 with 1 Axes>"
      ]
     },
     "metadata": {
      "needs_background": "light"
     },
     "output_type": "display_data"
    },
    {
     "data": {
      "image/png": "[encoded data removed]",
      "text/plain": [
       "<Figure size 432x288 with 1 Axes>"
      ]
     },
     "metadata": {
      "needs_background": "light"
     },
     "output_type": "display_data"
    },
    {
     "data": {
      "image/png": "[encoded data removed]",
      "text/plain": [
       "<Figure size 432x288 with 1 Axes>"
      ]
     },
     "metadata": {
      "needs_background": "light"
     },
     "output_type": "display_data"
    },
    {
     "data": {
      "image/png": "[encoded data removed]",
      "text/plain": [
       "<Figure size 432x288 with 1 Axes>"
      ]
     },
     "metadata": {
      "needs_background": "light"
     },
     "output_type": "display_data"
    },
    {
     "data": {
      "image/png": "[encoded data removed]",
      "text/plain": [
       "<Figure size 432x288 with 1 Axes>"
      ]
     },
     "metadata": {
      "needs_background": "light"
     },
     "output_type": "display_data"
    }
   ],
   "source": [
    "for col in df_pred.columns:\n",
    "    plt.scatter(df_pred[col], df['price'])\n",
    "    plt.title(col)\n",
    "    plt.show()"
   ]
  },
  {
   "cell_type": "markdown",
   "metadata": {},
   "source": [
    "Here, it is apparent that the two continuous variables in the set of features are the *sqft_living* & *sqft_lot* columns. Both columns' scatterplots have a \"cloud-like\" appearence with no apparent vertically-aligned clusters."
   ]
  },
  {
   "cell_type": "markdown",
   "metadata": {},
   "source": [
    "Next, I take another look at the histograms for the two continuous predictors to see how their distribution looks. "
   ]
  },
  {
   "cell_type": "code",
   "execution_count": 54,
   "metadata": {},
   "outputs": [
    {
     "data": {
      "text/plain": [
       "<AxesSubplot:>"
      ]
     },
     "execution_count": 54,
     "metadata": {},
     "output_type": "execute_result"
    },
    {
     "data": {
      "image/png": "[encoded data removed]",
      "text/plain": [
       "<Figure size 432x288 with 1 Axes>"
      ]
     },
     "metadata": {
      "needs_background": "light"
     },
     "output_type": "display_data"
    }
   ],
   "source": [
    "df['sqft_living'].hist()"
   ]
  },
  {
   "cell_type": "markdown",
   "metadata": {},
   "source": [
    "The *sqft_living* values seem to be distributed fairly normally, with a slight right skew. I determine that the distribution is good enough as is and does not require any transformation.\n",
    "\n",
    "Next, I inspect the *sqft_lot* distribution. "
   ]
  },
  {
   "cell_type": "code",
   "execution_count": 55,
   "metadata": {},
   "outputs": [
    {
     "data": {
      "text/plain": [
       "<AxesSubplot:>"
      ]
     },
     "execution_count": 55,
     "metadata": {},
     "output_type": "execute_result"
    },
    {
     "data": {
      "image/png": "[encoded data removed]",
      "text/plain": [
       "<Figure size 432x288 with 1 Axes>"
      ]
     },
     "metadata": {
      "needs_background": "light"
     },
     "output_type": "display_data"
    }
   ],
   "source": [
    "df['sqft_lot'].hist()"
   ]
  },
  {
   "cell_type": "markdown",
   "metadata": {},
   "source": [
    "This predictor's distribution does not appear Normal at all. Additionally, from using the .describe() method on the column previously, I now know that all of its values are above 0. This makes the column a prime candidate for log-transformation. "
   ]
  },
  {
   "cell_type": "code",
   "execution_count": 56,
   "metadata": {},
   "outputs": [],
   "source": [
    "df['sqft_lot'] = np.log(df['sqft_lot'])"
   ]
  },
  {
   "cell_type": "code",
   "execution_count": 57,
   "metadata": {},
   "outputs": [
    {
     "data": {
      "text/plain": [
       "<AxesSubplot:>"
      ]
     },
     "execution_count": 57,
     "metadata": {},
     "output_type": "execute_result"
    },
    {
     "data": {
      "image/png": "[encoded data removed]",
      "text/plain": [
       "<Figure size 432x288 with 1 Axes>"
      ]
     },
     "metadata": {
      "needs_background": "light"
     },
     "output_type": "display_data"
    }
   ],
   "source": [
    "df['sqft_lot'].hist()"
   ]
  },
  {
   "cell_type": "markdown",
   "metadata": {},
   "source": [
    "The distribution of the column's transformed values is much closer to a Normal one, and should lead to improvements in the next model iteration."
   ]
  },
  {
   "cell_type": "code",
   "execution_count": 58,
   "metadata": {},
   "outputs": [],
   "source": [
    "df_pred = df.drop(['price', 'id'], axis=1)"
   ]
  },
  {
   "cell_type": "code",
   "execution_count": 59,
   "metadata": {},
   "outputs": [],
   "source": [
    "outcome = 'price'\n",
    "x_cols = df_pred.columns\n",
    "predictors = '+'.join(x_cols)\n",
    "\n",
    "f = outcome + '~' + predictors"
   ]
  },
  {
   "cell_type": "code",
   "execution_count": 60,
   "metadata": {},
   "outputs": [
    {
     "data": {
      "text/html": [
       "<table class=\"simpletable\">\n",
       "<caption>OLS Regression Results</caption>\n",
       "<tr>\n",
       "  <th>Dep. Variable:</th>          <td>price</td>      <th>  R-squared:         </th>  <td>   0.517</td>  \n",
       "</tr>\n",
       "<tr>\n",
       "  <th>Model:</th>                   <td>OLS</td>       <th>  Adj. R-squared:    </th>  <td>   0.517</td>  \n",
       "</tr>\n",
       "<tr>\n",
       "  <th>Method:</th>             <td>Least Squares</td>  <th>  F-statistic:       </th>  <td>   2181.</td>  \n",
       "</tr>\n",
       "<tr>\n",
       "  <th>Date:</th>             <td>Tue, 26 Jan 2021</td> <th>  Prob (F-statistic):</th>   <td>  0.00</td>   \n",
       "</tr>\n",
       "<tr>\n",
       "  <th>Time:</th>                 <td>14:38:33</td>     <th>  Log-Likelihood:    </th> <td>-2.4765e+05</td>\n",
       "</tr>\n",
       "<tr>\n",
       "  <th>No. Observations:</th>      <td> 18344</td>      <th>  AIC:               </th>  <td>4.953e+05</td> \n",
       "</tr>\n",
       "<tr>\n",
       "  <th>Df Residuals:</th>          <td> 18334</td>      <th>  BIC:               </th>  <td>4.954e+05</td> \n",
       "</tr>\n",
       "<tr>\n",
       "  <th>Df Model:</th>              <td>     9</td>      <th>                     </th>      <td> </td>     \n",
       "</tr>\n",
       "<tr>\n",
       "  <th>Covariance Type:</th>      <td>nonrobust</td>    <th>                     </th>      <td> </td>     \n",
       "</tr>\n",
       "</table>\n",
       "<table class=\"simpletable\">\n",
       "<tr>\n",
       "       <td></td>          <th>coef</th>     <th>std err</th>      <th>t</th>      <th>P>|t|</th>  <th>[0.025</th>    <th>0.975]</th>  \n",
       "</tr>\n",
       "<tr>\n",
       "  <th>Intercept</th>   <td> 1.023e+07</td> <td> 2.77e+06</td> <td>    3.689</td> <td> 0.000</td> <td> 4.79e+06</td> <td> 1.57e+07</td>\n",
       "</tr>\n",
       "<tr>\n",
       "  <th>bedrooms</th>    <td>-3.558e+04</td> <td> 1894.968</td> <td>  -18.775</td> <td> 0.000</td> <td>-3.93e+04</td> <td>-3.19e+04</td>\n",
       "</tr>\n",
       "<tr>\n",
       "  <th>sqft_living</th> <td>  249.7833</td> <td>    2.540</td> <td>   98.357</td> <td> 0.000</td> <td>  244.806</td> <td>  254.761</td>\n",
       "</tr>\n",
       "<tr>\n",
       "  <th>sqft_lot</th>    <td>-3.752e+04</td> <td> 2057.473</td> <td>  -18.235</td> <td> 0.000</td> <td>-4.16e+04</td> <td>-3.35e+04</td>\n",
       "</tr>\n",
       "<tr>\n",
       "  <th>floors</th>      <td> 5.565e+04</td> <td> 3229.210</td> <td>   17.234</td> <td> 0.000</td> <td> 4.93e+04</td> <td>  6.2e+04</td>\n",
       "</tr>\n",
       "<tr>\n",
       "  <th>waterfront</th>  <td> 1.672e+05</td> <td> 2.14e+04</td> <td>    7.799</td> <td> 0.000</td> <td> 1.25e+05</td> <td> 2.09e+05</td>\n",
       "</tr>\n",
       "<tr>\n",
       "  <th>view</th>        <td> 5.346e+04</td> <td> 2112.888</td> <td>   25.302</td> <td> 0.000</td> <td> 4.93e+04</td> <td> 5.76e+04</td>\n",
       "</tr>\n",
       "<tr>\n",
       "  <th>condition</th>   <td> 1.968e+04</td> <td> 2193.067</td> <td>    8.973</td> <td> 0.000</td> <td> 1.54e+04</td> <td>  2.4e+04</td>\n",
       "</tr>\n",
       "<tr>\n",
       "  <th>yr_built</th>    <td>-2053.5894</td> <td>   58.737</td> <td>  -34.962</td> <td> 0.000</td> <td>-2168.720</td> <td>-1938.459</td>\n",
       "</tr>\n",
       "<tr>\n",
       "  <th>zipcode</th>     <td>  -60.0071</td> <td>   27.781</td> <td>   -2.160</td> <td> 0.031</td> <td> -114.461</td> <td>   -5.553</td>\n",
       "</tr>\n",
       "</table>\n",
       "<table class=\"simpletable\">\n",
       "<tr>\n",
       "  <th>Omnibus:</th>       <td>2850.958</td> <th>  Durbin-Watson:     </th> <td>   1.970</td>\n",
       "</tr>\n",
       "<tr>\n",
       "  <th>Prob(Omnibus):</th>  <td> 0.000</td>  <th>  Jarque-Bera (JB):  </th> <td>7557.925</td>\n",
       "</tr>\n",
       "<tr>\n",
       "  <th>Skew:</th>           <td> 0.856</td>  <th>  Prob(JB):          </th> <td>    0.00</td>\n",
       "</tr>\n",
       "<tr>\n",
       "  <th>Kurtosis:</th>       <td> 5.638</td>  <th>  Cond. No.          </th> <td>2.09e+08</td>\n",
       "</tr>\n",
       "</table><br/><br/>Notes:<br/>[1] Standard Errors assume that the covariance matrix of the errors is correctly specified.<br/>[2] The condition number is large, 2.09e+08. This might indicate that there are<br/>strong multicollinearity or other numerical problems."
      ],
      "text/plain": [
       "<class 'statsmodels.iolib.summary.Summary'>\n",
       "\"\"\"\n",
       "                            OLS Regression Results                            \n",
       "==============================================================================\n",
       "Dep. Variable:                  price   R-squared:                       0.517\n",
       "Model:                            OLS   Adj. R-squared:                  0.517\n",
       "Method:                 Least Squares   F-statistic:                     2181.\n",
       "Date:                Tue, 26 Jan 2021   Prob (F-statistic):               0.00\n",
       "Time:                        14:38:33   Log-Likelihood:            -2.4765e+05\n",
       "No. Observations:               18344   AIC:                         4.953e+05\n",
       "Df Residuals:                   18334   BIC:                         4.954e+05\n",
       "Df Model:                           9                                         \n",
       "Covariance Type:            nonrobust                                         \n",
       "===============================================================================\n",
       "                  coef    std err          t      P>|t|      [0.025      0.975]\n",
       "-------------------------------------------------------------------------------\n",
       "Intercept    1.023e+07   2.77e+06      3.689      0.000    4.79e+06    1.57e+07\n",
       "bedrooms    -3.558e+04   1894.968    -18.775      0.000   -3.93e+04   -3.19e+04\n",
       "sqft_living   249.7833      2.540     98.357      0.000     244.806     254.761\n",
       "sqft_lot    -3.752e+04   2057.473    -18.235      0.000   -4.16e+04   -3.35e+04\n",
       "floors       5.565e+04   3229.210     17.234      0.000    4.93e+04     6.2e+04\n",
       "waterfront   1.672e+05   2.14e+04      7.799      0.000    1.25e+05    2.09e+05\n",
       "view         5.346e+04   2112.888     25.302      0.000    4.93e+04    5.76e+04\n",
       "condition    1.968e+04   2193.067      8.973      0.000    1.54e+04     2.4e+04\n",
       "yr_built    -2053.5894     58.737    -34.962      0.000   -2168.720   -1938.459\n",
       "zipcode       -60.0071     27.781     -2.160      0.031    -114.461      -5.553\n",
       "==============================================================================\n",
       "Omnibus:                     2850.958   Durbin-Watson:                   1.970\n",
       "Prob(Omnibus):                  0.000   Jarque-Bera (JB):             7557.925\n",
       "Skew:                           0.856   Prob(JB):                         0.00\n",
       "Kurtosis:                       5.638   Cond. No.                     2.09e+08\n",
       "==============================================================================\n",
       "\n",
       "Notes:\n",
       "[1] Standard Errors assume that the covariance matrix of the errors is correctly specified.\n",
       "[2] The condition number is large, 2.09e+08. This might indicate that there are\n",
       "strong multicollinearity or other numerical problems.\n",
       "\"\"\""
      ]
     },
     "execution_count": 60,
     "metadata": {},
     "output_type": "execute_result"
    }
   ],
   "source": [
    "model_3 = ols(formula=f, data=df).fit()\n",
    "model_3.summary()"
   ]
  },
  {
   "cell_type": "code",
   "execution_count": 61,
   "metadata": {},
   "outputs": [],
   "source": [
    "data = df.copy()\n",
    "\n",
    "y = data['price']\n",
    "X = data.drop(['price', 'id'], axis = 1)"
   ]
  },
  {
   "cell_type": "code",
   "execution_count": 62,
   "metadata": {},
   "outputs": [],
   "source": [
    "X_train, X_test, y_train, y_test = train_test_split(X, y, test_size=0.2)"
   ]
  },
  {
   "cell_type": "code",
   "execution_count": 63,
   "metadata": {},
   "outputs": [],
   "source": [
    "linreg = LinearRegression()\n",
    "linreg.fit(X_train, y_train)\n",
    "\n",
    "y_hat_train = linreg.predict(X_train)\n",
    "y_hat_test = linreg.predict(X_test)"
   ]
  },
  {
   "cell_type": "code",
   "execution_count": 64,
   "metadata": {},
   "outputs": [
    {
     "name": "stdout",
     "output_type": "stream",
     "text": [
      "Train MSE: 31390905377.63209\n",
      "Test MSE: 30457358674.554604\n",
      "RMSE Train: 177174.78764664032\n",
      "RMSE Test: 174520.367506359\n"
     ]
    }
   ],
   "source": [
    "mse_train = mean_squared_error(y_train, y_hat_train)\n",
    "mse_test = mean_squared_error(y_test, y_hat_test)\n",
    "\n",
    "print('Train MSE:', mse_train)\n",
    "print('Test MSE:', mse_test)\n",
    "\n",
    "print('RMSE Train:', np.sqrt(mse_train))\n",
    "print('RMSE Test:', np.sqrt(mse_test))"
   ]
  },
  {
   "cell_type": "code",
   "execution_count": 65,
   "metadata": {},
   "outputs": [
    {
     "data": {
      "image/png": "[encoded data removed]",
      "text/plain": [
       "<Figure size 432x288 with 1 Axes>"
      ]
     },
     "execution_count": 65,
     "metadata": {},
     "output_type": "execute_result"
    },
    {
     "data": {
      "image/png": "[encoded data removed]",
      "text/plain": [
       "<Figure size 432x288 with 1 Axes>"
      ]
     },
     "metadata": {
      "needs_background": "light"
     },
     "output_type": "display_data"
    }
   ],
   "source": [
    "residuals = (y_test - y_hat_test)\n",
    "\n",
    "sm.qqplot(residuals, line = \"r\")"
   ]
  },
  {
   "cell_type": "markdown",
   "metadata": {},
   "source": [
    "This latest model has multiple improvements, but they are relatively subtle. \n",
    "\n",
    "The R-squared value increased slightly from 0.510 to 0.517. Additionally, none of the current features' coefficients have low t-scores."
   ]
  },
  {
   "cell_type": "markdown",
   "metadata": {},
   "source": [
    "# Model 4: Dealing With Categorical Data"
   ]
  },
  {
   "cell_type": "code",
   "execution_count": 66,
   "metadata": {},
   "outputs": [],
   "source": [
    "cat = ['bedrooms', 'floors', 'waterfront', 'condition', 'yr_built', 'view', 'zipcode']"
   ]
  },
  {
   "cell_type": "code",
   "execution_count": 67,
   "metadata": {},
   "outputs": [
    {
     "name": "stdout",
     "output_type": "stream",
     "text": [
      "<class 'pandas.core.frame.DataFrame'>\n",
      "Int64Index: 18344 entries, 1 to 21596\n",
      "Data columns (total 7 columns):\n",
      " #   Column      Non-Null Count  Dtype  \n",
      "---  ------      --------------  -----  \n",
      " 0   bedrooms    18344 non-null  int64  \n",
      " 1   floors      18344 non-null  float64\n",
      " 2   waterfront  18344 non-null  float64\n",
      " 3   condition   18344 non-null  int64  \n",
      " 4   yr_built    18344 non-null  int64  \n",
      " 5   view        18344 non-null  float64\n",
      " 6   zipcode     18344 non-null  int64  \n",
      "dtypes: float64(3), int64(4)\n",
      "memory usage: 1.1 MB\n"
     ]
    }
   ],
   "source": [
    "df[cat].info()"
   ]
  },
  {
   "cell_type": "code",
   "execution_count": 68,
   "metadata": {},
   "outputs": [
    {
     "data": {
      "text/plain": [
       "array([[<AxesSubplot:title={'center':'bedrooms'}>,\n",
       "        <AxesSubplot:title={'center':'floors'}>,\n",
       "        <AxesSubplot:title={'center':'waterfront'}>],\n",
       "       [<AxesSubplot:title={'center':'condition'}>,\n",
       "        <AxesSubplot:title={'center':'yr_built'}>,\n",
       "        <AxesSubplot:title={'center':'view'}>],\n",
       "       [<AxesSubplot:title={'center':'zipcode'}>, <AxesSubplot:>,\n",
       "        <AxesSubplot:>]], dtype=object)"
      ]
     },
     "execution_count": 68,
     "metadata": {},
     "output_type": "execute_result"
    },
    {
     "data": {
      "image/png": "[encoded data removed]",
      "text/plain": [
       "<Figure size 648x648 with 9 Axes>"
      ]
     },
     "metadata": {
      "needs_background": "light"
     },
     "output_type": "display_data"
    }
   ],
   "source": [
    "df[cat].hist(figsize=(9,9))"
   ]
  },
  {
   "cell_type": "markdown",
   "metadata": {},
   "source": [
    "## Binning The 'Year Built' Column Into Decades"
   ]
  },
  {
   "cell_type": "code",
   "execution_count": 69,
   "metadata": {},
   "outputs": [],
   "source": [
    "decade_bins = [1900, 1910, 1920, 1930, 1940, 1950, 1960, 1970, 1980, 1990, 2000, 2010, 2020]"
   ]
  },
  {
   "cell_type": "code",
   "execution_count": 70,
   "metadata": {},
   "outputs": [],
   "source": [
    "df['dec_built'] = pd.cut(df['yr_built'], bins=decade_bins, \n",
    "                         right=False)\n",
    "df['dec_built'] = df['dec_built'].cat.codes"
   ]
  },
  {
   "cell_type": "code",
   "execution_count": 71,
   "metadata": {},
   "outputs": [
    {
     "data": {
      "text/plain": [
       "<AxesSubplot:>"
      ]
     },
     "execution_count": 71,
     "metadata": {},
     "output_type": "execute_result"
    },
    {
     "data": {
      "image/png": "[encoded data removed]",
      "text/plain": [
       "<Figure size 864x432 with 1 Axes>"
      ]
     },
     "metadata": {
      "needs_background": "light"
     },
     "output_type": "display_data"
    }
   ],
   "source": [
    "df['dec_built'].hist(figsize=(12,6))"
   ]
  },
  {
   "cell_type": "markdown",
   "metadata": {},
   "source": [
    "## One Hot Encoding The 'Condition', 'Floors' & 'Zipcode' Columns"
   ]
  },
  {
   "cell_type": "code",
   "execution_count": 72,
   "metadata": {},
   "outputs": [],
   "source": [
    "cond_dummies = pd.get_dummies(df['condition'], prefix = 'cond', drop_first = True)\n",
    "floor_dummies = pd.get_dummies(df['floors'], prefix = 'floor', drop_first = True)\n",
    "zip_dummies = pd.get_dummies(df['zipcode'], prefix = 'zip', drop_first = True)"
   ]
  },
  {
   "cell_type": "code",
   "execution_count": 73,
   "metadata": {},
   "outputs": [],
   "source": [
    "df_d = pd.concat([df, cond_dummies, floor_dummies, zip_dummies], axis=1)"
   ]
  },
  {
   "cell_type": "code",
   "execution_count": 74,
   "metadata": {},
   "outputs": [],
   "source": [
    "df_d.columns = df_d.columns.str.replace('.','_')\n",
    "df_d.drop(['condition', 'floors', 'zipcode', 'yr_built'], axis=1, inplace=True)"
   ]
  },
  {
   "cell_type": "code",
   "execution_count": 75,
   "metadata": {},
   "outputs": [
    {
     "name": "stdout",
     "output_type": "stream",
     "text": [
      "<class 'pandas.core.frame.DataFrame'>\n",
      "Int64Index: 18344 entries, 1 to 21596\n",
      "Data columns (total 86 columns):\n",
      " #   Column       Non-Null Count  Dtype  \n",
      "---  ------       --------------  -----  \n",
      " 0   id           18344 non-null  int64  \n",
      " 1   price        18344 non-null  float64\n",
      " 2   bedrooms     18344 non-null  int64  \n",
      " 3   sqft_living  18344 non-null  int64  \n",
      " 4   sqft_lot     18344 non-null  float64\n",
      " 5   waterfront   18344 non-null  float64\n",
      " 6   view         18344 non-null  float64\n",
      " 7   dec_built    18344 non-null  int8   \n",
      " 8   cond_2       18344 non-null  uint8  \n",
      " 9   cond_3       18344 non-null  uint8  \n",
      " 10  cond_4       18344 non-null  uint8  \n",
      " 11  cond_5       18344 non-null  uint8  \n",
      " 12  floor_1_5    18344 non-null  uint8  \n",
      " 13  floor_2_0    18344 non-null  uint8  \n",
      " 14  floor_2_5    18344 non-null  uint8  \n",
      " 15  floor_3_0    18344 non-null  uint8  \n",
      " 16  floor_3_5    18344 non-null  uint8  \n",
      " 17  zip_98002    18344 non-null  uint8  \n",
      " 18  zip_98003    18344 non-null  uint8  \n",
      " 19  zip_98004    18344 non-null  uint8  \n",
      " 20  zip_98005    18344 non-null  uint8  \n",
      " 21  zip_98006    18344 non-null  uint8  \n",
      " 22  zip_98007    18344 non-null  uint8  \n",
      " 23  zip_98008    18344 non-null  uint8  \n",
      " 24  zip_98010    18344 non-null  uint8  \n",
      " 25  zip_98011    18344 non-null  uint8  \n",
      " 26  zip_98014    18344 non-null  uint8  \n",
      " 27  zip_98019    18344 non-null  uint8  \n",
      " 28  zip_98022    18344 non-null  uint8  \n",
      " 29  zip_98023    18344 non-null  uint8  \n",
      " 30  zip_98024    18344 non-null  uint8  \n",
      " 31  zip_98027    18344 non-null  uint8  \n",
      " 32  zip_98028    18344 non-null  uint8  \n",
      " 33  zip_98029    18344 non-null  uint8  \n",
      " 34  zip_98030    18344 non-null  uint8  \n",
      " 35  zip_98031    18344 non-null  uint8  \n",
      " 36  zip_98032    18344 non-null  uint8  \n",
      " 37  zip_98033    18344 non-null  uint8  \n",
      " 38  zip_98034    18344 non-null  uint8  \n",
      " 39  zip_98038    18344 non-null  uint8  \n",
      " 40  zip_98039    18344 non-null  uint8  \n",
      " 41  zip_98040    18344 non-null  uint8  \n",
      " 42  zip_98042    18344 non-null  uint8  \n",
      " 43  zip_98045    18344 non-null  uint8  \n",
      " 44  zip_98052    18344 non-null  uint8  \n",
      " 45  zip_98053    18344 non-null  uint8  \n",
      " 46  zip_98055    18344 non-null  uint8  \n",
      " 47  zip_98056    18344 non-null  uint8  \n",
      " 48  zip_98058    18344 non-null  uint8  \n",
      " 49  zip_98059    18344 non-null  uint8  \n",
      " 50  zip_98065    18344 non-null  uint8  \n",
      " 51  zip_98070    18344 non-null  uint8  \n",
      " 52  zip_98072    18344 non-null  uint8  \n",
      " 53  zip_98074    18344 non-null  uint8  \n",
      " 54  zip_98075    18344 non-null  uint8  \n",
      " 55  zip_98077    18344 non-null  uint8  \n",
      " 56  zip_98092    18344 non-null  uint8  \n",
      " 57  zip_98102    18344 non-null  uint8  \n",
      " 58  zip_98103    18344 non-null  uint8  \n",
      " 59  zip_98105    18344 non-null  uint8  \n",
      " 60  zip_98106    18344 non-null  uint8  \n",
      " 61  zip_98107    18344 non-null  uint8  \n",
      " 62  zip_98108    18344 non-null  uint8  \n",
      " 63  zip_98109    18344 non-null  uint8  \n",
      " 64  zip_98112    18344 non-null  uint8  \n",
      " 65  zip_98115    18344 non-null  uint8  \n",
      " 66  zip_98116    18344 non-null  uint8  \n",
      " 67  zip_98117    18344 non-null  uint8  \n",
      " 68  zip_98118    18344 non-null  uint8  \n",
      " 69  zip_98119    18344 non-null  uint8  \n",
      " 70  zip_98122    18344 non-null  uint8  \n",
      " 71  zip_98125    18344 non-null  uint8  \n",
      " 72  zip_98126    18344 non-null  uint8  \n",
      " 73  zip_98133    18344 non-null  uint8  \n",
      " 74  zip_98136    18344 non-null  uint8  \n",
      " 75  zip_98144    18344 non-null  uint8  \n",
      " 76  zip_98146    18344 non-null  uint8  \n",
      " 77  zip_98148    18344 non-null  uint8  \n",
      " 78  zip_98155    18344 non-null  uint8  \n",
      " 79  zip_98166    18344 non-null  uint8  \n",
      " 80  zip_98168    18344 non-null  uint8  \n",
      " 81  zip_98177    18344 non-null  uint8  \n",
      " 82  zip_98178    18344 non-null  uint8  \n",
      " 83  zip_98188    18344 non-null  uint8  \n",
      " 84  zip_98198    18344 non-null  uint8  \n",
      " 85  zip_98199    18344 non-null  uint8  \n",
      "dtypes: float64(4), int64(3), int8(1), uint8(78)\n",
      "memory usage: 2.5 MB\n"
     ]
    }
   ],
   "source": [
    "df_d.info()"
   ]
  },
  {
   "cell_type": "code",
   "execution_count": 76,
   "metadata": {},
   "outputs": [],
   "source": [
    "df_pred = df_d.drop(['price', 'id'], axis=1)"
   ]
  },
  {
   "cell_type": "code",
   "execution_count": 77,
   "metadata": {},
   "outputs": [],
   "source": [
    "outcome = 'price'\n",
    "x_cols = df_pred.columns\n",
    "predictors = '+'.join(x_cols)\n",
    "\n",
    "f = outcome + '~' + predictors"
   ]
  },
  {
   "cell_type": "code",
   "execution_count": 78,
   "metadata": {},
   "outputs": [
    {
     "data": {
      "text/html": [
       "<table class=\"simpletable\">\n",
       "<caption>OLS Regression Results</caption>\n",
       "<tr>\n",
       "  <th>Dep. Variable:</th>          <td>price</td>      <th>  R-squared:         </th>  <td>   0.808</td>  \n",
       "</tr>\n",
       "<tr>\n",
       "  <th>Model:</th>                   <td>OLS</td>       <th>  Adj. R-squared:    </th>  <td>   0.807</td>  \n",
       "</tr>\n",
       "<tr>\n",
       "  <th>Method:</th>             <td>Least Squares</td>  <th>  F-statistic:       </th>  <td>   913.3</td>  \n",
       "</tr>\n",
       "<tr>\n",
       "  <th>Date:</th>             <td>Tue, 26 Jan 2021</td> <th>  Prob (F-statistic):</th>   <td>  0.00</td>   \n",
       "</tr>\n",
       "<tr>\n",
       "  <th>Time:</th>                 <td>14:38:39</td>     <th>  Log-Likelihood:    </th> <td>-2.3921e+05</td>\n",
       "</tr>\n",
       "<tr>\n",
       "  <th>No. Observations:</th>      <td> 18344</td>      <th>  AIC:               </th>  <td>4.786e+05</td> \n",
       "</tr>\n",
       "<tr>\n",
       "  <th>Df Residuals:</th>          <td> 18259</td>      <th>  BIC:               </th>  <td>4.792e+05</td> \n",
       "</tr>\n",
       "<tr>\n",
       "  <th>Df Model:</th>              <td>    84</td>      <th>                     </th>      <td> </td>     \n",
       "</tr>\n",
       "<tr>\n",
       "  <th>Covariance Type:</th>      <td>nonrobust</td>    <th>                     </th>      <td> </td>     \n",
       "</tr>\n",
       "</table>\n",
       "<table class=\"simpletable\">\n",
       "<tr>\n",
       "       <td></td>          <th>coef</th>     <th>std err</th>      <th>t</th>      <th>P>|t|</th>  <th>[0.025</th>    <th>0.975]</th>  \n",
       "</tr>\n",
       "<tr>\n",
       "  <th>Intercept</th>   <td>-4.262e+05</td> <td> 2.87e+04</td> <td>  -14.860</td> <td> 0.000</td> <td>-4.82e+05</td> <td> -3.7e+05</td>\n",
       "</tr>\n",
       "<tr>\n",
       "  <th>bedrooms</th>    <td> -1.77e+04</td> <td> 1230.398</td> <td>  -14.384</td> <td> 0.000</td> <td>-2.01e+04</td> <td>-1.53e+04</td>\n",
       "</tr>\n",
       "<tr>\n",
       "  <th>sqft_living</th> <td>  172.8956</td> <td>    1.734</td> <td>   99.716</td> <td> 0.000</td> <td>  169.497</td> <td>  176.294</td>\n",
       "</tr>\n",
       "<tr>\n",
       "  <th>sqft_lot</th>    <td> 3.431e+04</td> <td> 1612.614</td> <td>   21.279</td> <td> 0.000</td> <td> 3.12e+04</td> <td> 3.75e+04</td>\n",
       "</tr>\n",
       "<tr>\n",
       "  <th>waterfront</th>  <td> 2.668e+05</td> <td> 1.39e+04</td> <td>   19.196</td> <td> 0.000</td> <td>  2.4e+05</td> <td> 2.94e+05</td>\n",
       "</tr>\n",
       "<tr>\n",
       "  <th>view</th>        <td> 5.238e+04</td> <td> 1374.963</td> <td>   38.092</td> <td> 0.000</td> <td> 4.97e+04</td> <td> 5.51e+04</td>\n",
       "</tr>\n",
       "<tr>\n",
       "  <th>dec_built</th>   <td> 2139.7678</td> <td>  474.287</td> <td>    4.512</td> <td> 0.000</td> <td> 1210.121</td> <td> 3069.415</td>\n",
       "</tr>\n",
       "<tr>\n",
       "  <th>cond_2</th>      <td> 4.679e+04</td> <td> 2.47e+04</td> <td>    1.892</td> <td> 0.059</td> <td>-1696.092</td> <td> 9.53e+04</td>\n",
       "</tr>\n",
       "<tr>\n",
       "  <th>cond_3</th>      <td> 7.875e+04</td> <td>  2.3e+04</td> <td>    3.429</td> <td> 0.001</td> <td> 3.37e+04</td> <td> 1.24e+05</td>\n",
       "</tr>\n",
       "<tr>\n",
       "  <th>cond_4</th>      <td> 8.822e+04</td> <td>  2.3e+04</td> <td>    3.841</td> <td> 0.000</td> <td> 4.32e+04</td> <td> 1.33e+05</td>\n",
       "</tr>\n",
       "<tr>\n",
       "  <th>cond_5</th>      <td> 1.283e+05</td> <td> 2.31e+04</td> <td>    5.554</td> <td> 0.000</td> <td>  8.3e+04</td> <td> 1.74e+05</td>\n",
       "</tr>\n",
       "<tr>\n",
       "  <th>floor_1_5</th>   <td> 1.992e+04</td> <td> 3278.741</td> <td>    6.076</td> <td> 0.000</td> <td> 1.35e+04</td> <td> 2.63e+04</td>\n",
       "</tr>\n",
       "<tr>\n",
       "  <th>floor_2_0</th>   <td> 3.507e+04</td> <td> 2466.754</td> <td>   14.218</td> <td> 0.000</td> <td> 3.02e+04</td> <td> 3.99e+04</td>\n",
       "</tr>\n",
       "<tr>\n",
       "  <th>floor_2_5</th>   <td> 6.819e+04</td> <td>  1.1e+04</td> <td>    6.212</td> <td> 0.000</td> <td> 4.67e+04</td> <td> 8.97e+04</td>\n",
       "</tr>\n",
       "<tr>\n",
       "  <th>floor_3_0</th>   <td> 1.448e+04</td> <td> 6066.645</td> <td>    2.386</td> <td> 0.017</td> <td> 2584.910</td> <td> 2.64e+04</td>\n",
       "</tr>\n",
       "<tr>\n",
       "  <th>floor_3_5</th>   <td> -3.58e+04</td> <td> 5.02e+04</td> <td>   -0.714</td> <td> 0.475</td> <td>-1.34e+05</td> <td> 6.25e+04</td>\n",
       "</tr>\n",
       "<tr>\n",
       "  <th>zip_98002</th>   <td> 2.027e+04</td> <td> 1.05e+04</td> <td>    1.939</td> <td> 0.053</td> <td> -220.427</td> <td> 4.08e+04</td>\n",
       "</tr>\n",
       "<tr>\n",
       "  <th>zip_98003</th>   <td> 1.565e+04</td> <td> 9385.583</td> <td>    1.667</td> <td> 0.095</td> <td>-2747.546</td> <td>  3.4e+04</td>\n",
       "</tr>\n",
       "<tr>\n",
       "  <th>zip_98004</th>   <td> 6.867e+05</td> <td> 1.01e+04</td> <td>   68.312</td> <td> 0.000</td> <td> 6.67e+05</td> <td> 7.06e+05</td>\n",
       "</tr>\n",
       "<tr>\n",
       "  <th>zip_98005</th>   <td> 3.803e+05</td> <td> 1.12e+04</td> <td>   34.030</td> <td> 0.000</td> <td> 3.58e+05</td> <td> 4.02e+05</td>\n",
       "</tr>\n",
       "<tr>\n",
       "  <th>zip_98006</th>   <td> 3.303e+05</td> <td> 8522.765</td> <td>   38.760</td> <td> 0.000</td> <td> 3.14e+05</td> <td> 3.47e+05</td>\n",
       "</tr>\n",
       "<tr>\n",
       "  <th>zip_98007</th>   <td>  3.08e+05</td> <td>  1.2e+04</td> <td>   25.713</td> <td> 0.000</td> <td> 2.85e+05</td> <td> 3.31e+05</td>\n",
       "</tr>\n",
       "<tr>\n",
       "  <th>zip_98008</th>   <td> 2.838e+05</td> <td> 9510.167</td> <td>   29.845</td> <td> 0.000</td> <td> 2.65e+05</td> <td> 3.02e+05</td>\n",
       "</tr>\n",
       "<tr>\n",
       "  <th>zip_98010</th>   <td> 6.759e+04</td> <td> 1.46e+04</td> <td>    4.633</td> <td> 0.000</td> <td>  3.9e+04</td> <td> 9.62e+04</td>\n",
       "</tr>\n",
       "<tr>\n",
       "  <th>zip_98011</th>   <td> 1.584e+05</td> <td> 1.06e+04</td> <td>   14.999</td> <td> 0.000</td> <td> 1.38e+05</td> <td> 1.79e+05</td>\n",
       "</tr>\n",
       "<tr>\n",
       "  <th>zip_98014</th>   <td> 7.741e+04</td> <td> 1.39e+04</td> <td>    5.579</td> <td> 0.000</td> <td> 5.02e+04</td> <td> 1.05e+05</td>\n",
       "</tr>\n",
       "<tr>\n",
       "  <th>zip_98019</th>   <td>  8.39e+04</td> <td> 1.11e+04</td> <td>    7.568</td> <td> 0.000</td> <td> 6.22e+04</td> <td> 1.06e+05</td>\n",
       "</tr>\n",
       "<tr>\n",
       "  <th>zip_98022</th>   <td>-6236.4177</td> <td> 1.05e+04</td> <td>   -0.593</td> <td> 0.553</td> <td>-2.68e+04</td> <td> 1.44e+04</td>\n",
       "</tr>\n",
       "<tr>\n",
       "  <th>zip_98023</th>   <td>  217.0503</td> <td> 8200.151</td> <td>    0.026</td> <td> 0.979</td> <td>-1.59e+04</td> <td> 1.63e+04</td>\n",
       "</tr>\n",
       "<tr>\n",
       "  <th>zip_98024</th>   <td> 1.307e+05</td> <td> 1.73e+04</td> <td>    7.547</td> <td> 0.000</td> <td> 9.68e+04</td> <td> 1.65e+05</td>\n",
       "</tr>\n",
       "<tr>\n",
       "  <th>zip_98027</th>   <td> 2.046e+05</td> <td> 8663.487</td> <td>   23.621</td> <td> 0.000</td> <td> 1.88e+05</td> <td> 2.22e+05</td>\n",
       "</tr>\n",
       "<tr>\n",
       "  <th>zip_98028</th>   <td> 1.476e+05</td> <td> 9378.909</td> <td>   15.737</td> <td> 0.000</td> <td> 1.29e+05</td> <td> 1.66e+05</td>\n",
       "</tr>\n",
       "<tr>\n",
       "  <th>zip_98029</th>   <td> 2.645e+05</td> <td> 9140.670</td> <td>   28.939</td> <td> 0.000</td> <td> 2.47e+05</td> <td> 2.82e+05</td>\n",
       "</tr>\n",
       "<tr>\n",
       "  <th>zip_98030</th>   <td>  1.61e+04</td> <td> 9630.446</td> <td>    1.672</td> <td> 0.095</td> <td>-2776.273</td> <td>  3.5e+04</td>\n",
       "</tr>\n",
       "<tr>\n",
       "  <th>zip_98031</th>   <td> 2.726e+04</td> <td> 9504.111</td> <td>    2.869</td> <td> 0.004</td> <td> 8635.701</td> <td> 4.59e+04</td>\n",
       "</tr>\n",
       "<tr>\n",
       "  <th>zip_98032</th>   <td> 1.475e+04</td> <td> 1.22e+04</td> <td>    1.206</td> <td> 0.228</td> <td>-9221.065</td> <td> 3.87e+04</td>\n",
       "</tr>\n",
       "<tr>\n",
       "  <th>zip_98033</th>   <td> 3.899e+05</td> <td> 8613.721</td> <td>   45.265</td> <td> 0.000</td> <td> 3.73e+05</td> <td> 4.07e+05</td>\n",
       "</tr>\n",
       "<tr>\n",
       "  <th>zip_98034</th>   <td>  2.17e+05</td> <td> 8084.784</td> <td>   26.842</td> <td> 0.000</td> <td> 2.01e+05</td> <td> 2.33e+05</td>\n",
       "</tr>\n",
       "<tr>\n",
       "  <th>zip_98038</th>   <td> 3.964e+04</td> <td> 8016.240</td> <td>    4.945</td> <td> 0.000</td> <td> 2.39e+04</td> <td> 5.54e+04</td>\n",
       "</tr>\n",
       "<tr>\n",
       "  <th>zip_98039</th>   <td>  8.79e+05</td> <td> 2.71e+04</td> <td>   32.447</td> <td> 0.000</td> <td> 8.26e+05</td> <td> 9.32e+05</td>\n",
       "</tr>\n",
       "<tr>\n",
       "  <th>zip_98040</th>   <td> 5.535e+05</td> <td> 1.01e+04</td> <td>   54.977</td> <td> 0.000</td> <td> 5.34e+05</td> <td> 5.73e+05</td>\n",
       "</tr>\n",
       "<tr>\n",
       "  <th>zip_98042</th>   <td> 1.619e+04</td> <td> 8069.277</td> <td>    2.007</td> <td> 0.045</td> <td>  376.023</td> <td>  3.2e+04</td>\n",
       "</tr>\n",
       "<tr>\n",
       "  <th>zip_98045</th>   <td> 1.018e+05</td> <td> 1.07e+04</td> <td>    9.559</td> <td> 0.000</td> <td>  8.1e+04</td> <td> 1.23e+05</td>\n",
       "</tr>\n",
       "<tr>\n",
       "  <th>zip_98052</th>   <td> 2.894e+05</td> <td> 7998.794</td> <td>   36.175</td> <td> 0.000</td> <td> 2.74e+05</td> <td> 3.05e+05</td>\n",
       "</tr>\n",
       "<tr>\n",
       "  <th>zip_98053</th>   <td> 2.481e+05</td> <td> 8824.098</td> <td>   28.117</td> <td> 0.000</td> <td> 2.31e+05</td> <td> 2.65e+05</td>\n",
       "</tr>\n",
       "<tr>\n",
       "  <th>zip_98055</th>   <td> 5.947e+04</td> <td> 9599.098</td> <td>    6.196</td> <td> 0.000</td> <td> 4.07e+04</td> <td> 7.83e+04</td>\n",
       "</tr>\n",
       "<tr>\n",
       "  <th>zip_98056</th>   <td> 1.114e+05</td> <td> 8597.763</td> <td>   12.961</td> <td> 0.000</td> <td> 9.46e+04</td> <td> 1.28e+05</td>\n",
       "</tr>\n",
       "<tr>\n",
       "  <th>zip_98058</th>   <td> 5.289e+04</td> <td> 8445.408</td> <td>    6.263</td> <td> 0.000</td> <td> 3.63e+04</td> <td> 6.94e+04</td>\n",
       "</tr>\n",
       "<tr>\n",
       "  <th>zip_98059</th>   <td> 1.256e+05</td> <td> 8407.837</td> <td>   14.941</td> <td> 0.000</td> <td> 1.09e+05</td> <td> 1.42e+05</td>\n",
       "</tr>\n",
       "<tr>\n",
       "  <th>zip_98065</th>   <td> 1.243e+05</td> <td> 9355.825</td> <td>   13.290</td> <td> 0.000</td> <td> 1.06e+05</td> <td> 1.43e+05</td>\n",
       "</tr>\n",
       "<tr>\n",
       "  <th>zip_98070</th>   <td> 2.982e+04</td> <td> 1.43e+04</td> <td>    2.087</td> <td> 0.037</td> <td> 1807.978</td> <td> 5.78e+04</td>\n",
       "</tr>\n",
       "<tr>\n",
       "  <th>zip_98072</th>   <td> 1.906e+05</td> <td> 9678.223</td> <td>   19.695</td> <td> 0.000</td> <td> 1.72e+05</td> <td>  2.1e+05</td>\n",
       "</tr>\n",
       "<tr>\n",
       "  <th>zip_98074</th>   <td> 2.561e+05</td> <td> 8593.112</td> <td>   29.798</td> <td> 0.000</td> <td> 2.39e+05</td> <td> 2.73e+05</td>\n",
       "</tr>\n",
       "<tr>\n",
       "  <th>zip_98075</th>   <td> 2.698e+05</td> <td> 8979.910</td> <td>   30.044</td> <td> 0.000</td> <td> 2.52e+05</td> <td> 2.87e+05</td>\n",
       "</tr>\n",
       "<tr>\n",
       "  <th>zip_98077</th>   <td> 1.967e+05</td> <td> 1.11e+04</td> <td>   17.776</td> <td> 0.000</td> <td> 1.75e+05</td> <td> 2.18e+05</td>\n",
       "</tr>\n",
       "<tr>\n",
       "  <th>zip_98092</th>   <td>-3652.6597</td> <td> 9129.361</td> <td>   -0.400</td> <td> 0.689</td> <td>-2.15e+04</td> <td> 1.42e+04</td>\n",
       "</tr>\n",
       "<tr>\n",
       "  <th>zip_98102</th>   <td> 5.218e+05</td> <td> 1.41e+04</td> <td>   37.036</td> <td> 0.000</td> <td> 4.94e+05</td> <td> 5.49e+05</td>\n",
       "</tr>\n",
       "<tr>\n",
       "  <th>zip_98103</th>   <td> 3.829e+05</td> <td> 8402.424</td> <td>   45.567</td> <td> 0.000</td> <td> 3.66e+05</td> <td> 3.99e+05</td>\n",
       "</tr>\n",
       "<tr>\n",
       "  <th>zip_98105</th>   <td> 5.016e+05</td> <td> 1.05e+04</td> <td>   47.940</td> <td> 0.000</td> <td> 4.81e+05</td> <td> 5.22e+05</td>\n",
       "</tr>\n",
       "<tr>\n",
       "  <th>zip_98106</th>   <td> 1.446e+05</td> <td> 9103.763</td> <td>   15.884</td> <td> 0.000</td> <td> 1.27e+05</td> <td> 1.62e+05</td>\n",
       "</tr>\n",
       "<tr>\n",
       "  <th>zip_98107</th>   <td> 3.787e+05</td> <td> 9966.360</td> <td>   38.000</td> <td> 0.000</td> <td> 3.59e+05</td> <td> 3.98e+05</td>\n",
       "</tr>\n",
       "<tr>\n",
       "  <th>zip_98108</th>   <td> 1.389e+05</td> <td> 1.08e+04</td> <td>   12.842</td> <td> 0.000</td> <td> 1.18e+05</td> <td>  1.6e+05</td>\n",
       "</tr>\n",
       "<tr>\n",
       "  <th>zip_98109</th>   <td> 5.399e+05</td> <td> 1.36e+04</td> <td>   39.685</td> <td> 0.000</td> <td> 5.13e+05</td> <td> 5.67e+05</td>\n",
       "</tr>\n",
       "<tr>\n",
       "  <th>zip_98112</th>   <td> 6.012e+05</td> <td> 1.04e+04</td> <td>   57.906</td> <td> 0.000</td> <td> 5.81e+05</td> <td> 6.22e+05</td>\n",
       "</tr>\n",
       "<tr>\n",
       "  <th>zip_98115</th>   <td> 3.715e+05</td> <td> 8222.932</td> <td>   45.183</td> <td> 0.000</td> <td> 3.55e+05</td> <td> 3.88e+05</td>\n",
       "</tr>\n",
       "<tr>\n",
       "  <th>zip_98116</th>   <td> 3.386e+05</td> <td> 9289.924</td> <td>   36.446</td> <td> 0.000</td> <td>  3.2e+05</td> <td> 3.57e+05</td>\n",
       "</tr>\n",
       "<tr>\n",
       "  <th>zip_98117</th>   <td> 3.591e+05</td> <td> 8320.321</td> <td>   43.158</td> <td> 0.000</td> <td> 3.43e+05</td> <td> 3.75e+05</td>\n",
       "</tr>\n",
       "<tr>\n",
       "  <th>zip_98118</th>   <td> 1.943e+05</td> <td> 8408.846</td> <td>   23.102</td> <td> 0.000</td> <td> 1.78e+05</td> <td> 2.11e+05</td>\n",
       "</tr>\n",
       "<tr>\n",
       "  <th>zip_98119</th>   <td> 5.171e+05</td> <td> 1.13e+04</td> <td>   45.901</td> <td> 0.000</td> <td> 4.95e+05</td> <td> 5.39e+05</td>\n",
       "</tr>\n",
       "<tr>\n",
       "  <th>zip_98122</th>   <td> 3.874e+05</td> <td> 9778.847</td> <td>   39.614</td> <td> 0.000</td> <td> 3.68e+05</td> <td> 4.07e+05</td>\n",
       "</tr>\n",
       "<tr>\n",
       "  <th>zip_98125</th>   <td> 2.225e+05</td> <td> 8678.233</td> <td>   25.634</td> <td> 0.000</td> <td> 2.05e+05</td> <td> 2.39e+05</td>\n",
       "</tr>\n",
       "<tr>\n",
       "  <th>zip_98126</th>   <td> 2.155e+05</td> <td> 9090.344</td> <td>   23.702</td> <td> 0.000</td> <td> 1.98e+05</td> <td> 2.33e+05</td>\n",
       "</tr>\n",
       "<tr>\n",
       "  <th>zip_98133</th>   <td> 1.809e+05</td> <td> 8343.923</td> <td>   21.675</td> <td> 0.000</td> <td> 1.65e+05</td> <td> 1.97e+05</td>\n",
       "</tr>\n",
       "<tr>\n",
       "  <th>zip_98136</th>   <td> 2.853e+05</td> <td> 9860.232</td> <td>   28.937</td> <td> 0.000</td> <td> 2.66e+05</td> <td> 3.05e+05</td>\n",
       "</tr>\n",
       "<tr>\n",
       "  <th>zip_98144</th>   <td>  2.91e+05</td> <td> 9379.986</td> <td>   31.019</td> <td> 0.000</td> <td> 2.73e+05</td> <td> 3.09e+05</td>\n",
       "</tr>\n",
       "<tr>\n",
       "  <th>zip_98146</th>   <td> 1.201e+05</td> <td> 9410.518</td> <td>   12.760</td> <td> 0.000</td> <td> 1.02e+05</td> <td> 1.39e+05</td>\n",
       "</tr>\n",
       "<tr>\n",
       "  <th>zip_98148</th>   <td> 8.167e+04</td> <td> 1.69e+04</td> <td>    4.840</td> <td> 0.000</td> <td> 4.86e+04</td> <td> 1.15e+05</td>\n",
       "</tr>\n",
       "<tr>\n",
       "  <th>zip_98155</th>   <td> 1.576e+05</td> <td> 8435.379</td> <td>   18.681</td> <td> 0.000</td> <td> 1.41e+05</td> <td> 1.74e+05</td>\n",
       "</tr>\n",
       "<tr>\n",
       "  <th>zip_98166</th>   <td>  1.04e+05</td> <td> 9933.158</td> <td>   10.472</td> <td> 0.000</td> <td> 8.46e+04</td> <td> 1.23e+05</td>\n",
       "</tr>\n",
       "<tr>\n",
       "  <th>zip_98168</th>   <td> 4.954e+04</td> <td> 9693.063</td> <td>    5.111</td> <td> 0.000</td> <td> 3.05e+04</td> <td> 6.85e+04</td>\n",
       "</tr>\n",
       "<tr>\n",
       "  <th>zip_98177</th>   <td> 2.599e+05</td> <td> 9852.857</td> <td>   26.373</td> <td> 0.000</td> <td> 2.41e+05</td> <td> 2.79e+05</td>\n",
       "</tr>\n",
       "<tr>\n",
       "  <th>zip_98178</th>   <td> 5.088e+04</td> <td> 9738.165</td> <td>    5.225</td> <td> 0.000</td> <td> 3.18e+04</td> <td>    7e+04</td>\n",
       "</tr>\n",
       "<tr>\n",
       "  <th>zip_98188</th>   <td> 3.549e+04</td> <td>  1.2e+04</td> <td>    2.956</td> <td> 0.003</td> <td>  1.2e+04</td> <td>  5.9e+04</td>\n",
       "</tr>\n",
       "<tr>\n",
       "  <th>zip_98198</th>   <td> 2.518e+04</td> <td> 9608.230</td> <td>    2.621</td> <td> 0.009</td> <td> 6348.159</td> <td>  4.4e+04</td>\n",
       "</tr>\n",
       "<tr>\n",
       "  <th>zip_98199</th>   <td> 4.275e+05</td> <td> 9514.226</td> <td>   44.930</td> <td> 0.000</td> <td> 4.09e+05</td> <td> 4.46e+05</td>\n",
       "</tr>\n",
       "</table>\n",
       "<table class=\"simpletable\">\n",
       "<tr>\n",
       "  <th>Omnibus:</th>       <td>3403.764</td> <th>  Durbin-Watson:     </th> <td>   1.973</td> \n",
       "</tr>\n",
       "<tr>\n",
       "  <th>Prob(Omnibus):</th>  <td> 0.000</td>  <th>  Jarque-Bera (JB):  </th> <td>18000.641</td>\n",
       "</tr>\n",
       "<tr>\n",
       "  <th>Skew:</th>           <td> 0.796</td>  <th>  Prob(JB):          </th> <td>    0.00</td> \n",
       "</tr>\n",
       "<tr>\n",
       "  <th>Kurtosis:</th>       <td> 7.584</td>  <th>  Cond. No.          </th> <td>1.42e+05</td> \n",
       "</tr>\n",
       "</table><br/><br/>Notes:<br/>[1] Standard Errors assume that the covariance matrix of the errors is correctly specified.<br/>[2] The condition number is large, 1.42e+05. This might indicate that there are<br/>strong multicollinearity or other numerical problems."
      ],
      "text/plain": [
       "<class 'statsmodels.iolib.summary.Summary'>\n",
       "\"\"\"\n",
       "                            OLS Regression Results                            \n",
       "==============================================================================\n",
       "Dep. Variable:                  price   R-squared:                       0.808\n",
       "Model:                            OLS   Adj. R-squared:                  0.807\n",
       "Method:                 Least Squares   F-statistic:                     913.3\n",
       "Date:                Tue, 26 Jan 2021   Prob (F-statistic):               0.00\n",
       "Time:                        14:38:39   Log-Likelihood:            -2.3921e+05\n",
       "No. Observations:               18344   AIC:                         4.786e+05\n",
       "Df Residuals:                   18259   BIC:                         4.792e+05\n",
       "Df Model:                          84                                         \n",
       "Covariance Type:            nonrobust                                         \n",
       "===============================================================================\n",
       "                  coef    std err          t      P>|t|      [0.025      0.975]\n",
       "-------------------------------------------------------------------------------\n",
       "Intercept   -4.262e+05   2.87e+04    -14.860      0.000   -4.82e+05    -3.7e+05\n",
       "bedrooms     -1.77e+04   1230.398    -14.384      0.000   -2.01e+04   -1.53e+04\n",
       "sqft_living   172.8956      1.734     99.716      0.000     169.497     176.294\n",
       "sqft_lot     3.431e+04   1612.614     21.279      0.000    3.12e+04    3.75e+04\n",
       "waterfront   2.668e+05   1.39e+04     19.196      0.000     2.4e+05    2.94e+05\n",
       "view         5.238e+04   1374.963     38.092      0.000    4.97e+04    5.51e+04\n",
       "dec_built    2139.7678    474.287      4.512      0.000    1210.121    3069.415\n",
       "cond_2       4.679e+04   2.47e+04      1.892      0.059   -1696.092    9.53e+04\n",
       "cond_3       7.875e+04    2.3e+04      3.429      0.001    3.37e+04    1.24e+05\n",
       "cond_4       8.822e+04    2.3e+04      3.841      0.000    4.32e+04    1.33e+05\n",
       "cond_5       1.283e+05   2.31e+04      5.554      0.000     8.3e+04    1.74e+05\n",
       "floor_1_5    1.992e+04   3278.741      6.076      0.000    1.35e+04    2.63e+04\n",
       "floor_2_0    3.507e+04   2466.754     14.218      0.000    3.02e+04    3.99e+04\n",
       "floor_2_5    6.819e+04    1.1e+04      6.212      0.000    4.67e+04    8.97e+04\n",
       "floor_3_0    1.448e+04   6066.645      2.386      0.017    2584.910    2.64e+04\n",
       "floor_3_5    -3.58e+04   5.02e+04     -0.714      0.475   -1.34e+05    6.25e+04\n",
       "zip_98002    2.027e+04   1.05e+04      1.939      0.053    -220.427    4.08e+04\n",
       "zip_98003    1.565e+04   9385.583      1.667      0.095   -2747.546     3.4e+04\n",
       "zip_98004    6.867e+05   1.01e+04     68.312      0.000    6.67e+05    7.06e+05\n",
       "zip_98005    3.803e+05   1.12e+04     34.030      0.000    3.58e+05    4.02e+05\n",
       "zip_98006    3.303e+05   8522.765     38.760      0.000    3.14e+05    3.47e+05\n",
       "zip_98007     3.08e+05    1.2e+04     25.713      0.000    2.85e+05    3.31e+05\n",
       "zip_98008    2.838e+05   9510.167     29.845      0.000    2.65e+05    3.02e+05\n",
       "zip_98010    6.759e+04   1.46e+04      4.633      0.000     3.9e+04    9.62e+04\n",
       "zip_98011    1.584e+05   1.06e+04     14.999      0.000    1.38e+05    1.79e+05\n",
       "zip_98014    7.741e+04   1.39e+04      5.579      0.000    5.02e+04    1.05e+05\n",
       "zip_98019     8.39e+04   1.11e+04      7.568      0.000    6.22e+04    1.06e+05\n",
       "zip_98022   -6236.4177   1.05e+04     -0.593      0.553   -2.68e+04    1.44e+04\n",
       "zip_98023     217.0503   8200.151      0.026      0.979   -1.59e+04    1.63e+04\n",
       "zip_98024    1.307e+05   1.73e+04      7.547      0.000    9.68e+04    1.65e+05\n",
       "zip_98027    2.046e+05   8663.487     23.621      0.000    1.88e+05    2.22e+05\n",
       "zip_98028    1.476e+05   9378.909     15.737      0.000    1.29e+05    1.66e+05\n",
       "zip_98029    2.645e+05   9140.670     28.939      0.000    2.47e+05    2.82e+05\n",
       "zip_98030     1.61e+04   9630.446      1.672      0.095   -2776.273     3.5e+04\n",
       "zip_98031    2.726e+04   9504.111      2.869      0.004    8635.701    4.59e+04\n",
       "zip_98032    1.475e+04   1.22e+04      1.206      0.228   -9221.065    3.87e+04\n",
       "zip_98033    3.899e+05   8613.721     45.265      0.000    3.73e+05    4.07e+05\n",
       "zip_98034     2.17e+05   8084.784     26.842      0.000    2.01e+05    2.33e+05\n",
       "zip_98038    3.964e+04   8016.240      4.945      0.000    2.39e+04    5.54e+04\n",
       "zip_98039     8.79e+05   2.71e+04     32.447      0.000    8.26e+05    9.32e+05\n",
       "zip_98040    5.535e+05   1.01e+04     54.977      0.000    5.34e+05    5.73e+05\n",
       "zip_98042    1.619e+04   8069.277      2.007      0.045     376.023     3.2e+04\n",
       "zip_98045    1.018e+05   1.07e+04      9.559      0.000     8.1e+04    1.23e+05\n",
       "zip_98052    2.894e+05   7998.794     36.175      0.000    2.74e+05    3.05e+05\n",
       "zip_98053    2.481e+05   8824.098     28.117      0.000    2.31e+05    2.65e+05\n",
       "zip_98055    5.947e+04   9599.098      6.196      0.000    4.07e+04    7.83e+04\n",
       "zip_98056    1.114e+05   8597.763     12.961      0.000    9.46e+04    1.28e+05\n",
       "zip_98058    5.289e+04   8445.408      6.263      0.000    3.63e+04    6.94e+04\n",
       "zip_98059    1.256e+05   8407.837     14.941      0.000    1.09e+05    1.42e+05\n",
       "zip_98065    1.243e+05   9355.825     13.290      0.000    1.06e+05    1.43e+05\n",
       "zip_98070    2.982e+04   1.43e+04      2.087      0.037    1807.978    5.78e+04\n",
       "zip_98072    1.906e+05   9678.223     19.695      0.000    1.72e+05     2.1e+05\n",
       "zip_98074    2.561e+05   8593.112     29.798      0.000    2.39e+05    2.73e+05\n",
       "zip_98075    2.698e+05   8979.910     30.044      0.000    2.52e+05    2.87e+05\n",
       "zip_98077    1.967e+05   1.11e+04     17.776      0.000    1.75e+05    2.18e+05\n",
       "zip_98092   -3652.6597   9129.361     -0.400      0.689   -2.15e+04    1.42e+04\n",
       "zip_98102    5.218e+05   1.41e+04     37.036      0.000    4.94e+05    5.49e+05\n",
       "zip_98103    3.829e+05   8402.424     45.567      0.000    3.66e+05    3.99e+05\n",
       "zip_98105    5.016e+05   1.05e+04     47.940      0.000    4.81e+05    5.22e+05\n",
       "zip_98106    1.446e+05   9103.763     15.884      0.000    1.27e+05    1.62e+05\n",
       "zip_98107    3.787e+05   9966.360     38.000      0.000    3.59e+05    3.98e+05\n",
       "zip_98108    1.389e+05   1.08e+04     12.842      0.000    1.18e+05     1.6e+05\n",
       "zip_98109    5.399e+05   1.36e+04     39.685      0.000    5.13e+05    5.67e+05\n",
       "zip_98112    6.012e+05   1.04e+04     57.906      0.000    5.81e+05    6.22e+05\n",
       "zip_98115    3.715e+05   8222.932     45.183      0.000    3.55e+05    3.88e+05\n",
       "zip_98116    3.386e+05   9289.924     36.446      0.000     3.2e+05    3.57e+05\n",
       "zip_98117    3.591e+05   8320.321     43.158      0.000    3.43e+05    3.75e+05\n",
       "zip_98118    1.943e+05   8408.846     23.102      0.000    1.78e+05    2.11e+05\n",
       "zip_98119    5.171e+05   1.13e+04     45.901      0.000    4.95e+05    5.39e+05\n",
       "zip_98122    3.874e+05   9778.847     39.614      0.000    3.68e+05    4.07e+05\n",
       "zip_98125    2.225e+05   8678.233     25.634      0.000    2.05e+05    2.39e+05\n",
       "zip_98126    2.155e+05   9090.344     23.702      0.000    1.98e+05    2.33e+05\n",
       "zip_98133    1.809e+05   8343.923     21.675      0.000    1.65e+05    1.97e+05\n",
       "zip_98136    2.853e+05   9860.232     28.937      0.000    2.66e+05    3.05e+05\n",
       "zip_98144     2.91e+05   9379.986     31.019      0.000    2.73e+05    3.09e+05\n",
       "zip_98146    1.201e+05   9410.518     12.760      0.000    1.02e+05    1.39e+05\n",
       "zip_98148    8.167e+04   1.69e+04      4.840      0.000    4.86e+04    1.15e+05\n",
       "zip_98155    1.576e+05   8435.379     18.681      0.000    1.41e+05    1.74e+05\n",
       "zip_98166     1.04e+05   9933.158     10.472      0.000    8.46e+04    1.23e+05\n",
       "zip_98168    4.954e+04   9693.063      5.111      0.000    3.05e+04    6.85e+04\n",
       "zip_98177    2.599e+05   9852.857     26.373      0.000    2.41e+05    2.79e+05\n",
       "zip_98178    5.088e+04   9738.165      5.225      0.000    3.18e+04       7e+04\n",
       "zip_98188    3.549e+04    1.2e+04      2.956      0.003     1.2e+04     5.9e+04\n",
       "zip_98198    2.518e+04   9608.230      2.621      0.009    6348.159     4.4e+04\n",
       "zip_98199    4.275e+05   9514.226     44.930      0.000    4.09e+05    4.46e+05\n",
       "==============================================================================\n",
       "Omnibus:                     3403.764   Durbin-Watson:                   1.973\n",
       "Prob(Omnibus):                  0.000   Jarque-Bera (JB):            18000.641\n",
       "Skew:                           0.796   Prob(JB):                         0.00\n",
       "Kurtosis:                       7.584   Cond. No.                     1.42e+05\n",
       "==============================================================================\n",
       "\n",
       "Notes:\n",
       "[1] Standard Errors assume that the covariance matrix of the errors is correctly specified.\n",
       "[2] The condition number is large, 1.42e+05. This might indicate that there are\n",
       "strong multicollinearity or other numerical problems.\n",
       "\"\"\""
      ]
     },
     "execution_count": 78,
     "metadata": {},
     "output_type": "execute_result"
    }
   ],
   "source": [
    "model_4 = ols(formula=f, data=df_d).fit()\n",
    "model_4.summary()"
   ]
  },
  {
   "cell_type": "markdown",
   "metadata": {},
   "source": [
    "The sizable jump in R-squared value is very encouraging, but before I proceed with the rest of modeling, I observe the t-scores (and their associated p-values) for the predictor coefficients. \n",
    "\n",
    "A few of the p-values for dummy variable coefficients exceed what most would consider an acceptable cutoff of p=0.05. Consequently, I drop these dummy columns before re-running the model. "
   ]
  },
  {
   "cell_type": "code",
   "execution_count": 79,
   "metadata": {},
   "outputs": [],
   "source": [
    "high_t_score = ['cond_2','floor_3_5','zip_98002','zip_98003','zip_98022','zip_98023','zip_98030','zip_98032','zip_98092']\n",
    "df_d.drop(high_t_score, axis=1, inplace=True)"
   ]
  },
  {
   "cell_type": "code",
   "execution_count": 80,
   "metadata": {},
   "outputs": [],
   "source": [
    "df_pred = df_d.drop(['price', 'id'], axis=1)"
   ]
  },
  {
   "cell_type": "code",
   "execution_count": 81,
   "metadata": {},
   "outputs": [],
   "source": [
    "outcome = 'price'\n",
    "x_cols = df_pred.columns\n",
    "predictors = '+'.join(x_cols)\n",
    "\n",
    "f = outcome + '~' + predictors"
   ]
  },
  {
   "cell_type": "code",
   "execution_count": 82,
   "metadata": {},
   "outputs": [
    {
     "data": {
      "text/html": [
       "<table class=\"simpletable\">\n",
       "<caption>OLS Regression Results</caption>\n",
       "<tr>\n",
       "  <th>Dep. Variable:</th>          <td>price</td>      <th>  R-squared:         </th>  <td>   0.808</td>  \n",
       "</tr>\n",
       "<tr>\n",
       "  <th>Model:</th>                   <td>OLS</td>       <th>  Adj. R-squared:    </th>  <td>   0.807</td>  \n",
       "</tr>\n",
       "<tr>\n",
       "  <th>Method:</th>             <td>Least Squares</td>  <th>  F-statistic:       </th>  <td>   1022.</td>  \n",
       "</tr>\n",
       "<tr>\n",
       "  <th>Date:</th>             <td>Tue, 26 Jan 2021</td> <th>  Prob (F-statistic):</th>   <td>  0.00</td>   \n",
       "</tr>\n",
       "<tr>\n",
       "  <th>Time:</th>                 <td>14:38:42</td>     <th>  Log-Likelihood:    </th> <td>-2.3921e+05</td>\n",
       "</tr>\n",
       "<tr>\n",
       "  <th>No. Observations:</th>      <td> 18344</td>      <th>  AIC:               </th>  <td>4.786e+05</td> \n",
       "</tr>\n",
       "<tr>\n",
       "  <th>Df Residuals:</th>          <td> 18268</td>      <th>  BIC:               </th>  <td>4.792e+05</td> \n",
       "</tr>\n",
       "<tr>\n",
       "  <th>Df Model:</th>              <td>    75</td>      <th>                     </th>      <td> </td>     \n",
       "</tr>\n",
       "<tr>\n",
       "  <th>Covariance Type:</th>      <td>nonrobust</td>    <th>                     </th>      <td> </td>     \n",
       "</tr>\n",
       "</table>\n",
       "<table class=\"simpletable\">\n",
       "<tr>\n",
       "       <td></td>          <th>coef</th>     <th>std err</th>      <th>t</th>      <th>P>|t|</th>  <th>[0.025</th>    <th>0.975]</th>  \n",
       "</tr>\n",
       "<tr>\n",
       "  <th>Intercept</th>   <td>-3.766e+05</td> <td> 1.81e+04</td> <td>  -20.833</td> <td> 0.000</td> <td>-4.12e+05</td> <td>-3.41e+05</td>\n",
       "</tr>\n",
       "<tr>\n",
       "  <th>bedrooms</th>    <td>-1.759e+04</td> <td> 1229.955</td> <td>  -14.298</td> <td> 0.000</td> <td>   -2e+04</td> <td>-1.52e+04</td>\n",
       "</tr>\n",
       "<tr>\n",
       "  <th>sqft_living</th> <td>  172.9268</td> <td>    1.732</td> <td>   99.846</td> <td> 0.000</td> <td>  169.532</td> <td>  176.322</td>\n",
       "</tr>\n",
       "<tr>\n",
       "  <th>sqft_lot</th>    <td> 3.384e+04</td> <td> 1603.614</td> <td>   21.103</td> <td> 0.000</td> <td> 3.07e+04</td> <td>  3.7e+04</td>\n",
       "</tr>\n",
       "<tr>\n",
       "  <th>waterfront</th>  <td> 2.663e+05</td> <td> 1.39e+04</td> <td>   19.170</td> <td> 0.000</td> <td> 2.39e+05</td> <td> 2.94e+05</td>\n",
       "</tr>\n",
       "<tr>\n",
       "  <th>view</th>        <td>  5.23e+04</td> <td> 1373.036</td> <td>   38.088</td> <td> 0.000</td> <td> 4.96e+04</td> <td>  5.5e+04</td>\n",
       "</tr>\n",
       "<tr>\n",
       "  <th>dec_built</th>   <td> 2060.9391</td> <td>  472.837</td> <td>    4.359</td> <td> 0.000</td> <td> 1134.135</td> <td> 2987.743</td>\n",
       "</tr>\n",
       "<tr>\n",
       "  <th>cond_3</th>      <td> 3.916e+04</td> <td> 8859.587</td> <td>    4.420</td> <td> 0.000</td> <td> 2.18e+04</td> <td> 5.65e+04</td>\n",
       "</tr>\n",
       "<tr>\n",
       "  <th>cond_4</th>      <td> 4.877e+04</td> <td> 8895.471</td> <td>    5.482</td> <td> 0.000</td> <td> 3.13e+04</td> <td> 6.62e+04</td>\n",
       "</tr>\n",
       "<tr>\n",
       "  <th>cond_5</th>      <td> 8.858e+04</td> <td> 9253.223</td> <td>    9.573</td> <td> 0.000</td> <td> 7.04e+04</td> <td> 1.07e+05</td>\n",
       "</tr>\n",
       "<tr>\n",
       "  <th>floor_1_5</th>   <td> 1.969e+04</td> <td> 3275.897</td> <td>    6.011</td> <td> 0.000</td> <td> 1.33e+04</td> <td> 2.61e+04</td>\n",
       "</tr>\n",
       "<tr>\n",
       "  <th>floor_2_0</th>   <td> 3.494e+04</td> <td> 2459.178</td> <td>   14.206</td> <td> 0.000</td> <td> 3.01e+04</td> <td> 3.98e+04</td>\n",
       "</tr>\n",
       "<tr>\n",
       "  <th>floor_2_5</th>   <td> 6.792e+04</td> <td>  1.1e+04</td> <td>    6.188</td> <td> 0.000</td> <td> 4.64e+04</td> <td> 8.94e+04</td>\n",
       "</tr>\n",
       "<tr>\n",
       "  <th>floor_3_0</th>   <td> 1.449e+04</td> <td> 6058.978</td> <td>    2.392</td> <td> 0.017</td> <td> 2617.566</td> <td> 2.64e+04</td>\n",
       "</tr>\n",
       "<tr>\n",
       "  <th>zip_98004</th>   <td> 6.809e+05</td> <td> 8269.769</td> <td>   82.332</td> <td> 0.000</td> <td> 6.65e+05</td> <td> 6.97e+05</td>\n",
       "</tr>\n",
       "<tr>\n",
       "  <th>zip_98005</th>   <td> 3.749e+05</td> <td> 9610.396</td> <td>   39.012</td> <td> 0.000</td> <td> 3.56e+05</td> <td> 3.94e+05</td>\n",
       "</tr>\n",
       "<tr>\n",
       "  <th>zip_98006</th>   <td> 3.249e+05</td> <td> 6323.602</td> <td>   51.375</td> <td> 0.000</td> <td> 3.12e+05</td> <td> 3.37e+05</td>\n",
       "</tr>\n",
       "<tr>\n",
       "  <th>zip_98007</th>   <td> 3.023e+05</td> <td> 1.05e+04</td> <td>   28.709</td> <td> 0.000</td> <td> 2.82e+05</td> <td> 3.23e+05</td>\n",
       "</tr>\n",
       "<tr>\n",
       "  <th>zip_98008</th>   <td> 2.781e+05</td> <td> 7594.416</td> <td>   36.618</td> <td> 0.000</td> <td> 2.63e+05</td> <td> 2.93e+05</td>\n",
       "</tr>\n",
       "<tr>\n",
       "  <th>zip_98010</th>   <td> 6.235e+04</td> <td> 1.34e+04</td> <td>    4.637</td> <td> 0.000</td> <td>  3.6e+04</td> <td> 8.87e+04</td>\n",
       "</tr>\n",
       "<tr>\n",
       "  <th>zip_98011</th>   <td> 1.529e+05</td> <td> 8896.667</td> <td>   17.183</td> <td> 0.000</td> <td> 1.35e+05</td> <td>  1.7e+05</td>\n",
       "</tr>\n",
       "<tr>\n",
       "  <th>zip_98014</th>   <td> 7.245e+04</td> <td> 1.27e+04</td> <td>    5.714</td> <td> 0.000</td> <td> 4.76e+04</td> <td> 9.73e+04</td>\n",
       "</tr>\n",
       "<tr>\n",
       "  <th>zip_98019</th>   <td> 7.868e+04</td> <td> 9533.428</td> <td>    8.254</td> <td> 0.000</td> <td>    6e+04</td> <td> 9.74e+04</td>\n",
       "</tr>\n",
       "<tr>\n",
       "  <th>zip_98024</th>   <td> 1.255e+05</td> <td> 1.64e+04</td> <td>    7.663</td> <td> 0.000</td> <td> 9.34e+04</td> <td> 1.58e+05</td>\n",
       "</tr>\n",
       "<tr>\n",
       "  <th>zip_98027</th>   <td> 1.992e+05</td> <td> 6535.887</td> <td>   30.485</td> <td> 0.000</td> <td> 1.86e+05</td> <td> 2.12e+05</td>\n",
       "</tr>\n",
       "<tr>\n",
       "  <th>zip_98028</th>   <td> 1.419e+05</td> <td> 7455.282</td> <td>   19.036</td> <td> 0.000</td> <td> 1.27e+05</td> <td> 1.57e+05</td>\n",
       "</tr>\n",
       "<tr>\n",
       "  <th>zip_98029</th>   <td> 2.589e+05</td> <td> 7147.592</td> <td>   36.226</td> <td> 0.000</td> <td> 2.45e+05</td> <td> 2.73e+05</td>\n",
       "</tr>\n",
       "<tr>\n",
       "  <th>zip_98031</th>   <td>  2.17e+04</td> <td> 7609.921</td> <td>    2.852</td> <td> 0.004</td> <td> 6783.985</td> <td> 3.66e+04</td>\n",
       "</tr>\n",
       "<tr>\n",
       "  <th>zip_98033</th>   <td> 3.843e+05</td> <td> 6453.456</td> <td>   59.546</td> <td> 0.000</td> <td> 3.72e+05</td> <td> 3.97e+05</td>\n",
       "</tr>\n",
       "<tr>\n",
       "  <th>zip_98034</th>   <td> 2.114e+05</td> <td> 5730.989</td> <td>   36.890</td> <td> 0.000</td> <td>    2e+05</td> <td> 2.23e+05</td>\n",
       "</tr>\n",
       "<tr>\n",
       "  <th>zip_98038</th>   <td> 3.421e+04</td> <td> 5660.351</td> <td>    6.045</td> <td> 0.000</td> <td> 2.31e+04</td> <td> 4.53e+04</td>\n",
       "</tr>\n",
       "<tr>\n",
       "  <th>zip_98039</th>   <td> 8.734e+05</td> <td> 2.65e+04</td> <td>   32.974</td> <td> 0.000</td> <td> 8.21e+05</td> <td> 9.25e+05</td>\n",
       "</tr>\n",
       "<tr>\n",
       "  <th>zip_98040</th>   <td>  5.48e+05</td> <td> 8284.206</td> <td>   66.152</td> <td> 0.000</td> <td> 5.32e+05</td> <td> 5.64e+05</td>\n",
       "</tr>\n",
       "<tr>\n",
       "  <th>zip_98042</th>   <td> 1.081e+04</td> <td> 5726.031</td> <td>    1.888</td> <td> 0.059</td> <td> -410.653</td> <td>  2.2e+04</td>\n",
       "</tr>\n",
       "<tr>\n",
       "  <th>zip_98045</th>   <td> 9.682e+04</td> <td> 9034.875</td> <td>   10.716</td> <td> 0.000</td> <td> 7.91e+04</td> <td> 1.15e+05</td>\n",
       "</tr>\n",
       "<tr>\n",
       "  <th>zip_98052</th>   <td> 2.838e+05</td> <td> 5613.950</td> <td>   50.547</td> <td> 0.000</td> <td> 2.73e+05</td> <td> 2.95e+05</td>\n",
       "</tr>\n",
       "<tr>\n",
       "  <th>zip_98053</th>   <td> 2.429e+05</td> <td> 6764.354</td> <td>   35.913</td> <td> 0.000</td> <td>  2.3e+05</td> <td> 2.56e+05</td>\n",
       "</tr>\n",
       "<tr>\n",
       "  <th>zip_98055</th>   <td> 5.391e+04</td> <td> 7719.052</td> <td>    6.983</td> <td> 0.000</td> <td> 3.88e+04</td> <td>  6.9e+04</td>\n",
       "</tr>\n",
       "<tr>\n",
       "  <th>zip_98056</th>   <td> 1.059e+05</td> <td> 6430.626</td> <td>   16.462</td> <td> 0.000</td> <td> 9.33e+04</td> <td> 1.18e+05</td>\n",
       "</tr>\n",
       "<tr>\n",
       "  <th>zip_98058</th>   <td> 4.734e+04</td> <td> 6238.120</td> <td>    7.590</td> <td> 0.000</td> <td> 3.51e+04</td> <td> 5.96e+04</td>\n",
       "</tr>\n",
       "<tr>\n",
       "  <th>zip_98059</th>   <td> 1.202e+05</td> <td> 6192.441</td> <td>   19.410</td> <td> 0.000</td> <td> 1.08e+05</td> <td> 1.32e+05</td>\n",
       "</tr>\n",
       "<tr>\n",
       "  <th>zip_98065</th>   <td> 1.187e+05</td> <td> 7425.591</td> <td>   15.989</td> <td> 0.000</td> <td> 1.04e+05</td> <td> 1.33e+05</td>\n",
       "</tr>\n",
       "<tr>\n",
       "  <th>zip_98070</th>   <td> 2.533e+04</td> <td> 1.31e+04</td> <td>    1.931</td> <td> 0.053</td> <td> -380.443</td> <td>  5.1e+04</td>\n",
       "</tr>\n",
       "<tr>\n",
       "  <th>zip_98072</th>   <td> 1.854e+05</td> <td> 7850.087</td> <td>   23.615</td> <td> 0.000</td> <td>  1.7e+05</td> <td> 2.01e+05</td>\n",
       "</tr>\n",
       "<tr>\n",
       "  <th>zip_98074</th>   <td> 2.507e+05</td> <td> 6449.101</td> <td>   38.877</td> <td> 0.000</td> <td> 2.38e+05</td> <td> 2.63e+05</td>\n",
       "</tr>\n",
       "<tr>\n",
       "  <th>zip_98075</th>   <td> 2.645e+05</td> <td> 6955.472</td> <td>   38.027</td> <td> 0.000</td> <td> 2.51e+05</td> <td> 2.78e+05</td>\n",
       "</tr>\n",
       "<tr>\n",
       "  <th>zip_98077</th>   <td> 1.917e+05</td> <td> 9519.954</td> <td>   20.142</td> <td> 0.000</td> <td> 1.73e+05</td> <td>  2.1e+05</td>\n",
       "</tr>\n",
       "<tr>\n",
       "  <th>zip_98102</th>   <td> 5.156e+05</td> <td> 1.29e+04</td> <td>   40.095</td> <td> 0.000</td> <td>  4.9e+05</td> <td> 5.41e+05</td>\n",
       "</tr>\n",
       "<tr>\n",
       "  <th>zip_98103</th>   <td> 3.765e+05</td> <td> 6107.026</td> <td>   61.649</td> <td> 0.000</td> <td> 3.65e+05</td> <td> 3.88e+05</td>\n",
       "</tr>\n",
       "<tr>\n",
       "  <th>zip_98105</th>   <td> 4.953e+05</td> <td> 8725.567</td> <td>   56.759</td> <td> 0.000</td> <td> 4.78e+05</td> <td> 5.12e+05</td>\n",
       "</tr>\n",
       "<tr>\n",
       "  <th>zip_98106</th>   <td> 1.386e+05</td> <td> 7079.546</td> <td>   19.581</td> <td> 0.000</td> <td> 1.25e+05</td> <td> 1.53e+05</td>\n",
       "</tr>\n",
       "<tr>\n",
       "  <th>zip_98107</th>   <td> 3.725e+05</td> <td> 8126.959</td> <td>   45.829</td> <td> 0.000</td> <td> 3.57e+05</td> <td> 3.88e+05</td>\n",
       "</tr>\n",
       "<tr>\n",
       "  <th>zip_98108</th>   <td> 1.331e+05</td> <td> 9166.070</td> <td>   14.517</td> <td> 0.000</td> <td> 1.15e+05</td> <td> 1.51e+05</td>\n",
       "</tr>\n",
       "<tr>\n",
       "  <th>zip_98109</th>   <td> 5.337e+05</td> <td> 1.23e+04</td> <td>   43.316</td> <td> 0.000</td> <td>  5.1e+05</td> <td> 5.58e+05</td>\n",
       "</tr>\n",
       "<tr>\n",
       "  <th>zip_98112</th>   <td> 5.949e+05</td> <td> 8636.908</td> <td>   68.877</td> <td> 0.000</td> <td> 5.78e+05</td> <td> 6.12e+05</td>\n",
       "</tr>\n",
       "<tr>\n",
       "  <th>zip_98115</th>   <td> 3.656e+05</td> <td> 5879.063</td> <td>   62.187</td> <td> 0.000</td> <td> 3.54e+05</td> <td> 3.77e+05</td>\n",
       "</tr>\n",
       "<tr>\n",
       "  <th>zip_98116</th>   <td> 3.323e+05</td> <td> 7290.836</td> <td>   45.584</td> <td> 0.000</td> <td> 3.18e+05</td> <td> 3.47e+05</td>\n",
       "</tr>\n",
       "<tr>\n",
       "  <th>zip_98117</th>   <td>  3.53e+05</td> <td> 6004.879</td> <td>   58.781</td> <td> 0.000</td> <td> 3.41e+05</td> <td> 3.65e+05</td>\n",
       "</tr>\n",
       "<tr>\n",
       "  <th>zip_98118</th>   <td> 1.884e+05</td> <td> 6144.320</td> <td>   30.655</td> <td> 0.000</td> <td> 1.76e+05</td> <td>    2e+05</td>\n",
       "</tr>\n",
       "<tr>\n",
       "  <th>zip_98119</th>   <td> 5.109e+05</td> <td> 9676.883</td> <td>   52.793</td> <td> 0.000</td> <td> 4.92e+05</td> <td>  5.3e+05</td>\n",
       "</tr>\n",
       "<tr>\n",
       "  <th>zip_98122</th>   <td> 3.808e+05</td> <td> 7901.052</td> <td>   48.194</td> <td> 0.000</td> <td> 3.65e+05</td> <td> 3.96e+05</td>\n",
       "</tr>\n",
       "<tr>\n",
       "  <th>zip_98125</th>   <td> 2.167e+05</td> <td> 6528.708</td> <td>   33.197</td> <td> 0.000</td> <td> 2.04e+05</td> <td>  2.3e+05</td>\n",
       "</tr>\n",
       "<tr>\n",
       "  <th>zip_98126</th>   <td> 2.095e+05</td> <td> 7047.084</td> <td>   29.724</td> <td> 0.000</td> <td> 1.96e+05</td> <td> 2.23e+05</td>\n",
       "</tr>\n",
       "<tr>\n",
       "  <th>zip_98133</th>   <td>  1.75e+05</td> <td> 6071.182</td> <td>   28.826</td> <td> 0.000</td> <td> 1.63e+05</td> <td> 1.87e+05</td>\n",
       "</tr>\n",
       "<tr>\n",
       "  <th>zip_98136</th>   <td> 2.793e+05</td> <td> 8014.168</td> <td>   34.852</td> <td> 0.000</td> <td> 2.64e+05</td> <td> 2.95e+05</td>\n",
       "</tr>\n",
       "<tr>\n",
       "  <th>zip_98144</th>   <td> 2.849e+05</td> <td> 7400.802</td> <td>   38.495</td> <td> 0.000</td> <td>  2.7e+05</td> <td> 2.99e+05</td>\n",
       "</tr>\n",
       "<tr>\n",
       "  <th>zip_98146</th>   <td> 1.145e+05</td> <td> 7480.893</td> <td>   15.301</td> <td> 0.000</td> <td> 9.98e+04</td> <td> 1.29e+05</td>\n",
       "</tr>\n",
       "<tr>\n",
       "  <th>zip_98148</th>   <td> 7.474e+04</td> <td> 1.59e+04</td> <td>    4.708</td> <td> 0.000</td> <td> 4.36e+04</td> <td> 1.06e+05</td>\n",
       "</tr>\n",
       "<tr>\n",
       "  <th>zip_98155</th>   <td> 1.518e+05</td> <td> 6215.721</td> <td>   24.429</td> <td> 0.000</td> <td>  1.4e+05</td> <td> 1.64e+05</td>\n",
       "</tr>\n",
       "<tr>\n",
       "  <th>zip_98166</th>   <td> 9.858e+04</td> <td> 8125.431</td> <td>   12.132</td> <td> 0.000</td> <td> 8.26e+04</td> <td> 1.15e+05</td>\n",
       "</tr>\n",
       "<tr>\n",
       "  <th>zip_98168</th>   <td> 4.394e+04</td> <td> 7847.305</td> <td>    5.600</td> <td> 0.000</td> <td> 2.86e+04</td> <td> 5.93e+04</td>\n",
       "</tr>\n",
       "<tr>\n",
       "  <th>zip_98177</th>   <td> 2.542e+05</td> <td> 8020.869</td> <td>   31.691</td> <td> 0.000</td> <td> 2.38e+05</td> <td>  2.7e+05</td>\n",
       "</tr>\n",
       "<tr>\n",
       "  <th>zip_98178</th>   <td> 4.517e+04</td> <td> 7886.889</td> <td>    5.727</td> <td> 0.000</td> <td> 2.97e+04</td> <td> 6.06e+04</td>\n",
       "</tr>\n",
       "<tr>\n",
       "  <th>zip_98188</th>   <td> 2.987e+04</td> <td> 1.06e+04</td> <td>    2.826</td> <td> 0.005</td> <td> 9154.807</td> <td> 5.06e+04</td>\n",
       "</tr>\n",
       "<tr>\n",
       "  <th>zip_98198</th>   <td> 1.964e+04</td> <td> 7726.804</td> <td>    2.541</td> <td> 0.011</td> <td> 4492.295</td> <td> 3.48e+04</td>\n",
       "</tr>\n",
       "<tr>\n",
       "  <th>zip_98199</th>   <td> 4.215e+05</td> <td> 7577.681</td> <td>   55.625</td> <td> 0.000</td> <td> 4.07e+05</td> <td> 4.36e+05</td>\n",
       "</tr>\n",
       "</table>\n",
       "<table class=\"simpletable\">\n",
       "<tr>\n",
       "  <th>Omnibus:</th>       <td>3395.313</td> <th>  Durbin-Watson:     </th> <td>   1.973</td> \n",
       "</tr>\n",
       "<tr>\n",
       "  <th>Prob(Omnibus):</th>  <td> 0.000</td>  <th>  Jarque-Bera (JB):  </th> <td>17944.697</td>\n",
       "</tr>\n",
       "<tr>\n",
       "  <th>Skew:</th>           <td> 0.794</td>  <th>  Prob(JB):          </th> <td>    0.00</td> \n",
       "</tr>\n",
       "<tr>\n",
       "  <th>Kurtosis:</th>       <td> 7.578</td>  <th>  Cond. No.          </th> <td>6.97e+04</td> \n",
       "</tr>\n",
       "</table><br/><br/>Notes:<br/>[1] Standard Errors assume that the covariance matrix of the errors is correctly specified.<br/>[2] The condition number is large, 6.97e+04. This might indicate that there are<br/>strong multicollinearity or other numerical problems."
      ],
      "text/plain": [
       "<class 'statsmodels.iolib.summary.Summary'>\n",
       "\"\"\"\n",
       "                            OLS Regression Results                            \n",
       "==============================================================================\n",
       "Dep. Variable:                  price   R-squared:                       0.808\n",
       "Model:                            OLS   Adj. R-squared:                  0.807\n",
       "Method:                 Least Squares   F-statistic:                     1022.\n",
       "Date:                Tue, 26 Jan 2021   Prob (F-statistic):               0.00\n",
       "Time:                        14:38:42   Log-Likelihood:            -2.3921e+05\n",
       "No. Observations:               18344   AIC:                         4.786e+05\n",
       "Df Residuals:                   18268   BIC:                         4.792e+05\n",
       "Df Model:                          75                                         \n",
       "Covariance Type:            nonrobust                                         \n",
       "===============================================================================\n",
       "                  coef    std err          t      P>|t|      [0.025      0.975]\n",
       "-------------------------------------------------------------------------------\n",
       "Intercept   -3.766e+05   1.81e+04    -20.833      0.000   -4.12e+05   -3.41e+05\n",
       "bedrooms    -1.759e+04   1229.955    -14.298      0.000      -2e+04   -1.52e+04\n",
       "sqft_living   172.9268      1.732     99.846      0.000     169.532     176.322\n",
       "sqft_lot     3.384e+04   1603.614     21.103      0.000    3.07e+04     3.7e+04\n",
       "waterfront   2.663e+05   1.39e+04     19.170      0.000    2.39e+05    2.94e+05\n",
       "view          5.23e+04   1373.036     38.088      0.000    4.96e+04     5.5e+04\n",
       "dec_built    2060.9391    472.837      4.359      0.000    1134.135    2987.743\n",
       "cond_3       3.916e+04   8859.587      4.420      0.000    2.18e+04    5.65e+04\n",
       "cond_4       4.877e+04   8895.471      5.482      0.000    3.13e+04    6.62e+04\n",
       "cond_5       8.858e+04   9253.223      9.573      0.000    7.04e+04    1.07e+05\n",
       "floor_1_5    1.969e+04   3275.897      6.011      0.000    1.33e+04    2.61e+04\n",
       "floor_2_0    3.494e+04   2459.178     14.206      0.000    3.01e+04    3.98e+04\n",
       "floor_2_5    6.792e+04    1.1e+04      6.188      0.000    4.64e+04    8.94e+04\n",
       "floor_3_0    1.449e+04   6058.978      2.392      0.017    2617.566    2.64e+04\n",
       "zip_98004    6.809e+05   8269.769     82.332      0.000    6.65e+05    6.97e+05\n",
       "zip_98005    3.749e+05   9610.396     39.012      0.000    3.56e+05    3.94e+05\n",
       "zip_98006    3.249e+05   6323.602     51.375      0.000    3.12e+05    3.37e+05\n",
       "zip_98007    3.023e+05   1.05e+04     28.709      0.000    2.82e+05    3.23e+05\n",
       "zip_98008    2.781e+05   7594.416     36.618      0.000    2.63e+05    2.93e+05\n",
       "zip_98010    6.235e+04   1.34e+04      4.637      0.000     3.6e+04    8.87e+04\n",
       "zip_98011    1.529e+05   8896.667     17.183      0.000    1.35e+05     1.7e+05\n",
       "zip_98014    7.245e+04   1.27e+04      5.714      0.000    4.76e+04    9.73e+04\n",
       "zip_98019    7.868e+04   9533.428      8.254      0.000       6e+04    9.74e+04\n",
       "zip_98024    1.255e+05   1.64e+04      7.663      0.000    9.34e+04    1.58e+05\n",
       "zip_98027    1.992e+05   6535.887     30.485      0.000    1.86e+05    2.12e+05\n",
       "zip_98028    1.419e+05   7455.282     19.036      0.000    1.27e+05    1.57e+05\n",
       "zip_98029    2.589e+05   7147.592     36.226      0.000    2.45e+05    2.73e+05\n",
       "zip_98031     2.17e+04   7609.921      2.852      0.004    6783.985    3.66e+04\n",
       "zip_98033    3.843e+05   6453.456     59.546      0.000    3.72e+05    3.97e+05\n",
       "zip_98034    2.114e+05   5730.989     36.890      0.000       2e+05    2.23e+05\n",
       "zip_98038    3.421e+04   5660.351      6.045      0.000    2.31e+04    4.53e+04\n",
       "zip_98039    8.734e+05   2.65e+04     32.974      0.000    8.21e+05    9.25e+05\n",
       "zip_98040     5.48e+05   8284.206     66.152      0.000    5.32e+05    5.64e+05\n",
       "zip_98042    1.081e+04   5726.031      1.888      0.059    -410.653     2.2e+04\n",
       "zip_98045    9.682e+04   9034.875     10.716      0.000    7.91e+04    1.15e+05\n",
       "zip_98052    2.838e+05   5613.950     50.547      0.000    2.73e+05    2.95e+05\n",
       "zip_98053    2.429e+05   6764.354     35.913      0.000     2.3e+05    2.56e+05\n",
       "zip_98055    5.391e+04   7719.052      6.983      0.000    3.88e+04     6.9e+04\n",
       "zip_98056    1.059e+05   6430.626     16.462      0.000    9.33e+04    1.18e+05\n",
       "zip_98058    4.734e+04   6238.120      7.590      0.000    3.51e+04    5.96e+04\n",
       "zip_98059    1.202e+05   6192.441     19.410      0.000    1.08e+05    1.32e+05\n",
       "zip_98065    1.187e+05   7425.591     15.989      0.000    1.04e+05    1.33e+05\n",
       "zip_98070    2.533e+04   1.31e+04      1.931      0.053    -380.443     5.1e+04\n",
       "zip_98072    1.854e+05   7850.087     23.615      0.000     1.7e+05    2.01e+05\n",
       "zip_98074    2.507e+05   6449.101     38.877      0.000    2.38e+05    2.63e+05\n",
       "zip_98075    2.645e+05   6955.472     38.027      0.000    2.51e+05    2.78e+05\n",
       "zip_98077    1.917e+05   9519.954     20.142      0.000    1.73e+05     2.1e+05\n",
       "zip_98102    5.156e+05   1.29e+04     40.095      0.000     4.9e+05    5.41e+05\n",
       "zip_98103    3.765e+05   6107.026     61.649      0.000    3.65e+05    3.88e+05\n",
       "zip_98105    4.953e+05   8725.567     56.759      0.000    4.78e+05    5.12e+05\n",
       "zip_98106    1.386e+05   7079.546     19.581      0.000    1.25e+05    1.53e+05\n",
       "zip_98107    3.725e+05   8126.959     45.829      0.000    3.57e+05    3.88e+05\n",
       "zip_98108    1.331e+05   9166.070     14.517      0.000    1.15e+05    1.51e+05\n",
       "zip_98109    5.337e+05   1.23e+04     43.316      0.000     5.1e+05    5.58e+05\n",
       "zip_98112    5.949e+05   8636.908     68.877      0.000    5.78e+05    6.12e+05\n",
       "zip_98115    3.656e+05   5879.063     62.187      0.000    3.54e+05    3.77e+05\n",
       "zip_98116    3.323e+05   7290.836     45.584      0.000    3.18e+05    3.47e+05\n",
       "zip_98117     3.53e+05   6004.879     58.781      0.000    3.41e+05    3.65e+05\n",
       "zip_98118    1.884e+05   6144.320     30.655      0.000    1.76e+05       2e+05\n",
       "zip_98119    5.109e+05   9676.883     52.793      0.000    4.92e+05     5.3e+05\n",
       "zip_98122    3.808e+05   7901.052     48.194      0.000    3.65e+05    3.96e+05\n",
       "zip_98125    2.167e+05   6528.708     33.197      0.000    2.04e+05     2.3e+05\n",
       "zip_98126    2.095e+05   7047.084     29.724      0.000    1.96e+05    2.23e+05\n",
       "zip_98133     1.75e+05   6071.182     28.826      0.000    1.63e+05    1.87e+05\n",
       "zip_98136    2.793e+05   8014.168     34.852      0.000    2.64e+05    2.95e+05\n",
       "zip_98144    2.849e+05   7400.802     38.495      0.000     2.7e+05    2.99e+05\n",
       "zip_98146    1.145e+05   7480.893     15.301      0.000    9.98e+04    1.29e+05\n",
       "zip_98148    7.474e+04   1.59e+04      4.708      0.000    4.36e+04    1.06e+05\n",
       "zip_98155    1.518e+05   6215.721     24.429      0.000     1.4e+05    1.64e+05\n",
       "zip_98166    9.858e+04   8125.431     12.132      0.000    8.26e+04    1.15e+05\n",
       "zip_98168    4.394e+04   7847.305      5.600      0.000    2.86e+04    5.93e+04\n",
       "zip_98177    2.542e+05   8020.869     31.691      0.000    2.38e+05     2.7e+05\n",
       "zip_98178    4.517e+04   7886.889      5.727      0.000    2.97e+04    6.06e+04\n",
       "zip_98188    2.987e+04   1.06e+04      2.826      0.005    9154.807    5.06e+04\n",
       "zip_98198    1.964e+04   7726.804      2.541      0.011    4492.295    3.48e+04\n",
       "zip_98199    4.215e+05   7577.681     55.625      0.000    4.07e+05    4.36e+05\n",
       "==============================================================================\n",
       "Omnibus:                     3395.313   Durbin-Watson:                   1.973\n",
       "Prob(Omnibus):                  0.000   Jarque-Bera (JB):            17944.697\n",
       "Skew:                           0.794   Prob(JB):                         0.00\n",
       "Kurtosis:                       7.578   Cond. No.                     6.97e+04\n",
       "==============================================================================\n",
       "\n",
       "Notes:\n",
       "[1] Standard Errors assume that the covariance matrix of the errors is correctly specified.\n",
       "[2] The condition number is large, 6.97e+04. This might indicate that there are\n",
       "strong multicollinearity or other numerical problems.\n",
       "\"\"\""
      ]
     },
     "execution_count": 82,
     "metadata": {},
     "output_type": "execute_result"
    }
   ],
   "source": [
    "model_4 = ols(formula=f, data=df_d).fit()\n",
    "model_4.summary()"
   ]
  },
  {
   "cell_type": "markdown",
   "metadata": {},
   "source": [
    "A couple more zipcode dummy columns have coefficients with p-values over 0.05. I drop these last columns before finishing my model. "
   ]
  },
  {
   "cell_type": "code",
   "execution_count": 83,
   "metadata": {},
   "outputs": [],
   "source": [
    "df_d.drop(['zip_98042','zip_98070'], axis=1, inplace=True)"
   ]
  },
  {
   "cell_type": "code",
   "execution_count": 84,
   "metadata": {},
   "outputs": [],
   "source": [
    "df_pred = df_d.drop(['price', 'id'], axis=1)"
   ]
  },
  {
   "cell_type": "code",
   "execution_count": 85,
   "metadata": {},
   "outputs": [],
   "source": [
    "outcome = 'price'\n",
    "x_cols = df_pred.columns\n",
    "predictors = '+'.join(x_cols)\n",
    "\n",
    "f = outcome + '~' + predictors"
   ]
  },
  {
   "cell_type": "code",
   "execution_count": 86,
   "metadata": {},
   "outputs": [
    {
     "data": {
      "text/html": [
       "<table class=\"simpletable\">\n",
       "<caption>OLS Regression Results</caption>\n",
       "<tr>\n",
       "  <th>Dep. Variable:</th>          <td>price</td>      <th>  R-squared:         </th>  <td>   0.808</td>  \n",
       "</tr>\n",
       "<tr>\n",
       "  <th>Model:</th>                   <td>OLS</td>       <th>  Adj. R-squared:    </th>  <td>   0.807</td>  \n",
       "</tr>\n",
       "<tr>\n",
       "  <th>Method:</th>             <td>Least Squares</td>  <th>  F-statistic:       </th>  <td>   1050.</td>  \n",
       "</tr>\n",
       "<tr>\n",
       "  <th>Date:</th>             <td>Tue, 26 Jan 2021</td> <th>  Prob (F-statistic):</th>   <td>  0.00</td>   \n",
       "</tr>\n",
       "<tr>\n",
       "  <th>Time:</th>                 <td>14:38:44</td>     <th>  Log-Likelihood:    </th> <td>-2.3922e+05</td>\n",
       "</tr>\n",
       "<tr>\n",
       "  <th>No. Observations:</th>      <td> 18344</td>      <th>  AIC:               </th>  <td>4.786e+05</td> \n",
       "</tr>\n",
       "<tr>\n",
       "  <th>Df Residuals:</th>          <td> 18270</td>      <th>  BIC:               </th>  <td>4.792e+05</td> \n",
       "</tr>\n",
       "<tr>\n",
       "  <th>Df Model:</th>              <td>    73</td>      <th>                     </th>      <td> </td>     \n",
       "</tr>\n",
       "<tr>\n",
       "  <th>Covariance Type:</th>      <td>nonrobust</td>    <th>                     </th>      <td> </td>     \n",
       "</tr>\n",
       "</table>\n",
       "<table class=\"simpletable\">\n",
       "<tr>\n",
       "       <td></td>          <th>coef</th>     <th>std err</th>      <th>t</th>      <th>P>|t|</th>  <th>[0.025</th>    <th>0.975]</th>  \n",
       "</tr>\n",
       "<tr>\n",
       "  <th>Intercept</th>   <td>-3.773e+05</td> <td>  1.8e+04</td> <td>  -20.903</td> <td> 0.000</td> <td>-4.13e+05</td> <td>-3.42e+05</td>\n",
       "</tr>\n",
       "<tr>\n",
       "  <th>bedrooms</th>    <td>-1.768e+04</td> <td> 1229.112</td> <td>  -14.384</td> <td> 0.000</td> <td>-2.01e+04</td> <td>-1.53e+04</td>\n",
       "</tr>\n",
       "<tr>\n",
       "  <th>sqft_living</th> <td>  172.7867</td> <td>    1.731</td> <td>   99.812</td> <td> 0.000</td> <td>  169.394</td> <td>  176.180</td>\n",
       "</tr>\n",
       "<tr>\n",
       "  <th>sqft_lot</th>    <td> 3.426e+04</td> <td> 1592.575</td> <td>   21.513</td> <td> 0.000</td> <td> 3.11e+04</td> <td> 3.74e+04</td>\n",
       "</tr>\n",
       "<tr>\n",
       "  <th>waterfront</th>  <td> 2.711e+05</td> <td> 1.36e+04</td> <td>   19.878</td> <td> 0.000</td> <td> 2.44e+05</td> <td> 2.98e+05</td>\n",
       "</tr>\n",
       "<tr>\n",
       "  <th>view</th>        <td> 5.234e+04</td> <td> 1371.950</td> <td>   38.147</td> <td> 0.000</td> <td> 4.96e+04</td> <td>  5.5e+04</td>\n",
       "</tr>\n",
       "<tr>\n",
       "  <th>dec_built</th>   <td> 2115.1629</td> <td>  472.322</td> <td>    4.478</td> <td> 0.000</td> <td> 1189.367</td> <td> 3040.959</td>\n",
       "</tr>\n",
       "<tr>\n",
       "  <th>cond_3</th>      <td> 3.869e+04</td> <td> 8858.449</td> <td>    4.367</td> <td> 0.000</td> <td> 2.13e+04</td> <td> 5.61e+04</td>\n",
       "</tr>\n",
       "<tr>\n",
       "  <th>cond_4</th>      <td> 4.846e+04</td> <td> 8895.258</td> <td>    5.448</td> <td> 0.000</td> <td>  3.1e+04</td> <td> 6.59e+04</td>\n",
       "</tr>\n",
       "<tr>\n",
       "  <th>cond_5</th>      <td> 8.855e+04</td> <td> 9253.219</td> <td>    9.569</td> <td> 0.000</td> <td> 7.04e+04</td> <td> 1.07e+05</td>\n",
       "</tr>\n",
       "<tr>\n",
       "  <th>floor_1_5</th>   <td> 1.984e+04</td> <td> 3275.290</td> <td>    6.056</td> <td> 0.000</td> <td> 1.34e+04</td> <td> 2.63e+04</td>\n",
       "</tr>\n",
       "<tr>\n",
       "  <th>floor_2_0</th>   <td> 3.521e+04</td> <td> 2457.065</td> <td>   14.332</td> <td> 0.000</td> <td> 3.04e+04</td> <td>    4e+04</td>\n",
       "</tr>\n",
       "<tr>\n",
       "  <th>floor_2_5</th>   <td> 6.827e+04</td> <td>  1.1e+04</td> <td>    6.220</td> <td> 0.000</td> <td> 4.68e+04</td> <td> 8.98e+04</td>\n",
       "</tr>\n",
       "<tr>\n",
       "  <th>floor_3_0</th>   <td>  1.48e+04</td> <td> 6056.794</td> <td>    2.444</td> <td> 0.015</td> <td> 2931.210</td> <td> 2.67e+04</td>\n",
       "</tr>\n",
       "<tr>\n",
       "  <th>zip_98004</th>   <td> 6.782e+05</td> <td> 8194.548</td> <td>   82.766</td> <td> 0.000</td> <td> 6.62e+05</td> <td> 6.94e+05</td>\n",
       "</tr>\n",
       "<tr>\n",
       "  <th>zip_98005</th>   <td> 3.722e+05</td> <td> 9542.005</td> <td>   39.004</td> <td> 0.000</td> <td> 3.53e+05</td> <td> 3.91e+05</td>\n",
       "</tr>\n",
       "<tr>\n",
       "  <th>zip_98006</th>   <td> 3.221e+05</td> <td> 6216.421</td> <td>   51.814</td> <td> 0.000</td> <td>  3.1e+05</td> <td> 3.34e+05</td>\n",
       "</tr>\n",
       "<tr>\n",
       "  <th>zip_98007</th>   <td> 2.997e+05</td> <td> 1.05e+04</td> <td>   28.621</td> <td> 0.000</td> <td> 2.79e+05</td> <td>  3.2e+05</td>\n",
       "</tr>\n",
       "<tr>\n",
       "  <th>zip_98008</th>   <td> 2.755e+05</td> <td> 7514.071</td> <td>   36.661</td> <td> 0.000</td> <td> 2.61e+05</td> <td>  2.9e+05</td>\n",
       "</tr>\n",
       "<tr>\n",
       "  <th>zip_98010</th>   <td> 5.932e+04</td> <td> 1.34e+04</td> <td>    4.429</td> <td> 0.000</td> <td> 3.31e+04</td> <td> 8.56e+04</td>\n",
       "</tr>\n",
       "<tr>\n",
       "  <th>zip_98011</th>   <td> 1.502e+05</td> <td> 8824.166</td> <td>   17.021</td> <td> 0.000</td> <td> 1.33e+05</td> <td> 1.67e+05</td>\n",
       "</tr>\n",
       "<tr>\n",
       "  <th>zip_98014</th>   <td> 6.933e+04</td> <td> 1.26e+04</td> <td>    5.495</td> <td> 0.000</td> <td> 4.46e+04</td> <td> 9.41e+04</td>\n",
       "</tr>\n",
       "<tr>\n",
       "  <th>zip_98019</th>   <td> 7.583e+04</td> <td> 9458.675</td> <td>    8.016</td> <td> 0.000</td> <td> 5.73e+04</td> <td> 9.44e+04</td>\n",
       "</tr>\n",
       "<tr>\n",
       "  <th>zip_98024</th>   <td> 1.225e+05</td> <td> 1.63e+04</td> <td>    7.500</td> <td> 0.000</td> <td> 9.05e+04</td> <td> 1.55e+05</td>\n",
       "</tr>\n",
       "<tr>\n",
       "  <th>zip_98027</th>   <td> 1.964e+05</td> <td> 6428.795</td> <td>   30.556</td> <td> 0.000</td> <td> 1.84e+05</td> <td> 2.09e+05</td>\n",
       "</tr>\n",
       "<tr>\n",
       "  <th>zip_98028</th>   <td> 1.392e+05</td> <td> 7367.760</td> <td>   18.894</td> <td> 0.000</td> <td> 1.25e+05</td> <td> 1.54e+05</td>\n",
       "</tr>\n",
       "<tr>\n",
       "  <th>zip_98029</th>   <td> 2.563e+05</td> <td> 7054.510</td> <td>   36.330</td> <td> 0.000</td> <td> 2.42e+05</td> <td>  2.7e+05</td>\n",
       "</tr>\n",
       "<tr>\n",
       "  <th>zip_98031</th>   <td> 1.897e+04</td> <td> 7521.266</td> <td>    2.522</td> <td> 0.012</td> <td> 4226.003</td> <td> 3.37e+04</td>\n",
       "</tr>\n",
       "<tr>\n",
       "  <th>zip_98033</th>   <td> 3.816e+05</td> <td> 6351.616</td> <td>   60.078</td> <td> 0.000</td> <td> 3.69e+05</td> <td> 3.94e+05</td>\n",
       "</tr>\n",
       "<tr>\n",
       "  <th>zip_98034</th>   <td> 2.088e+05</td> <td> 5620.466</td> <td>   37.146</td> <td> 0.000</td> <td> 1.98e+05</td> <td>  2.2e+05</td>\n",
       "</tr>\n",
       "<tr>\n",
       "  <th>zip_98038</th>   <td> 3.144e+04</td> <td> 5534.944</td> <td>    5.680</td> <td> 0.000</td> <td> 2.06e+04</td> <td> 4.23e+04</td>\n",
       "</tr>\n",
       "<tr>\n",
       "  <th>zip_98039</th>   <td> 8.707e+05</td> <td> 2.65e+04</td> <td>   32.899</td> <td> 0.000</td> <td> 8.19e+05</td> <td> 9.23e+05</td>\n",
       "</tr>\n",
       "<tr>\n",
       "  <th>zip_98040</th>   <td> 5.453e+05</td> <td> 8204.775</td> <td>   66.458</td> <td> 0.000</td> <td> 5.29e+05</td> <td> 5.61e+05</td>\n",
       "</tr>\n",
       "<tr>\n",
       "  <th>zip_98045</th>   <td> 9.383e+04</td> <td> 8952.385</td> <td>   10.481</td> <td> 0.000</td> <td> 7.63e+04</td> <td> 1.11e+05</td>\n",
       "</tr>\n",
       "<tr>\n",
       "  <th>zip_98052</th>   <td> 2.811e+05</td> <td> 5495.057</td> <td>   51.150</td> <td> 0.000</td> <td>  2.7e+05</td> <td> 2.92e+05</td>\n",
       "</tr>\n",
       "<tr>\n",
       "  <th>zip_98053</th>   <td>   2.4e+05</td> <td> 6656.247</td> <td>   36.063</td> <td> 0.000</td> <td> 2.27e+05</td> <td> 2.53e+05</td>\n",
       "</tr>\n",
       "<tr>\n",
       "  <th>zip_98055</th>   <td>  5.13e+04</td> <td> 7639.588</td> <td>    6.715</td> <td> 0.000</td> <td> 3.63e+04</td> <td> 6.63e+04</td>\n",
       "</tr>\n",
       "<tr>\n",
       "  <th>zip_98056</th>   <td> 1.031e+05</td> <td> 6326.223</td> <td>   16.305</td> <td> 0.000</td> <td> 9.07e+04</td> <td> 1.16e+05</td>\n",
       "</tr>\n",
       "<tr>\n",
       "  <th>zip_98058</th>   <td> 4.461e+04</td> <td> 6130.111</td> <td>    7.277</td> <td> 0.000</td> <td> 3.26e+04</td> <td> 5.66e+04</td>\n",
       "</tr>\n",
       "<tr>\n",
       "  <th>zip_98059</th>   <td> 1.174e+05</td> <td> 6079.712</td> <td>   19.315</td> <td> 0.000</td> <td> 1.06e+05</td> <td> 1.29e+05</td>\n",
       "</tr>\n",
       "<tr>\n",
       "  <th>zip_98065</th>   <td>  1.16e+05</td> <td> 7335.302</td> <td>   15.820</td> <td> 0.000</td> <td> 1.02e+05</td> <td>  1.3e+05</td>\n",
       "</tr>\n",
       "<tr>\n",
       "  <th>zip_98072</th>   <td> 1.824e+05</td> <td> 7756.992</td> <td>   23.519</td> <td> 0.000</td> <td> 1.67e+05</td> <td> 1.98e+05</td>\n",
       "</tr>\n",
       "<tr>\n",
       "  <th>zip_98074</th>   <td> 2.479e+05</td> <td> 6341.696</td> <td>   39.096</td> <td> 0.000</td> <td> 2.36e+05</td> <td>  2.6e+05</td>\n",
       "</tr>\n",
       "<tr>\n",
       "  <th>zip_98075</th>   <td> 2.616e+05</td> <td> 6851.802</td> <td>   38.184</td> <td> 0.000</td> <td> 2.48e+05</td> <td> 2.75e+05</td>\n",
       "</tr>\n",
       "<tr>\n",
       "  <th>zip_98077</th>   <td> 1.886e+05</td> <td> 9434.378</td> <td>   19.988</td> <td> 0.000</td> <td>  1.7e+05</td> <td> 2.07e+05</td>\n",
       "</tr>\n",
       "<tr>\n",
       "  <th>zip_98102</th>   <td> 5.134e+05</td> <td> 1.28e+04</td> <td>   40.042</td> <td> 0.000</td> <td> 4.88e+05</td> <td> 5.39e+05</td>\n",
       "</tr>\n",
       "<tr>\n",
       "  <th>zip_98103</th>   <td> 3.742e+05</td> <td> 6025.063</td> <td>   62.114</td> <td> 0.000</td> <td> 3.62e+05</td> <td> 3.86e+05</td>\n",
       "</tr>\n",
       "<tr>\n",
       "  <th>zip_98105</th>   <td>  4.93e+05</td> <td> 8669.063</td> <td>   56.869</td> <td> 0.000</td> <td> 4.76e+05</td> <td>  5.1e+05</td>\n",
       "</tr>\n",
       "<tr>\n",
       "  <th>zip_98106</th>   <td> 1.362e+05</td> <td> 7001.145</td> <td>   19.457</td> <td> 0.000</td> <td> 1.22e+05</td> <td>  1.5e+05</td>\n",
       "</tr>\n",
       "<tr>\n",
       "  <th>zip_98107</th>   <td> 3.702e+05</td> <td> 8064.951</td> <td>   45.901</td> <td> 0.000</td> <td> 3.54e+05</td> <td> 3.86e+05</td>\n",
       "</tr>\n",
       "<tr>\n",
       "  <th>zip_98108</th>   <td> 1.307e+05</td> <td> 9107.155</td> <td>   14.349</td> <td> 0.000</td> <td> 1.13e+05</td> <td> 1.49e+05</td>\n",
       "</tr>\n",
       "<tr>\n",
       "  <th>zip_98109</th>   <td> 5.315e+05</td> <td> 1.23e+04</td> <td>   43.271</td> <td> 0.000</td> <td> 5.07e+05</td> <td> 5.56e+05</td>\n",
       "</tr>\n",
       "<tr>\n",
       "  <th>zip_98112</th>   <td> 5.926e+05</td> <td> 8579.230</td> <td>   69.079</td> <td> 0.000</td> <td> 5.76e+05</td> <td> 6.09e+05</td>\n",
       "</tr>\n",
       "<tr>\n",
       "  <th>zip_98115</th>   <td> 3.633e+05</td> <td> 5789.418</td> <td>   62.744</td> <td> 0.000</td> <td> 3.52e+05</td> <td> 3.75e+05</td>\n",
       "</tr>\n",
       "<tr>\n",
       "  <th>zip_98116</th>   <td>   3.3e+05</td> <td> 7218.524</td> <td>   45.712</td> <td> 0.000</td> <td> 3.16e+05</td> <td> 3.44e+05</td>\n",
       "</tr>\n",
       "<tr>\n",
       "  <th>zip_98117</th>   <td> 3.507e+05</td> <td> 5918.889</td> <td>   59.243</td> <td> 0.000</td> <td> 3.39e+05</td> <td> 3.62e+05</td>\n",
       "</tr>\n",
       "<tr>\n",
       "  <th>zip_98118</th>   <td>  1.86e+05</td> <td> 6057.532</td> <td>   30.700</td> <td> 0.000</td> <td> 1.74e+05</td> <td> 1.98e+05</td>\n",
       "</tr>\n",
       "<tr>\n",
       "  <th>zip_98119</th>   <td> 5.087e+05</td> <td> 9628.355</td> <td>   52.832</td> <td> 0.000</td> <td>  4.9e+05</td> <td> 5.28e+05</td>\n",
       "</tr>\n",
       "<tr>\n",
       "  <th>zip_98122</th>   <td> 3.786e+05</td> <td> 7838.534</td> <td>   48.296</td> <td> 0.000</td> <td> 3.63e+05</td> <td> 3.94e+05</td>\n",
       "</tr>\n",
       "<tr>\n",
       "  <th>zip_98125</th>   <td> 2.142e+05</td> <td> 6440.185</td> <td>   33.258</td> <td> 0.000</td> <td> 2.02e+05</td> <td> 2.27e+05</td>\n",
       "</tr>\n",
       "<tr>\n",
       "  <th>zip_98126</th>   <td> 2.071e+05</td> <td> 6970.350</td> <td>   29.705</td> <td> 0.000</td> <td> 1.93e+05</td> <td> 2.21e+05</td>\n",
       "</tr>\n",
       "<tr>\n",
       "  <th>zip_98133</th>   <td> 1.725e+05</td> <td> 5974.067</td> <td>   28.873</td> <td> 0.000</td> <td> 1.61e+05</td> <td> 1.84e+05</td>\n",
       "</tr>\n",
       "<tr>\n",
       "  <th>zip_98136</th>   <td> 2.768e+05</td> <td> 7946.018</td> <td>   34.840</td> <td> 0.000</td> <td> 2.61e+05</td> <td> 2.92e+05</td>\n",
       "</tr>\n",
       "<tr>\n",
       "  <th>zip_98144</th>   <td> 2.826e+05</td> <td> 7331.611</td> <td>   38.548</td> <td> 0.000</td> <td> 2.68e+05</td> <td> 2.97e+05</td>\n",
       "</tr>\n",
       "<tr>\n",
       "  <th>zip_98146</th>   <td> 1.118e+05</td> <td> 7399.215</td> <td>   15.106</td> <td> 0.000</td> <td> 9.73e+04</td> <td> 1.26e+05</td>\n",
       "</tr>\n",
       "<tr>\n",
       "  <th>zip_98148</th>   <td> 7.212e+04</td> <td> 1.58e+04</td> <td>    4.554</td> <td> 0.000</td> <td> 4.11e+04</td> <td> 1.03e+05</td>\n",
       "</tr>\n",
       "<tr>\n",
       "  <th>zip_98155</th>   <td> 1.492e+05</td> <td> 6116.503</td> <td>   24.395</td> <td> 0.000</td> <td> 1.37e+05</td> <td> 1.61e+05</td>\n",
       "</tr>\n",
       "<tr>\n",
       "  <th>zip_98166</th>   <td> 9.566e+04</td> <td> 8041.861</td> <td>   11.896</td> <td> 0.000</td> <td> 7.99e+04</td> <td> 1.11e+05</td>\n",
       "</tr>\n",
       "<tr>\n",
       "  <th>zip_98168</th>   <td>  4.13e+04</td> <td> 7770.589</td> <td>    5.315</td> <td> 0.000</td> <td> 2.61e+04</td> <td> 5.65e+04</td>\n",
       "</tr>\n",
       "<tr>\n",
       "  <th>zip_98177</th>   <td> 2.516e+05</td> <td> 7947.695</td> <td>   31.656</td> <td> 0.000</td> <td> 2.36e+05</td> <td> 2.67e+05</td>\n",
       "</tr>\n",
       "<tr>\n",
       "  <th>zip_98178</th>   <td>  4.25e+04</td> <td> 7811.595</td> <td>    5.441</td> <td> 0.000</td> <td> 2.72e+04</td> <td> 5.78e+04</td>\n",
       "</tr>\n",
       "<tr>\n",
       "  <th>zip_98188</th>   <td> 2.725e+04</td> <td> 1.05e+04</td> <td>    2.592</td> <td> 0.010</td> <td> 6646.390</td> <td> 4.79e+04</td>\n",
       "</tr>\n",
       "<tr>\n",
       "  <th>zip_98198</th>   <td>  1.68e+04</td> <td> 7641.292</td> <td>    2.198</td> <td> 0.028</td> <td> 1817.727</td> <td> 3.18e+04</td>\n",
       "</tr>\n",
       "<tr>\n",
       "  <th>zip_98199</th>   <td> 4.192e+05</td> <td> 7507.497</td> <td>   55.832</td> <td> 0.000</td> <td> 4.04e+05</td> <td> 4.34e+05</td>\n",
       "</tr>\n",
       "</table>\n",
       "<table class=\"simpletable\">\n",
       "<tr>\n",
       "  <th>Omnibus:</th>       <td>3391.149</td> <th>  Durbin-Watson:     </th> <td>   1.973</td> \n",
       "</tr>\n",
       "<tr>\n",
       "  <th>Prob(Omnibus):</th>  <td> 0.000</td>  <th>  Jarque-Bera (JB):  </th> <td>17879.751</td>\n",
       "</tr>\n",
       "<tr>\n",
       "  <th>Skew:</th>           <td> 0.794</td>  <th>  Prob(JB):          </th> <td>    0.00</td> \n",
       "</tr>\n",
       "<tr>\n",
       "  <th>Kurtosis:</th>       <td> 7.569</td>  <th>  Cond. No.          </th> <td>6.92e+04</td> \n",
       "</tr>\n",
       "</table><br/><br/>Notes:<br/>[1] Standard Errors assume that the covariance matrix of the errors is correctly specified.<br/>[2] The condition number is large, 6.92e+04. This might indicate that there are<br/>strong multicollinearity or other numerical problems."
      ],
      "text/plain": [
       "<class 'statsmodels.iolib.summary.Summary'>\n",
       "\"\"\"\n",
       "                            OLS Regression Results                            \n",
       "==============================================================================\n",
       "Dep. Variable:                  price   R-squared:                       0.808\n",
       "Model:                            OLS   Adj. R-squared:                  0.807\n",
       "Method:                 Least Squares   F-statistic:                     1050.\n",
       "Date:                Tue, 26 Jan 2021   Prob (F-statistic):               0.00\n",
       "Time:                        14:38:44   Log-Likelihood:            -2.3922e+05\n",
       "No. Observations:               18344   AIC:                         4.786e+05\n",
       "Df Residuals:                   18270   BIC:                         4.792e+05\n",
       "Df Model:                          73                                         \n",
       "Covariance Type:            nonrobust                                         \n",
       "===============================================================================\n",
       "                  coef    std err          t      P>|t|      [0.025      0.975]\n",
       "-------------------------------------------------------------------------------\n",
       "Intercept   -3.773e+05    1.8e+04    -20.903      0.000   -4.13e+05   -3.42e+05\n",
       "bedrooms    -1.768e+04   1229.112    -14.384      0.000   -2.01e+04   -1.53e+04\n",
       "sqft_living   172.7867      1.731     99.812      0.000     169.394     176.180\n",
       "sqft_lot     3.426e+04   1592.575     21.513      0.000    3.11e+04    3.74e+04\n",
       "waterfront   2.711e+05   1.36e+04     19.878      0.000    2.44e+05    2.98e+05\n",
       "view         5.234e+04   1371.950     38.147      0.000    4.96e+04     5.5e+04\n",
       "dec_built    2115.1629    472.322      4.478      0.000    1189.367    3040.959\n",
       "cond_3       3.869e+04   8858.449      4.367      0.000    2.13e+04    5.61e+04\n",
       "cond_4       4.846e+04   8895.258      5.448      0.000     3.1e+04    6.59e+04\n",
       "cond_5       8.855e+04   9253.219      9.569      0.000    7.04e+04    1.07e+05\n",
       "floor_1_5    1.984e+04   3275.290      6.056      0.000    1.34e+04    2.63e+04\n",
       "floor_2_0    3.521e+04   2457.065     14.332      0.000    3.04e+04       4e+04\n",
       "floor_2_5    6.827e+04    1.1e+04      6.220      0.000    4.68e+04    8.98e+04\n",
       "floor_3_0     1.48e+04   6056.794      2.444      0.015    2931.210    2.67e+04\n",
       "zip_98004    6.782e+05   8194.548     82.766      0.000    6.62e+05    6.94e+05\n",
       "zip_98005    3.722e+05   9542.005     39.004      0.000    3.53e+05    3.91e+05\n",
       "zip_98006    3.221e+05   6216.421     51.814      0.000     3.1e+05    3.34e+05\n",
       "zip_98007    2.997e+05   1.05e+04     28.621      0.000    2.79e+05     3.2e+05\n",
       "zip_98008    2.755e+05   7514.071     36.661      0.000    2.61e+05     2.9e+05\n",
       "zip_98010    5.932e+04   1.34e+04      4.429      0.000    3.31e+04    8.56e+04\n",
       "zip_98011    1.502e+05   8824.166     17.021      0.000    1.33e+05    1.67e+05\n",
       "zip_98014    6.933e+04   1.26e+04      5.495      0.000    4.46e+04    9.41e+04\n",
       "zip_98019    7.583e+04   9458.675      8.016      0.000    5.73e+04    9.44e+04\n",
       "zip_98024    1.225e+05   1.63e+04      7.500      0.000    9.05e+04    1.55e+05\n",
       "zip_98027    1.964e+05   6428.795     30.556      0.000    1.84e+05    2.09e+05\n",
       "zip_98028    1.392e+05   7367.760     18.894      0.000    1.25e+05    1.54e+05\n",
       "zip_98029    2.563e+05   7054.510     36.330      0.000    2.42e+05     2.7e+05\n",
       "zip_98031    1.897e+04   7521.266      2.522      0.012    4226.003    3.37e+04\n",
       "zip_98033    3.816e+05   6351.616     60.078      0.000    3.69e+05    3.94e+05\n",
       "zip_98034    2.088e+05   5620.466     37.146      0.000    1.98e+05     2.2e+05\n",
       "zip_98038    3.144e+04   5534.944      5.680      0.000    2.06e+04    4.23e+04\n",
       "zip_98039    8.707e+05   2.65e+04     32.899      0.000    8.19e+05    9.23e+05\n",
       "zip_98040    5.453e+05   8204.775     66.458      0.000    5.29e+05    5.61e+05\n",
       "zip_98045    9.383e+04   8952.385     10.481      0.000    7.63e+04    1.11e+05\n",
       "zip_98052    2.811e+05   5495.057     51.150      0.000     2.7e+05    2.92e+05\n",
       "zip_98053      2.4e+05   6656.247     36.063      0.000    2.27e+05    2.53e+05\n",
       "zip_98055     5.13e+04   7639.588      6.715      0.000    3.63e+04    6.63e+04\n",
       "zip_98056    1.031e+05   6326.223     16.305      0.000    9.07e+04    1.16e+05\n",
       "zip_98058    4.461e+04   6130.111      7.277      0.000    3.26e+04    5.66e+04\n",
       "zip_98059    1.174e+05   6079.712     19.315      0.000    1.06e+05    1.29e+05\n",
       "zip_98065     1.16e+05   7335.302     15.820      0.000    1.02e+05     1.3e+05\n",
       "zip_98072    1.824e+05   7756.992     23.519      0.000    1.67e+05    1.98e+05\n",
       "zip_98074    2.479e+05   6341.696     39.096      0.000    2.36e+05     2.6e+05\n",
       "zip_98075    2.616e+05   6851.802     38.184      0.000    2.48e+05    2.75e+05\n",
       "zip_98077    1.886e+05   9434.378     19.988      0.000     1.7e+05    2.07e+05\n",
       "zip_98102    5.134e+05   1.28e+04     40.042      0.000    4.88e+05    5.39e+05\n",
       "zip_98103    3.742e+05   6025.063     62.114      0.000    3.62e+05    3.86e+05\n",
       "zip_98105     4.93e+05   8669.063     56.869      0.000    4.76e+05     5.1e+05\n",
       "zip_98106    1.362e+05   7001.145     19.457      0.000    1.22e+05     1.5e+05\n",
       "zip_98107    3.702e+05   8064.951     45.901      0.000    3.54e+05    3.86e+05\n",
       "zip_98108    1.307e+05   9107.155     14.349      0.000    1.13e+05    1.49e+05\n",
       "zip_98109    5.315e+05   1.23e+04     43.271      0.000    5.07e+05    5.56e+05\n",
       "zip_98112    5.926e+05   8579.230     69.079      0.000    5.76e+05    6.09e+05\n",
       "zip_98115    3.633e+05   5789.418     62.744      0.000    3.52e+05    3.75e+05\n",
       "zip_98116      3.3e+05   7218.524     45.712      0.000    3.16e+05    3.44e+05\n",
       "zip_98117    3.507e+05   5918.889     59.243      0.000    3.39e+05    3.62e+05\n",
       "zip_98118     1.86e+05   6057.532     30.700      0.000    1.74e+05    1.98e+05\n",
       "zip_98119    5.087e+05   9628.355     52.832      0.000     4.9e+05    5.28e+05\n",
       "zip_98122    3.786e+05   7838.534     48.296      0.000    3.63e+05    3.94e+05\n",
       "zip_98125    2.142e+05   6440.185     33.258      0.000    2.02e+05    2.27e+05\n",
       "zip_98126    2.071e+05   6970.350     29.705      0.000    1.93e+05    2.21e+05\n",
       "zip_98133    1.725e+05   5974.067     28.873      0.000    1.61e+05    1.84e+05\n",
       "zip_98136    2.768e+05   7946.018     34.840      0.000    2.61e+05    2.92e+05\n",
       "zip_98144    2.826e+05   7331.611     38.548      0.000    2.68e+05    2.97e+05\n",
       "zip_98146    1.118e+05   7399.215     15.106      0.000    9.73e+04    1.26e+05\n",
       "zip_98148    7.212e+04   1.58e+04      4.554      0.000    4.11e+04    1.03e+05\n",
       "zip_98155    1.492e+05   6116.503     24.395      0.000    1.37e+05    1.61e+05\n",
       "zip_98166    9.566e+04   8041.861     11.896      0.000    7.99e+04    1.11e+05\n",
       "zip_98168     4.13e+04   7770.589      5.315      0.000    2.61e+04    5.65e+04\n",
       "zip_98177    2.516e+05   7947.695     31.656      0.000    2.36e+05    2.67e+05\n",
       "zip_98178     4.25e+04   7811.595      5.441      0.000    2.72e+04    5.78e+04\n",
       "zip_98188    2.725e+04   1.05e+04      2.592      0.010    6646.390    4.79e+04\n",
       "zip_98198     1.68e+04   7641.292      2.198      0.028    1817.727    3.18e+04\n",
       "zip_98199    4.192e+05   7507.497     55.832      0.000    4.04e+05    4.34e+05\n",
       "==============================================================================\n",
       "Omnibus:                     3391.149   Durbin-Watson:                   1.973\n",
       "Prob(Omnibus):                  0.000   Jarque-Bera (JB):            17879.751\n",
       "Skew:                           0.794   Prob(JB):                         0.00\n",
       "Kurtosis:                       7.569   Cond. No.                     6.92e+04\n",
       "==============================================================================\n",
       "\n",
       "Notes:\n",
       "[1] Standard Errors assume that the covariance matrix of the errors is correctly specified.\n",
       "[2] The condition number is large, 6.92e+04. This might indicate that there are\n",
       "strong multicollinearity or other numerical problems.\n",
       "\"\"\""
      ]
     },
     "execution_count": 86,
     "metadata": {},
     "output_type": "execute_result"
    }
   ],
   "source": [
    "model_4 = ols(formula=f, data=df_d).fit()\n",
    "model_4.summary()"
   ]
  },
  {
   "cell_type": "code",
   "execution_count": 87,
   "metadata": {},
   "outputs": [],
   "source": [
    "data = df_d.copy()\n",
    "\n",
    "y = data['price']\n",
    "X = data.drop(['price', 'id'], axis = 1)"
   ]
  },
  {
   "cell_type": "code",
   "execution_count": 88,
   "metadata": {},
   "outputs": [],
   "source": [
    "X_train, X_test, y_train, y_test = train_test_split(X, y, test_size=0.2)"
   ]
  },
  {
   "cell_type": "code",
   "execution_count": 89,
   "metadata": {},
   "outputs": [],
   "source": [
    "linreg = LinearRegression()\n",
    "linreg.fit(X_train, y_train)\n",
    "\n",
    "y_hat_train = linreg.predict(X_train)\n",
    "y_hat_test = linreg.predict(X_test)"
   ]
  },
  {
   "cell_type": "code",
   "execution_count": 90,
   "metadata": {},
   "outputs": [
    {
     "name": "stdout",
     "output_type": "stream",
     "text": [
      "Train MSE: 12376772008.866838\n",
      "Test MSE: 12705384692.355526\n",
      "RMSE Train: 111250.94160889983\n",
      "RMSE Test: 112718.16487308302\n"
     ]
    }
   ],
   "source": [
    "mse_train = mean_squared_error(y_train, y_hat_train)\n",
    "mse_test = mean_squared_error(y_test, y_hat_test)\n",
    "\n",
    "print('Train MSE:', mse_train)\n",
    "print('Test MSE:', mse_test)\n",
    "\n",
    "print('RMSE Train:', np.sqrt(mse_train))\n",
    "print('RMSE Test:', np.sqrt(mse_test))"
   ]
  },
  {
   "cell_type": "code",
   "execution_count": 91,
   "metadata": {},
   "outputs": [
    {
     "data": {
      "image/png": "[encoded data removed]",
      "text/plain": [
       "<Figure size 432x288 with 1 Axes>"
      ]
     },
     "execution_count": 91,
     "metadata": {},
     "output_type": "execute_result"
    },
    {
     "data": {
      "image/png": "[encoded data removed]",
      "text/plain": [
       "<Figure size 432x288 with 1 Axes>"
      ]
     },
     "metadata": {
      "needs_background": "light"
     },
     "output_type": "display_data"
    }
   ],
   "source": [
    "residuals = (y_test - y_hat_test)\n",
    "\n",
    "sm.qqplot(residuals, line = \"r\")"
   ]
  },
  {
   "cell_type": "markdown",
   "metadata": {},
   "source": [
    "# Final Model Evaluation"
   ]
  },
  {
   "cell_type": "markdown",
   "metadata": {},
   "source": [
    "My final regression model, built to predict the price of a house in King County, can be evaluated using the following metrics. \n",
    "\n",
    "* **R-squared = 0.808** : This value indicates that my model explains 80.8% of the variation in home prices from their mean value. \n",
    "\n",
    "* **Root Mean Square Error (Using Test Data) = 114522** : On average, my model's predicted price is +/- $114,522 from the home's actual value.\n",
    "\n",
    "* **Q-Q Plot (see above)** : From the plot, it seems that the residuals produced by my model have a relatively Normal distribution within 2 standard deviations of the mean. However, there is some skew, especially towards the right. In other words, my model is generally best at predicting the prices of homes that cost up to about $1,009,014."
   ]
  },
  {
   "cell_type": "markdown",
   "metadata": {},
   "source": [
    "# Conclusions"
   ]
  },
  {
   "cell_type": "markdown",
   "metadata": {},
   "source": [
    "My analysis leads to the following advice for any prospective first time home buyer in King County, WA:\n",
    "\n",
    "* Clients looking to save on their home purchase could start by looking in these zip codes: 98198, 98188, 98031, 98038, 98178, 98168 & 98058. \n",
    "* Conversely, clients looking to make a bigger investment could start by looking in these zip codes: 98039, 98004, 98119, 98112, 98109, 98102 & 98040. \n",
    "* Clients looking to save money should consider the home's condition grade, as it seems to have a sizable impact on price. Even going from an average grade to a high grade can increase a home's price significantly. \n",
    "* As expected, there seems to be significant correlation between a home's square footage & its price."
   ]
  },
  {
   "cell_type": "markdown",
   "metadata": {},
   "source": [
    "# Future Work"
   ]
  },
  {
   "cell_type": "markdown",
   "metadata": {},
   "source": [
    "Given more time, I would look at the features I had to initially omit. This would involve using the *lat* & *long* columns to further inspect the impact of specific locations (beyond zip codes) on price. Additionally, I would look at the *sqft_living15* & *sqft_lot15* columns to get insight on what neighborhoods are most expensive to live in and the overall impact of comparative size of neighbors' homes. "
   ]
  }
 ],
 "metadata": {
  "kernelspec": {
   "display_name": "Python 3",
   "language": "python",
   "name": "python3"
  },
  "language_info": {
   "codemirror_mode": {
    "name": "ipython",
    "version": 3
   },
   "file_extension": ".py",
   "mimetype": "text/x-python",
   "name": "python",
   "nbconvert_exporter": "python",
   "pygments_lexer": "ipython3",
   "version": "3.8.5"
  },
  "toc": {
   "base_numbering": 1,
   "nav_menu": {},
   "number_sections": true,
   "sideBar": true,
   "skip_h1_title": false,
   "title_cell": "Table of Contents",
   "title_sidebar": "Contents",
   "toc_cell": false,
   "toc_position": {},
   "toc_section_display": true,
   "toc_window_display": false
  },
  "varInspector": {
   "cols": {
    "lenName": 16,
    "lenType": 16,
    "lenVar": 40
   },
   "kernels_config": {
    "python": {
     "delete_cmd_postfix": "",
     "delete_cmd_prefix": "del ",
     "library": "var_list.py",
     "varRefreshCmd": "print(var_dic_list())"
    },
    "r": {
     "delete_cmd_postfix": ") ",
     "delete_cmd_prefix": "rm(",
     "library": "var_list.r",
     "varRefreshCmd": "cat(var_dic_list()) "
    }
   },
   "types_to_exclude": [
    "module",
    "function",
    "builtin_function_or_method",
    "instance",
    "_Feature"
   ],
   "window_display": false
  }
 },
 "nbformat": 4,
 "nbformat_minor": 4
}
